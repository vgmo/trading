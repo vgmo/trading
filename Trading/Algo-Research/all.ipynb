{
 "cells": [
  {
   "cell_type": "code",
   "execution_count": 2,
   "source": [
    "import pyEX\n",
    "from dotenv import load_dotenv\n",
    "load_dotenv() \n",
    "# c = pyEX.Client()\n",
    "c = pyEX.Client(version='sandbox')"
   ],
   "outputs": [],
   "metadata": {}
  },
  {
   "cell_type": "markdown",
   "source": [
    "# Symbols data"
   ],
   "metadata": {}
  },
  {
   "cell_type": "code",
   "execution_count": 3,
   "source": [
    "symbolsDF().head()"
   ],
   "outputs": [
    {
     "output_type": "execute_result",
     "data": {
      "text/plain": [
       "       exchange exchangeSuffix                 exchangeName  \\\n",
       "symbol                                                        \n",
       "A           NYS             NU  oeSN  ckxtcao rEewh YnnIkgc   \n",
       "AA          NYS             NU  no xcrkt YaoNknI ehSegE ccw   \n",
       "AAA       USPAC             UP                    yasAe cNr   \n",
       "AAAU      USPAC             UP                    A Ncaryes   \n",
       "AAC         NYS             NU  k Sncaokeg exEIcwY o Nhrtcn   \n",
       "\n",
       "                                                     name       date type  \\\n",
       "symbol                                                                      \n",
       "A                               cAenhTIlneii.gts olnegco  2021-07-27   cs   \n",
       "AA                                              arcAlpooC 2021-07-27   cs   \n",
       "AAA     TrdEi ssOtrTorLFFoni BuyFetut - sLidi nP  Fr  ... 2021-07-27   et   \n",
       "AAAU     lhEd r ylySlPahTohPTis oFa-ansaoGcc  ad s  ll... 2021-07-27   et   \n",
       "AAC                nsitnoi AC AusAsloa  ieapcorq-irr stCo 2021-07-27   cs   \n",
       "\n",
       "                       iexId region currency  isEnabled          figi  \\\n",
       "symbol                                                                  \n",
       "A       IEX_46574843354B2D52     US      USD       True  B2B0D0CGV360   \n",
       "AA      IEX_4238333734532D52     US      USD       True  303BTBBGD30H   \n",
       "AAA     IEX_5030314338392D52     US      USD       True  B4F0PB850XSG   \n",
       "AAAU    IEX_474B433136332D52     US      USD       True  XXBG0L87B0P2   \n",
       "AAC                     None     US      USD       True  0GBC2ZB91Y0Z   \n",
       "\n",
       "            cik                   lei  \n",
       "symbol                                 \n",
       "A       1096018  WAQUM0I7P2R8GWY29X7X  \n",
       "AA      1736702  2Z049U165TW9FE0P231W  \n",
       "AAA     1760512                  None  \n",
       "AAAU    1784935                  None  \n",
       "AAC     1843237                  None  "
      ],
      "text/html": [
       "<div>\n",
       "<style scoped>\n",
       "    .dataframe tbody tr th:only-of-type {\n",
       "        vertical-align: middle;\n",
       "    }\n",
       "\n",
       "    .dataframe tbody tr th {\n",
       "        vertical-align: top;\n",
       "    }\n",
       "\n",
       "    .dataframe thead th {\n",
       "        text-align: right;\n",
       "    }\n",
       "</style>\n",
       "<table border=\"1\" class=\"dataframe\">\n",
       "  <thead>\n",
       "    <tr style=\"text-align: right;\">\n",
       "      <th></th>\n",
       "      <th>exchange</th>\n",
       "      <th>exchangeSuffix</th>\n",
       "      <th>exchangeName</th>\n",
       "      <th>name</th>\n",
       "      <th>date</th>\n",
       "      <th>type</th>\n",
       "      <th>iexId</th>\n",
       "      <th>region</th>\n",
       "      <th>currency</th>\n",
       "      <th>isEnabled</th>\n",
       "      <th>figi</th>\n",
       "      <th>cik</th>\n",
       "      <th>lei</th>\n",
       "    </tr>\n",
       "    <tr>\n",
       "      <th>symbol</th>\n",
       "      <th></th>\n",
       "      <th></th>\n",
       "      <th></th>\n",
       "      <th></th>\n",
       "      <th></th>\n",
       "      <th></th>\n",
       "      <th></th>\n",
       "      <th></th>\n",
       "      <th></th>\n",
       "      <th></th>\n",
       "      <th></th>\n",
       "      <th></th>\n",
       "      <th></th>\n",
       "    </tr>\n",
       "  </thead>\n",
       "  <tbody>\n",
       "    <tr>\n",
       "      <th>A</th>\n",
       "      <td>NYS</td>\n",
       "      <td>NU</td>\n",
       "      <td>oeSN  ckxtcao rEewh YnnIkgc</td>\n",
       "      <td>cAenhTIlneii.gts olnegco</td>\n",
       "      <td>2021-07-27</td>\n",
       "      <td>cs</td>\n",
       "      <td>IEX_46574843354B2D52</td>\n",
       "      <td>US</td>\n",
       "      <td>USD</td>\n",
       "      <td>True</td>\n",
       "      <td>B2B0D0CGV360</td>\n",
       "      <td>1096018</td>\n",
       "      <td>WAQUM0I7P2R8GWY29X7X</td>\n",
       "    </tr>\n",
       "    <tr>\n",
       "      <th>AA</th>\n",
       "      <td>NYS</td>\n",
       "      <td>NU</td>\n",
       "      <td>no xcrkt YaoNknI ehSegE ccw</td>\n",
       "      <td>arcAlpooC</td>\n",
       "      <td>2021-07-27</td>\n",
       "      <td>cs</td>\n",
       "      <td>IEX_4238333734532D52</td>\n",
       "      <td>US</td>\n",
       "      <td>USD</td>\n",
       "      <td>True</td>\n",
       "      <td>303BTBBGD30H</td>\n",
       "      <td>1736702</td>\n",
       "      <td>2Z049U165TW9FE0P231W</td>\n",
       "    </tr>\n",
       "    <tr>\n",
       "      <th>AAA</th>\n",
       "      <td>USPAC</td>\n",
       "      <td>UP</td>\n",
       "      <td>yasAe cNr</td>\n",
       "      <td>TrdEi ssOtrTorLFFoni BuyFetut - sLidi nP  Fr  ...</td>\n",
       "      <td>2021-07-27</td>\n",
       "      <td>et</td>\n",
       "      <td>IEX_5030314338392D52</td>\n",
       "      <td>US</td>\n",
       "      <td>USD</td>\n",
       "      <td>True</td>\n",
       "      <td>B4F0PB850XSG</td>\n",
       "      <td>1760512</td>\n",
       "      <td>None</td>\n",
       "    </tr>\n",
       "    <tr>\n",
       "      <th>AAAU</th>\n",
       "      <td>USPAC</td>\n",
       "      <td>UP</td>\n",
       "      <td>A Ncaryes</td>\n",
       "      <td>lhEd r ylySlPahTohPTis oFa-ansaoGcc  ad s  ll...</td>\n",
       "      <td>2021-07-27</td>\n",
       "      <td>et</td>\n",
       "      <td>IEX_474B433136332D52</td>\n",
       "      <td>US</td>\n",
       "      <td>USD</td>\n",
       "      <td>True</td>\n",
       "      <td>XXBG0L87B0P2</td>\n",
       "      <td>1784935</td>\n",
       "      <td>None</td>\n",
       "    </tr>\n",
       "    <tr>\n",
       "      <th>AAC</th>\n",
       "      <td>NYS</td>\n",
       "      <td>NU</td>\n",
       "      <td>k Sncaokeg exEIcwY o Nhrtcn</td>\n",
       "      <td>nsitnoi AC AusAsloa  ieapcorq-irr stCo</td>\n",
       "      <td>2021-07-27</td>\n",
       "      <td>cs</td>\n",
       "      <td>None</td>\n",
       "      <td>US</td>\n",
       "      <td>USD</td>\n",
       "      <td>True</td>\n",
       "      <td>0GBC2ZB91Y0Z</td>\n",
       "      <td>1843237</td>\n",
       "      <td>None</td>\n",
       "    </tr>\n",
       "  </tbody>\n",
       "</table>\n",
       "</div>"
      ]
     },
     "metadata": {},
     "execution_count": 3
    }
   ],
   "metadata": {}
  },
  {
   "cell_type": "markdown",
   "source": [
    "## Symbols"
   ],
   "metadata": {}
  },
  {
   "cell_type": "code",
   "execution_count": 4,
   "source": [
    "c.symbols()[:5]"
   ],
   "outputs": [
    {
     "output_type": "execute_result",
     "data": {
      "text/plain": [
       "[{'symbol': 'A',\n",
       "  'exchange': 'NYS',\n",
       "  'exchangeSuffix': 'NU',\n",
       "  'exchangeName': 'oeSN  ckxtcao rEewh YnnIkgc',\n",
       "  'name': 'cAenhTIlneii.gts olnegco ',\n",
       "  'date': '2021-07-27',\n",
       "  'type': 'cs',\n",
       "  'iexId': 'IEX_46574843354B2D52',\n",
       "  'region': 'US',\n",
       "  'currency': 'USD',\n",
       "  'isEnabled': True,\n",
       "  'figi': 'B2B0D0CGV360',\n",
       "  'cik': '1096018',\n",
       "  'lei': 'WAQUM0I7P2R8GWY29X7X'},\n",
       " {'symbol': 'AA',\n",
       "  'exchange': 'NYS',\n",
       "  'exchangeSuffix': 'NU',\n",
       "  'exchangeName': 'no xcrkt YaoNknI ehSegE ccw',\n",
       "  'name': ' arcAlpooC',\n",
       "  'date': '2021-07-27',\n",
       "  'type': 'cs',\n",
       "  'iexId': 'IEX_4238333734532D52',\n",
       "  'region': 'US',\n",
       "  'currency': 'USD',\n",
       "  'isEnabled': True,\n",
       "  'figi': '303BTBBGD30H',\n",
       "  'cik': '1736702',\n",
       "  'lei': '2Z049U165TW9FE0P231W'},\n",
       " {'symbol': 'AAA',\n",
       "  'exchange': 'USPAC',\n",
       "  'exchangeSuffix': 'UP',\n",
       "  'exchangeName': 'yasAe cNr',\n",
       "  'name': 'TrdEi ssOtrTorLFFoni BuyFetut - sLidi nP  Fr  AsdCAt',\n",
       "  'date': '2021-07-27',\n",
       "  'type': 'et',\n",
       "  'iexId': 'IEX_5030314338392D52',\n",
       "  'region': 'US',\n",
       "  'currency': 'USD',\n",
       "  'isEnabled': True,\n",
       "  'figi': 'B4F0PB850XSG',\n",
       "  'cik': '1760512',\n",
       "  'lei': None},\n",
       " {'symbol': 'AAAU',\n",
       "  'exchange': 'USPAC',\n",
       "  'exchangeSuffix': 'UP',\n",
       "  'exchangeName': 'A Ncaryes',\n",
       "  'name': ' lhEd r ylySlPahTohPTis oFa-ansaoGcc  ad s  llnmSEomeahi GclGdSsF Ghascd',\n",
       "  'date': '2021-07-27',\n",
       "  'type': 'et',\n",
       "  'iexId': 'IEX_474B433136332D52',\n",
       "  'region': 'US',\n",
       "  'currency': 'USD',\n",
       "  'isEnabled': True,\n",
       "  'figi': 'XXBG0L87B0P2',\n",
       "  'cik': '1784935',\n",
       "  'lei': None},\n",
       " {'symbol': 'AAC',\n",
       "  'exchange': 'NYS',\n",
       "  'exchangeSuffix': 'NU',\n",
       "  'exchangeName': 'k Sncaokeg exEIcwY o Nhrtcn',\n",
       "  'name': 'nsitnoi AC AusAsloa  ieapcorq-irr stCo',\n",
       "  'date': '2021-07-27',\n",
       "  'type': 'cs',\n",
       "  'iexId': None,\n",
       "  'region': 'US',\n",
       "  'currency': 'USD',\n",
       "  'isEnabled': True,\n",
       "  'figi': '0GBC2ZB91Y0Z',\n",
       "  'cik': '1843237',\n",
       "  'lei': None}]"
      ]
     },
     "metadata": {},
     "execution_count": 4
    }
   ],
   "metadata": {}
  },
  {
   "cell_type": "code",
   "execution_count": 5,
   "source": [
    "c.symbolsDF().head()"
   ],
   "outputs": [
    {
     "output_type": "execute_result",
     "data": {
      "text/plain": [
       "       exchange exchangeSuffix                 exchangeName  \\\n",
       "symbol                                                        \n",
       "A           NYS             NU  oeSN  ckxtcao rEewh YnnIkgc   \n",
       "AA          NYS             NU  no xcrkt YaoNknI ehSegE ccw   \n",
       "AAA       USPAC             UP                    yasAe cNr   \n",
       "AAAU      USPAC             UP                    A Ncaryes   \n",
       "AAC         NYS             NU  k Sncaokeg exEIcwY o Nhrtcn   \n",
       "\n",
       "                                                     name       date type  \\\n",
       "symbol                                                                      \n",
       "A                               cAenhTIlneii.gts olnegco  2021-07-27   cs   \n",
       "AA                                              arcAlpooC 2021-07-27   cs   \n",
       "AAA     TrdEi ssOtrTorLFFoni BuyFetut - sLidi nP  Fr  ... 2021-07-27   et   \n",
       "AAAU     lhEd r ylySlPahTohPTis oFa-ansaoGcc  ad s  ll... 2021-07-27   et   \n",
       "AAC                nsitnoi AC AusAsloa  ieapcorq-irr stCo 2021-07-27   cs   \n",
       "\n",
       "                       iexId region currency  isEnabled          figi  \\\n",
       "symbol                                                                  \n",
       "A       IEX_46574843354B2D52     US      USD       True  B2B0D0CGV360   \n",
       "AA      IEX_4238333734532D52     US      USD       True  303BTBBGD30H   \n",
       "AAA     IEX_5030314338392D52     US      USD       True  B4F0PB850XSG   \n",
       "AAAU    IEX_474B433136332D52     US      USD       True  XXBG0L87B0P2   \n",
       "AAC                     None     US      USD       True  0GBC2ZB91Y0Z   \n",
       "\n",
       "            cik                   lei  \n",
       "symbol                                 \n",
       "A       1096018  WAQUM0I7P2R8GWY29X7X  \n",
       "AA      1736702  2Z049U165TW9FE0P231W  \n",
       "AAA     1760512                  None  \n",
       "AAAU    1784935                  None  \n",
       "AAC     1843237                  None  "
      ],
      "text/html": [
       "<div>\n",
       "<style scoped>\n",
       "    .dataframe tbody tr th:only-of-type {\n",
       "        vertical-align: middle;\n",
       "    }\n",
       "\n",
       "    .dataframe tbody tr th {\n",
       "        vertical-align: top;\n",
       "    }\n",
       "\n",
       "    .dataframe thead th {\n",
       "        text-align: right;\n",
       "    }\n",
       "</style>\n",
       "<table border=\"1\" class=\"dataframe\">\n",
       "  <thead>\n",
       "    <tr style=\"text-align: right;\">\n",
       "      <th></th>\n",
       "      <th>exchange</th>\n",
       "      <th>exchangeSuffix</th>\n",
       "      <th>exchangeName</th>\n",
       "      <th>name</th>\n",
       "      <th>date</th>\n",
       "      <th>type</th>\n",
       "      <th>iexId</th>\n",
       "      <th>region</th>\n",
       "      <th>currency</th>\n",
       "      <th>isEnabled</th>\n",
       "      <th>figi</th>\n",
       "      <th>cik</th>\n",
       "      <th>lei</th>\n",
       "    </tr>\n",
       "    <tr>\n",
       "      <th>symbol</th>\n",
       "      <th></th>\n",
       "      <th></th>\n",
       "      <th></th>\n",
       "      <th></th>\n",
       "      <th></th>\n",
       "      <th></th>\n",
       "      <th></th>\n",
       "      <th></th>\n",
       "      <th></th>\n",
       "      <th></th>\n",
       "      <th></th>\n",
       "      <th></th>\n",
       "      <th></th>\n",
       "    </tr>\n",
       "  </thead>\n",
       "  <tbody>\n",
       "    <tr>\n",
       "      <th>A</th>\n",
       "      <td>NYS</td>\n",
       "      <td>NU</td>\n",
       "      <td>oeSN  ckxtcao rEewh YnnIkgc</td>\n",
       "      <td>cAenhTIlneii.gts olnegco</td>\n",
       "      <td>2021-07-27</td>\n",
       "      <td>cs</td>\n",
       "      <td>IEX_46574843354B2D52</td>\n",
       "      <td>US</td>\n",
       "      <td>USD</td>\n",
       "      <td>True</td>\n",
       "      <td>B2B0D0CGV360</td>\n",
       "      <td>1096018</td>\n",
       "      <td>WAQUM0I7P2R8GWY29X7X</td>\n",
       "    </tr>\n",
       "    <tr>\n",
       "      <th>AA</th>\n",
       "      <td>NYS</td>\n",
       "      <td>NU</td>\n",
       "      <td>no xcrkt YaoNknI ehSegE ccw</td>\n",
       "      <td>arcAlpooC</td>\n",
       "      <td>2021-07-27</td>\n",
       "      <td>cs</td>\n",
       "      <td>IEX_4238333734532D52</td>\n",
       "      <td>US</td>\n",
       "      <td>USD</td>\n",
       "      <td>True</td>\n",
       "      <td>303BTBBGD30H</td>\n",
       "      <td>1736702</td>\n",
       "      <td>2Z049U165TW9FE0P231W</td>\n",
       "    </tr>\n",
       "    <tr>\n",
       "      <th>AAA</th>\n",
       "      <td>USPAC</td>\n",
       "      <td>UP</td>\n",
       "      <td>yasAe cNr</td>\n",
       "      <td>TrdEi ssOtrTorLFFoni BuyFetut - sLidi nP  Fr  ...</td>\n",
       "      <td>2021-07-27</td>\n",
       "      <td>et</td>\n",
       "      <td>IEX_5030314338392D52</td>\n",
       "      <td>US</td>\n",
       "      <td>USD</td>\n",
       "      <td>True</td>\n",
       "      <td>B4F0PB850XSG</td>\n",
       "      <td>1760512</td>\n",
       "      <td>None</td>\n",
       "    </tr>\n",
       "    <tr>\n",
       "      <th>AAAU</th>\n",
       "      <td>USPAC</td>\n",
       "      <td>UP</td>\n",
       "      <td>A Ncaryes</td>\n",
       "      <td>lhEd r ylySlPahTohPTis oFa-ansaoGcc  ad s  ll...</td>\n",
       "      <td>2021-07-27</td>\n",
       "      <td>et</td>\n",
       "      <td>IEX_474B433136332D52</td>\n",
       "      <td>US</td>\n",
       "      <td>USD</td>\n",
       "      <td>True</td>\n",
       "      <td>XXBG0L87B0P2</td>\n",
       "      <td>1784935</td>\n",
       "      <td>None</td>\n",
       "    </tr>\n",
       "    <tr>\n",
       "      <th>AAC</th>\n",
       "      <td>NYS</td>\n",
       "      <td>NU</td>\n",
       "      <td>k Sncaokeg exEIcwY o Nhrtcn</td>\n",
       "      <td>nsitnoi AC AusAsloa  ieapcorq-irr stCo</td>\n",
       "      <td>2021-07-27</td>\n",
       "      <td>cs</td>\n",
       "      <td>None</td>\n",
       "      <td>US</td>\n",
       "      <td>USD</td>\n",
       "      <td>True</td>\n",
       "      <td>0GBC2ZB91Y0Z</td>\n",
       "      <td>1843237</td>\n",
       "      <td>None</td>\n",
       "    </tr>\n",
       "  </tbody>\n",
       "</table>\n",
       "</div>"
      ]
     },
     "metadata": {},
     "execution_count": 5
    }
   ],
   "metadata": {}
  },
  {
   "cell_type": "code",
   "execution_count": 6,
   "source": [
    "c.symbolsList()[:5]"
   ],
   "outputs": [
    {
     "output_type": "execute_result",
     "data": {
      "text/plain": [
       "['A', 'AA', 'AAA', 'AAAU', 'AAC']"
      ]
     },
     "metadata": {},
     "execution_count": 6
    }
   ],
   "metadata": {}
  },
  {
   "cell_type": "markdown",
   "source": [
    "## IEX Symbols"
   ],
   "metadata": {}
  },
  {
   "cell_type": "code",
   "execution_count": 7,
   "source": [
    "c.iexSymbols()[:5]"
   ],
   "outputs": [
    {
     "output_type": "execute_result",
     "data": {
      "text/plain": [
       "[{'symbol': 'A', 'date': '2021-07-27', 'isEnabled': True},\n",
       " {'symbol': 'AA', 'date': '2021-07-27', 'isEnabled': True},\n",
       " {'symbol': 'AAA', 'date': '2021-07-27', 'isEnabled': True},\n",
       " {'symbol': 'AAAU', 'date': '2021-07-27', 'isEnabled': True},\n",
       " {'symbol': 'AAC', 'date': '2021-07-27', 'isEnabled': True}]"
      ]
     },
     "metadata": {},
     "execution_count": 7
    }
   ],
   "metadata": {}
  },
  {
   "cell_type": "code",
   "execution_count": 8,
   "source": [
    "c.iexSymbolsDF().head()"
   ],
   "outputs": [
    {
     "output_type": "execute_result",
     "data": {
      "text/plain": [
       "             date  isEnabled\n",
       "symbol                      \n",
       "A      2021-07-27       True\n",
       "AA     2021-07-27       True\n",
       "AAA    2021-07-27       True\n",
       "AAAU   2021-07-27       True\n",
       "AAC    2021-07-27       True"
      ],
      "text/html": [
       "<div>\n",
       "<style scoped>\n",
       "    .dataframe tbody tr th:only-of-type {\n",
       "        vertical-align: middle;\n",
       "    }\n",
       "\n",
       "    .dataframe tbody tr th {\n",
       "        vertical-align: top;\n",
       "    }\n",
       "\n",
       "    .dataframe thead th {\n",
       "        text-align: right;\n",
       "    }\n",
       "</style>\n",
       "<table border=\"1\" class=\"dataframe\">\n",
       "  <thead>\n",
       "    <tr style=\"text-align: right;\">\n",
       "      <th></th>\n",
       "      <th>date</th>\n",
       "      <th>isEnabled</th>\n",
       "    </tr>\n",
       "    <tr>\n",
       "      <th>symbol</th>\n",
       "      <th></th>\n",
       "      <th></th>\n",
       "    </tr>\n",
       "  </thead>\n",
       "  <tbody>\n",
       "    <tr>\n",
       "      <th>A</th>\n",
       "      <td>2021-07-27</td>\n",
       "      <td>True</td>\n",
       "    </tr>\n",
       "    <tr>\n",
       "      <th>AA</th>\n",
       "      <td>2021-07-27</td>\n",
       "      <td>True</td>\n",
       "    </tr>\n",
       "    <tr>\n",
       "      <th>AAA</th>\n",
       "      <td>2021-07-27</td>\n",
       "      <td>True</td>\n",
       "    </tr>\n",
       "    <tr>\n",
       "      <th>AAAU</th>\n",
       "      <td>2021-07-27</td>\n",
       "      <td>True</td>\n",
       "    </tr>\n",
       "    <tr>\n",
       "      <th>AAC</th>\n",
       "      <td>2021-07-27</td>\n",
       "      <td>True</td>\n",
       "    </tr>\n",
       "  </tbody>\n",
       "</table>\n",
       "</div>"
      ]
     },
     "metadata": {},
     "execution_count": 8
    }
   ],
   "metadata": {}
  },
  {
   "cell_type": "code",
   "execution_count": 9,
   "source": [
    "c.iexSymbolsList()[:10]"
   ],
   "outputs": [
    {
     "output_type": "execute_result",
     "data": {
      "text/plain": [
       "['A', 'AA', 'AAA', 'AAAU', 'AAC', 'AAC+', 'AAC=', 'AACG', 'AACOU', 'AADR']"
      ]
     },
     "metadata": {},
     "execution_count": 9
    }
   ],
   "metadata": {}
  },
  {
   "cell_type": "markdown",
   "source": [
    "## International Symbols"
   ],
   "metadata": {}
  },
  {
   "cell_type": "code",
   "execution_count": 10,
   "source": [
    "c.internationalSymbols()[:5]"
   ],
   "outputs": [
    {
     "output_type": "execute_result",
     "data": {
      "text/plain": [
       "[{'symbol': '-S',\n",
       "  'exchange': 'NYS',\n",
       "  'exchangeSuffix': 'NU',\n",
       "  'exchangeName': 'tewNaxIko ncgnehS rE ko Ycc',\n",
       "  'name': '0Fra.-u Ui NST55a02nn .EE E5ti1%dD n2l2Iin8e6  /a8M/D5P 5lccR ',\n",
       "  'date': '2021-07-27',\n",
       "  'type': 'ps',\n",
       "  'iexId': None,\n",
       "  'region': 'US',\n",
       "  'currency': 'USD',\n",
       "  'isEnabled': True,\n",
       "  'figi': '60G04LBC7RNB',\n",
       "  'cik': '1177557',\n",
       "  'lei': '8SEOHB45RNR5RCPR57FE'},\n",
       " {'symbol': '097098628',\n",
       "  'exchange': 'INR',\n",
       "  'exchangeSuffix': '',\n",
       "  'exchangeName': 'riaFn',\n",
       "  'name': 'S0U- CLF /8nc/2e BaiN1IP LoDn L15T2 S0 0 P a2f',\n",
       "  'date': '2021-07-27',\n",
       "  'type': 'ps',\n",
       "  'iexId': None,\n",
       "  'region': 'US',\n",
       "  'currency': 'USD',\n",
       "  'isEnabled': True,\n",
       "  'figi': '7WHB050XBSGP',\n",
       "  'cik': None,\n",
       "  'lei': '30ZYS69IYSC5301ZE4WG'},\n",
       " {'symbol': '1',\n",
       "  'exchange': 'NAS',\n",
       "  'exchangeSuffix': '',\n",
       "  'exchangeName': 'lakeAa Mr ssaqlNtd',\n",
       "  'name': ' strdt 1 te-soeehrn-PCStrRlreTpntF-PliFsi 4 MLo ittesi. gi a  aouvfS',\n",
       "  'date': '2021-07-27',\n",
       "  'type': 'oef',\n",
       "  'iexId': None,\n",
       "  'region': 'US',\n",
       "  'currency': 'USD',\n",
       "  'isEnabled': True,\n",
       "  'figi': None,\n",
       "  'cik': '889408',\n",
       "  'lei': None},\n",
       " {'symbol': '46147E460',\n",
       "  'exchange': 'NAS',\n",
       "  'exchangeSuffix': '',\n",
       "  'exchangeName': 'lsrAae MdltaqNs ak',\n",
       "  'name': '0rnoteAlSPkHtsn si&Sc2aaS len aIrur iMCN/lp d2v SCStseeePocaMr3tIT cU DI t  - 0 ',\n",
       "  'date': '2021-07-27',\n",
       "  'type': 'oef',\n",
       "  'iexId': None,\n",
       "  'region': 'US',\n",
       "  'currency': 'USD',\n",
       "  'isEnabled': True,\n",
       "  'figi': 'VB0YQLBNG0S2',\n",
       "  'cik': '104102',\n",
       "  'lei': None},\n",
       " {'symbol': '48130V236',\n",
       "  'exchange': 'INR',\n",
       "  'exchangeSuffix': '',\n",
       "  'exchangeName': 'Finra',\n",
       "  'name': 'a PCCryeNpnLc2i/ Isoga2  LC1 i 0h a ULo0M0J 5F 2/Sa-nP PnTaDm06Snl',\n",
       "  'date': '2021-07-27',\n",
       "  'type': 'ps',\n",
       "  'iexId': None,\n",
       "  'region': 'US',\n",
       "  'currency': 'USD',\n",
       "  'isEnabled': True,\n",
       "  'figi': '6MH8QDB0B50G',\n",
       "  'cik': None,\n",
       "  'lei': 'YJJNO3VF56V90984F70D'}]"
      ]
     },
     "metadata": {},
     "execution_count": 10
    }
   ],
   "metadata": {}
  },
  {
   "cell_type": "code",
   "execution_count": 11,
   "source": [
    "c.internationalSymbolsDF().head()"
   ],
   "outputs": [
    {
     "output_type": "execute_result",
     "data": {
      "text/plain": [
       "          exchange exchangeSuffix                 exchangeName  \\\n",
       "symbol                                                           \n",
       "-S             NYS             NU  tewNaxIko ncgnehS rE ko Ycc   \n",
       "097098628      INR                                       riaFn   \n",
       "1              NAS                          lakeAa Mr ssaqlNtd   \n",
       "46147E460      NAS                          lsrAae MdltaqNs ak   \n",
       "48130V236      INR                                       Finra   \n",
       "\n",
       "                                                        name       date type  \\\n",
       "symbol                                                                         \n",
       "-S         0Fra.-u Ui NST55a02nn .EE E5ti1%dD n2l2Iin8e6 ... 2021-07-27   ps   \n",
       "097098628     S0U- CLF /8nc/2e BaiN1IP LoDn L15T2 S0 0 P a2f 2021-07-27   ps   \n",
       "1           strdt 1 te-soeehrn-PCStrRlreTpntF-PliFsi 4 ML... 2021-07-27  oef   \n",
       "46147E460  0rnoteAlSPkHtsn si&Sc2aaS len aIrur iMCN/lp d2... 2021-07-27  oef   \n",
       "48130V236  a PCCryeNpnLc2i/ Isoga2  LC1 i 0h a ULo0M0J 5F... 2021-07-27   ps   \n",
       "\n",
       "          iexId region currency  isEnabled          figi      cik  \\\n",
       "symbol                                                              \n",
       "-S         None     US      USD       True  60G04LBC7RNB  1177557   \n",
       "097098628  None     US      USD       True  7WHB050XBSGP     None   \n",
       "1          None     US      USD       True          None   889408   \n",
       "46147E460  None     US      USD       True  VB0YQLBNG0S2   104102   \n",
       "48130V236  None     US      USD       True  6MH8QDB0B50G     None   \n",
       "\n",
       "                            lei  \n",
       "symbol                           \n",
       "-S         8SEOHB45RNR5RCPR57FE  \n",
       "097098628  30ZYS69IYSC5301ZE4WG  \n",
       "1                          None  \n",
       "46147E460                  None  \n",
       "48130V236  YJJNO3VF56V90984F70D  "
      ],
      "text/html": [
       "<div>\n",
       "<style scoped>\n",
       "    .dataframe tbody tr th:only-of-type {\n",
       "        vertical-align: middle;\n",
       "    }\n",
       "\n",
       "    .dataframe tbody tr th {\n",
       "        vertical-align: top;\n",
       "    }\n",
       "\n",
       "    .dataframe thead th {\n",
       "        text-align: right;\n",
       "    }\n",
       "</style>\n",
       "<table border=\"1\" class=\"dataframe\">\n",
       "  <thead>\n",
       "    <tr style=\"text-align: right;\">\n",
       "      <th></th>\n",
       "      <th>exchange</th>\n",
       "      <th>exchangeSuffix</th>\n",
       "      <th>exchangeName</th>\n",
       "      <th>name</th>\n",
       "      <th>date</th>\n",
       "      <th>type</th>\n",
       "      <th>iexId</th>\n",
       "      <th>region</th>\n",
       "      <th>currency</th>\n",
       "      <th>isEnabled</th>\n",
       "      <th>figi</th>\n",
       "      <th>cik</th>\n",
       "      <th>lei</th>\n",
       "    </tr>\n",
       "    <tr>\n",
       "      <th>symbol</th>\n",
       "      <th></th>\n",
       "      <th></th>\n",
       "      <th></th>\n",
       "      <th></th>\n",
       "      <th></th>\n",
       "      <th></th>\n",
       "      <th></th>\n",
       "      <th></th>\n",
       "      <th></th>\n",
       "      <th></th>\n",
       "      <th></th>\n",
       "      <th></th>\n",
       "      <th></th>\n",
       "    </tr>\n",
       "  </thead>\n",
       "  <tbody>\n",
       "    <tr>\n",
       "      <th>-S</th>\n",
       "      <td>NYS</td>\n",
       "      <td>NU</td>\n",
       "      <td>tewNaxIko ncgnehS rE ko Ycc</td>\n",
       "      <td>0Fra.-u Ui NST55a02nn .EE E5ti1%dD n2l2Iin8e6 ...</td>\n",
       "      <td>2021-07-27</td>\n",
       "      <td>ps</td>\n",
       "      <td>None</td>\n",
       "      <td>US</td>\n",
       "      <td>USD</td>\n",
       "      <td>True</td>\n",
       "      <td>60G04LBC7RNB</td>\n",
       "      <td>1177557</td>\n",
       "      <td>8SEOHB45RNR5RCPR57FE</td>\n",
       "    </tr>\n",
       "    <tr>\n",
       "      <th>097098628</th>\n",
       "      <td>INR</td>\n",
       "      <td></td>\n",
       "      <td>riaFn</td>\n",
       "      <td>S0U- CLF /8nc/2e BaiN1IP LoDn L15T2 S0 0 P a2f</td>\n",
       "      <td>2021-07-27</td>\n",
       "      <td>ps</td>\n",
       "      <td>None</td>\n",
       "      <td>US</td>\n",
       "      <td>USD</td>\n",
       "      <td>True</td>\n",
       "      <td>7WHB050XBSGP</td>\n",
       "      <td>None</td>\n",
       "      <td>30ZYS69IYSC5301ZE4WG</td>\n",
       "    </tr>\n",
       "    <tr>\n",
       "      <th>1</th>\n",
       "      <td>NAS</td>\n",
       "      <td></td>\n",
       "      <td>lakeAa Mr ssaqlNtd</td>\n",
       "      <td>strdt 1 te-soeehrn-PCStrRlreTpntF-PliFsi 4 ML...</td>\n",
       "      <td>2021-07-27</td>\n",
       "      <td>oef</td>\n",
       "      <td>None</td>\n",
       "      <td>US</td>\n",
       "      <td>USD</td>\n",
       "      <td>True</td>\n",
       "      <td>None</td>\n",
       "      <td>889408</td>\n",
       "      <td>None</td>\n",
       "    </tr>\n",
       "    <tr>\n",
       "      <th>46147E460</th>\n",
       "      <td>NAS</td>\n",
       "      <td></td>\n",
       "      <td>lsrAae MdltaqNs ak</td>\n",
       "      <td>0rnoteAlSPkHtsn si&amp;Sc2aaS len aIrur iMCN/lp d2...</td>\n",
       "      <td>2021-07-27</td>\n",
       "      <td>oef</td>\n",
       "      <td>None</td>\n",
       "      <td>US</td>\n",
       "      <td>USD</td>\n",
       "      <td>True</td>\n",
       "      <td>VB0YQLBNG0S2</td>\n",
       "      <td>104102</td>\n",
       "      <td>None</td>\n",
       "    </tr>\n",
       "    <tr>\n",
       "      <th>48130V236</th>\n",
       "      <td>INR</td>\n",
       "      <td></td>\n",
       "      <td>Finra</td>\n",
       "      <td>a PCCryeNpnLc2i/ Isoga2  LC1 i 0h a ULo0M0J 5F...</td>\n",
       "      <td>2021-07-27</td>\n",
       "      <td>ps</td>\n",
       "      <td>None</td>\n",
       "      <td>US</td>\n",
       "      <td>USD</td>\n",
       "      <td>True</td>\n",
       "      <td>6MH8QDB0B50G</td>\n",
       "      <td>None</td>\n",
       "      <td>YJJNO3VF56V90984F70D</td>\n",
       "    </tr>\n",
       "  </tbody>\n",
       "</table>\n",
       "</div>"
      ]
     },
     "metadata": {},
     "execution_count": 11
    }
   ],
   "metadata": {}
  },
  {
   "cell_type": "code",
   "execution_count": 12,
   "source": [
    "c.internationalSymbolsList()[:5]"
   ],
   "outputs": [
    {
     "output_type": "execute_result",
     "data": {
      "text/plain": [
       "['-S', '097098628', '1', '46147E460', '48130V236']"
      ]
     },
     "metadata": {},
     "execution_count": 12
    }
   ],
   "metadata": {}
  },
  {
   "cell_type": "markdown",
   "source": [
    "## FX Symbols"
   ],
   "metadata": {}
  },
  {
   "cell_type": "code",
   "execution_count": 13,
   "source": [
    "c.fxSymbols()"
   ],
   "outputs": [
    {
     "output_type": "execute_result",
     "data": {
      "text/plain": [
       "{'currencies': [{'code': 'ABL', 'name': 'ircAobl', 'isCrypto': 1},\n",
       "  {'code': 'ABT', 'name': 'Aorbckcl', 'isCrypto': 1},\n",
       "  {'code': 'ABSYS', 'name': 'Assyb', 'isCrypto': 1},\n",
       "  {'code': 'AACT', 'name': 'Aatlphca', 'isCrypto': 1},\n",
       "  {'code': 'ACH', 'name': 'ey PAmlcahy', 'isCrypto': 1},\n",
       "  {'code': 'CAT', 'name': 'chnAai', 'isCrypto': 1},\n",
       "  {'code': 'ADB', 'name': 'ndkaba', 'isCrypto': 1},\n",
       "  {'code': 'NEAO', 'name': 'Aeno', 'isCrypto': 1},\n",
       "  {'code': 'ATARI', 'name': 'tirAa', 'isCrypto': 1},\n",
       "  {'code': 'ALN', 'name': 'lSauoncail.A', 'isCrypto': 1},\n",
       "  {'code': 'AAPLAC', 'name': 'aai leAFpccnan', 'isCrypto': 1},\n",
       "  {'code': 'AMTL', 'name': 'ALMT', 'isCrypto': 1},\n",
       "  {'code': 'ANCT', 'name': 'cnoArh', 'isCrypto': 1},\n",
       "  {'code': 'AJN', 'name': 'Ar oCugonatr', 'isCrypto': 1},\n",
       "  {'code': 'AOG', 'name': 'sRGGTIANOFIVm', 'isCrypto': 1},\n",
       "  {'code': 'AIPX', 'name': 'XIAP', 'isCrypto': 1},\n",
       "  {'code': 'PMA', 'name': 'aCoM pin', 'isCrypto': 1},\n",
       "  {'code': 'YSAP', 'name': 'pYAwaPS', 'isCrypto': 1},\n",
       "  {'code': 'RACH', 'name': ' nrAvecTk oecDearn onrehAGO', 'isCrypto': 1},\n",
       "  {'code': 'MRARO', 'name': 'MORAR', 'isCrypto': 1},\n",
       "  {'code': 'SKAO', 'name': 'KASO', 'isCrypto': 1},\n",
       "  {'code': 'SAR', 'name': 'Tn  AFnoeom aRakS', 'isCrypto': 1},\n",
       "  {'code': 'APT', 'name': 'otlPAocoa tslr', 'isCrypto': 1},\n",
       "  {'code': 'CAU', 'name': 'uucAst', 'isCrypto': 1},\n",
       "  {'code': 'AYA', 'name': 'rinAyoac', 'isCrypto': 1},\n",
       "  {'code': 'AKIUZ', 'name': 'Aukzi', 'isCrypto': 1},\n",
       "  {'code': 'ASBA', 'name': 'BdaiSa', 'isCrypto': 1},\n",
       "  {'code': 'BAC', 'name': 'saihsBsCa ', 'isCrypto': 1},\n",
       "  {'code': 'APLHAB', 'name': 'bhpAla', 'isCrypto': 1},\n",
       "  {'code': 'BNA', 'name': 'annaoB', 'isCrypto': 1},\n",
       "  {'code': 'CDTB', 'name': 'oketaclrhD ninkdiae afCT ieotcB', 'isCrypto': 1},\n",
       "  {'code': 'ABOH', 'name': 'haiBot', 'isCrypto': 1},\n",
       "  {'code': 'BPH', 'name': 'BCiHPon', 'isCrypto': 1},\n",
       "  {'code': 'BRID', 'name': 'RBID', 'isCrypto': 1},\n",
       "  {'code': 'BIIK', 'name': 'KIBI', 'isCrypto': 1},\n",
       "  {'code': 'BXI', 'name': 'ne xBTkiboo', 'isCrypto': 1},\n",
       "  {'code': 'BNLKI', 'name': 'kBiLn', 'isCrypto': 1},\n",
       "  {'code': 'YBL', 'name': 'lBrcoye', 'isCrypto': 1},\n",
       "  {'code': 'BXM', 'name': 'tTora tBeiMkn', 'isCrypto': 1},\n",
       "  {'code': 'BTLO', 'name': 'LBOT', 'isCrypto': 1},\n",
       "  {'code': 'BTSOO', 'name': 'tBdoiFn saeoenc', 'isCrypto': 1},\n",
       "  {'code': 'SBP', 'name': 'BnotociiPS', 'isCrypto': 1},\n",
       "  {'code': 'BYR', 'name': ' rreayaDBt', 'isCrypto': 1},\n",
       "  {'code': 'CT2B', 'name': 'ntoc i2Bi', 'isCrypto': 1},\n",
       "  {'code': 'STEB', 'name': 'ESBT', 'isCrypto': 1},\n",
       "  {'code': 'ZBCT', 'name': 'itzanCBeo', 'isCrypto': 1},\n",
       "  {'code': 'TRSUB', 'name': 'trsBu', 'isCrypto': 1},\n",
       "  {'code': 'BWF', 'name': 'Bueowfl', 'isCrypto': 1},\n",
       "  {'code': 'PPCA', 'name': 'yasipatCp', 'isCrypto': 1},\n",
       "  {'code': 'CDAR', 'name': 'stkaaCrdc', 'isCrypto': 1},\n",
       "  {'code': 'BCM', 'name': 'rysBnoMeutispClo', 'isCrypto': 1},\n",
       "  {'code': 'ETC', 'name': 'onkeoxnTi EC', 'isCrypto': 1},\n",
       "  {'code': 'HCX', 'name': 'wWneO', 'isCrypto': 1},\n",
       "  {'code': 'BCL', 'name': 'dCilucrbo', 'isCrypto': 1},\n",
       "  {'code': 'COL', 'name': ' riaostNowltelCk', 'isCrypto': 1},\n",
       "  {'code': 'NCN', 'name': 'tnrNirCeatoyetNwetnko tlu ', 'isCrypto': 1},\n",
       "  {'code': 'NCRT', 'name': 'ateCrun', 'isCrypto': 1},\n",
       "  {'code': 'BOCOM', 'name': 'ruFbcumoo', 'isCrypto': 1},\n",
       "  {'code': 'COV', 'name': 'osCegivtn', 'isCrypto': 1},\n",
       "  {'code': 'PCC', 'name': 'inahCPC', 'isCrypto': 1},\n",
       "  {'code': 'BCRN', 'name': 'abCorn', 'isCrypto': 1},\n",
       "  {'code': 'DCR', 'name': 'DyhtlpasCar', 'isCrypto': 1},\n",
       "  {'code': 'CNOR', 'name': 'yanrCtcope', 'isCrypto': 1},\n",
       "  {'code': 'SPC', 'name': 'ansCiap', 'isCrypto': 1},\n",
       "  {'code': 'CTCN', 'name': 'ONCITRNACO', 'isCrypto': 1},\n",
       "  {'code': 'CV', 'name': 'Vircclaraet', 'isCrypto': 1},\n",
       "  {'code': 'VAC', 'name': 'orcircelltoeA CraelytgpaV ', 'isCrypto': 1},\n",
       "  {'code': 'CVW', 'name': 'n iChCWaV', 'isCrypto': 1},\n",
       "  {'code': 'XCO', 'name': 'aCgXro', 'isCrypto': 1},\n",
       "  {'code': 'PPAD', 'name': 'siupipqdAL', 'isCrypto': 1},\n",
       "  {'code': 'PDE', 'name': 'oAnDEPic', 'isCrypto': 1},\n",
       "  {'code': 'DAPYE', 'name': 'ayPeD', 'isCrypto': 1},\n",
       "  {'code': 'EVD', 'name': 'etDoo oclvrP', 'isCrypto': 1},\n",
       "  {'code': 'ADXE', 'name': 'NCIAX DOE', 'isCrypto': 1},\n",
       "  {'code': 'DFS', 'name': ' wsDrNktoefei', 'isCrypto': 1},\n",
       "  {'code': 'XDGT', 'name': 'iiteDgx', 'isCrypto': 1},\n",
       "  {'code': 'DMST', 'name': 'pircDMtS', 'isCrypto': 1},\n",
       "  {'code': 'OUDHG', 'name': 'v DOO2PHiDGU eA', 'isCrypto': 1},\n",
       "  {'code': 'DTA', 'name': 'AATD', 'isCrypto': 1},\n",
       "  {'code': 'DPTE', 'name': 'EIDNOC', 'isCrypto': 1},\n",
       "  {'code': 'THD', 'name': 'herDte', 'isCrypto': 1},\n",
       "  {'code': 'DTX', 'name': 'raotrbkaeD', 'isCrypto': 1},\n",
       "  {'code': 'YPD', 'name': 'iorocYteilleoFd  PD', 'isCrypto': 1},\n",
       "  {'code': 'ZDI', 'name': 'oFintDneii', 'isCrypto': 1},\n",
       "  {'code': 'SBET', 'name': 'steoBo', 'isCrypto': 1},\n",
       "  {'code': 'OCE', 'name': 'Osuymecs Emeosrt', 'isCrypto': 1},\n",
       "  {'code': 'CEU', 'name': 'SCEOC', 'isCrypto': 1},\n",
       "  {'code': 'DCE', 'name': 'kE caiBolhDnCc', 'isCrypto': 1},\n",
       "  {'code': 'END', 'name': 'nEde', 'isCrypto': 1},\n",
       "  {'code': 'LFE', 'name': 'uelden-G', 'isCrypto': 1},\n",
       "  {'code': 'KOE', 'name': 'iLhokcEn', 'isCrypto': 1},\n",
       "  {'code': 'ETK', 'name': 'eCrEaDU', 'isCrypto': 1},\n",
       "  {'code': 'EM', 'name': 'rinmEe', 'isCrypto': 1},\n",
       "  {'code': 'CME', 'name': 'Emcneroi', 'isCrypto': 1},\n",
       "  {'code': 'NGE', 'name': 'mnagEi', 'isCrypto': 1},\n",
       "  {'code': 'EQN', 'name': 'mEeuunc', 'isCrypto': 1},\n",
       "  {'code': 'SADEOC', 'name': 'sAoDeC', 'isCrypto': 1},\n",
       "  {'code': 'DSTOE', 'name': 'TSDOE', 'isCrypto': 1},\n",
       "  {'code': 'ETSO', 'name': 'RTOE USST', 'isCrypto': 1},\n",
       "  {'code': 'SEP', 'name': 'iEslpsil', 'isCrypto': 1},\n",
       "  {'code': 'QEADU', 'name': 'oatuoQrnlroPcatd', 'isCrypto': 1},\n",
       "  {'code': '02RCE', 'name': '2R0CE', 'isCrypto': 1},\n",
       "  {'code': 'EKR', 'name': 'oC nkeiarEu', 'isCrypto': 1},\n",
       "  {'code': 'SSE', 'name': 'sEiatnse', 'isCrypto': 1},\n",
       "  {'code': 'OTHE', 'name': 'r-th1eE', 'isCrypto': 1},\n",
       "  {'code': 'THEV', 'name': 'etvshrEe', 'isCrypto': 1},\n",
       "  {'code': 'VEED', 'name': 'vdeEo', 'isCrypto': 1},\n",
       "  {'code': 'XEE', 'name': '8OX8CTLO OPR', 'isCrypto': 1},\n",
       "  {'code': 'MXE', 'name': 'CiEnX OoM', 'isCrypto': 1},\n",
       "  {'code': 'PEX', 'name': 'npseaxE', 'isCrypto': 1},\n",
       "  {'code': 'XREN', 'name': 'iaEcNRXhn', 'isCrypto': 1},\n",
       "  {'code': 'XYE', 'name': 'Eeytprx', 'isCrypto': 1},\n",
       "  {'code': 'IFRA', 'name': 'CinrFaio', 'isCrypto': 1},\n",
       "  {'code': 'ATF', 'name': 'itoancF', 'isCrypto': 1},\n",
       "  {'code': 'CIF', 'name': 'aelciFhs', 'isCrypto': 1},\n",
       "  {'code': 'FIN', 'name': 'FreienD', 'isCrypto': 1},\n",
       "  {'code': 'JCF', 'name': 'iFConiju', 'isCrypto': 1},\n",
       "  {'code': 'FKX', 'name': 'oosntKteFrrx', 'isCrypto': 1},\n",
       "  {'code': 'HASLF', 'name': 'Fkaaletssh', 'isCrypto': 1},\n",
       "  {'code': 'AFLTE', 'name': 'LFAET', 'isCrypto': 1},\n",
       "  {'code': 'GLF', 'name': 'ongi loyorCF', 'isCrypto': 1},\n",
       "  {'code': 'BFN', 'name': 'NtlBocFoP or', 'isCrypto': 1},\n",
       "  {'code': 'FNT', 'name': 'aFternoPcl jco', 'isCrypto': 1},\n",
       "  {'code': 'NFX', 'name': 'FuNinsex', 'isCrypto': 1},\n",
       "  {'code': 'FO', 'name': 'OISBF', 'isCrypto': 1},\n",
       "  {'code': 'FOL', 'name': 'rloForcoloPetd ', 'isCrypto': 1},\n",
       "  {'code': 'RUOF', 'name': 'EO4EATSLCONLT ILHGIRPH', 'isCrypto': 1},\n",
       "  {'code': 'EEFR', 'name': 'ionE FCER', 'isCrypto': 1},\n",
       "  {'code': 'WFS', 'name': 'nwslaFoapc', 'isCrypto': 1},\n",
       "  {'code': 'CTF', 'name': 'Fhitraeonec', 'isCrypto': 1},\n",
       "  {'code': 'ITF', 'name': 'nsFTiema', 'isCrypto': 1},\n",
       "  {'code': 'FDNU', 'name': 'niiitnUfcoa', 'isCrypto': 1},\n",
       "  {'code': 'DYF', 'name': 'FYDocin', 'isCrypto': 1},\n",
       "  {'code': 'FYZ', 'name': 'yzFoo', 'isCrypto': 1},\n",
       "  {'code': 'APG', 'name': 'PSGA', 'isCrypto': 1},\n",
       "  {'code': 'EQGE', 'name': 'Gqee', 'isCrypto': 1},\n",
       "  {'code': 'EGN', 'name': 'aOcDAkts', 'isCrypto': 1},\n",
       "  {'code': 'GGI', 'name': 'Ksoir', 'isCrypto': 1},\n",
       "  {'code': 'OIG', 'name': 'oiGaoirvnc', 'isCrypto': 1},\n",
       "  {'code': 'GLHC', 'name': 'ithcGl', 'isCrypto': 1},\n",
       "  {'code': 'MAGT', 'name': 'WMhtiiGo', 'isCrypto': 1},\n",
       "  {'code': 'XNG', 'name': 'tooaern NkwrGe', 'isCrypto': 1},\n",
       "  {'code': 'GCO', 'name': 'pGynkotTeroCo ', 'isCrypto': 1},\n",
       "  {'code': '2MOG', 'name': 'ioaGlmnA', 'isCrypto': 1},\n",
       "  {'code': 'RGC', 'name': 'idnirGco', 'isCrypto': 1},\n",
       "  {'code': 'RIDG', 'name': 'i+rGd', 'isCrypto': 1},\n",
       "  {'code': 'ORG', 'name': 't GFhrwoDei', 'isCrypto': 1},\n",
       "  {'code': 'CGS', 'name': 'oia lcao lGlCShinab', 'isCrypto': 1},\n",
       "  {'code': 'TCG', 'name': '.Gammeoc', 'isCrypto': 1},\n",
       "  {'code': 'GMU', 'name': 'oyrxualGet Gma', 'isCrypto': 1},\n",
       "  {'code': 'DLHGO', 'name': 'dGlylooHl', 'isCrypto': 1},\n",
       "  {'code': 'CLH', 'name': 'nhiaHlalCa', 'isCrypto': 1},\n",
       "  {'code': 'MHQ', 'name': 'nqaiuHm', 'isCrypto': 1},\n",
       "  {'code': 'SNHT', 'name': 'tesnHo', 'isCrypto': 1},\n",
       "  {'code': 'HMOI', 'name': 'MPEHHIOL', 'isCrypto': 1},\n",
       "  {'code': 'NHT', 'name': 'Hbetem uarrN', 'isCrypto': 1},\n",
       "  {'code': 'HY', 'name': 'iybrxh', 'isCrypto': 1},\n",
       "  {'code': 'HYC', 'name': 'NCYHO', 'isCrypto': 1},\n",
       "  {'code': 'HNY', 'name': 'yeHornpi', 'isCrypto': 1},\n",
       "  {'code': 'YHEV', 'name': 'Hvey', 'isCrypto': 1},\n",
       "  {'code': 'NICQ', 'name': 'Ik cconneoTi', 'isCrypto': 1},\n",
       "  {'code': 'DIEA', 'name': 'odylIeoga', 'isCrypto': 1},\n",
       "  {'code': 'RITD', 'name': 'npTRkeih oua', 'isCrypto': 1},\n",
       "  {'code': 'HTI', 'name': 'cPIEtHras Tleo aolRtoe t', 'isCrypto': 1},\n",
       "  {'code': 'LIC', 'name': 'ICIONL', 'isCrypto': 1},\n",
       "  {'code': 'MTI', 'name': 'keteonyMno', 'isCrypto': 1},\n",
       "  {'code': 'NIE', 'name': 'aeihlnIrtleS', 'isCrypto': 1},\n",
       "  {'code': 'NFI', 'name': 'tkoTiefIisnu nn', 'isCrypto': 1},\n",
       "  {'code': 'OCI', 'name': 'Oin /CIo', 'isCrypto': 1},\n",
       "  {'code': 'IGO', 'name': 'rPdngoauzly', 'isCrypto': 1},\n",
       "  {'code': 'RJT', 'name': 'w rJeisokNartv', 'isCrypto': 1},\n",
       "  {'code': 'ALCK', 'name': 'Pnty rhEangesmaa', 'isCrypto': 1},\n",
       "  {'code': 'DGK', 'name': 'agne i0.Gdm oKm4', 'isCrypto': 1},\n",
       "  {'code': 'AKBEB', 'name': 'Kak bnbToee', 'isCrypto': 1},\n",
       "  {'code': 'KIKC', 'name': 'ckkoTnKei', 'isCrypto': 1},\n",
       "  {'code': 'TKI', 'name': 'etxDKi', 'isCrypto': 1},\n",
       "  {'code': 'CNKD', 'name': 'diaaConKen', 'isCrypto': 1},\n",
       "  {'code': 'BRK', 'name': 'aKrbo', 'isCrypto': 1},\n",
       "  {'code': 'KT', 'name': 'eikKnaT uo', 'isCrypto': 1},\n",
       "  {'code': 'UBOK', 'name': 'ibuooKCn', 'isCrypto': 1},\n",
       "  {'code': 'EUK', 'name': 'Knudee', 'isCrypto': 1},\n",
       "  {'code': 'LSC', 'name': 'oocnLlpCaSiwa', 'isCrypto': 1},\n",
       "  {'code': 'DOL', 'name': 'DLnTOdeo Aiko ', 'isCrypto': 1},\n",
       "  {'code': 'DLEU', 'name': 'mestEcEcntoasdyio u', 'isCrypto': 1},\n",
       "  {'code': 'NKILA', 'name': 'LIKAN', 'isCrypto': 1},\n",
       "  {'code': 'OBSL', 'name': 'eobsLxt', 'isCrypto': 1},\n",
       "  {'code': 'TOOL', 'name': 'oBTLFooxtN', 'isCrypto': 1},\n",
       "  {'code': 'SUNEL', 'name': 'nsueL', 'isCrypto': 1},\n",
       "  {'code': 'UXL', 'name': 'CnXioUL', 'isCrypto': 1},\n",
       "  {'code': 'SAM', 'name': 'oaMroldosPtci', 'isCrypto': 1},\n",
       "  {'code': 'MSAQ', 'name': 'MQSA', 'isCrypto': 1},\n",
       "  {'code': 'CMB', 'name': 'ctniocrBioMi', 'isCrypto': 1},\n",
       "  {'code': 'CMM', 'name': 'hMomoci', 'isCrypto': 1},\n",
       "  {'code': 'CMX', 'name': 'hXcia M', 'isCrypto': 1},\n",
       "  {'code': 'OGM', 'name': 'lMioboGe', 'isCrypto': 1},\n",
       "  {'code': 'L2MKI', 'name': 'pweaacSsp', 'isCrypto': 1},\n",
       "  {'code': 'MEN', 'name': 'meeMnriu', 'isCrypto': 1},\n",
       "  {'code': 'DOIMC', 'name': 'oteminnsv Id eMrnnCeot', 'isCrypto': 1},\n",
       "  {'code': 'MOONS', 'name': 'MTlsooono', 'isCrypto': 1},\n",
       "  {'code': 'YPMA', 'name': 'aManyPe', 'isCrypto': 1},\n",
       "  {'code': 'MTC', 'name': 'CODMCO.', 'isCrypto': 1},\n",
       "  {'code': 'NTM', 'name': 'leiaiccdaMhn', 'isCrypto': 1},\n",
       "  {'code': 'XMT', 'name': 'xMaryt', 'isCrypto': 1},\n",
       "  {'code': 'MUE', 'name': 'ntMeyinratUo', 'isCrypto': 1},\n",
       "  {'code': 'MPV', 'name': 'rleMceut', 'isCrypto': 1},\n",
       "  {'code': 'NSAH', 'name': 'lodraWNosC he', 'isCrypto': 1},\n",
       "  {'code': 'NBTO', 'name': 'ae kok NdhTonaBi', 'isCrypto': 1},\n",
       "  {'code': 'XBN', 'name': 'iC Neobtxno', 'isCrypto': 1},\n",
       "  {'code': 'DTCN', 'name': 'co.oculduN', 'isCrypto': 1},\n",
       "  {'code': 'DXN', 'name': 'aeFdInienxnc de', 'isCrypto': 1},\n",
       "  {'code': 'ESWN', 'name': 'SIHPLBU', 'isCrypto': 1},\n",
       "  {'code': 'NOW', 'name': 'WTOkeoN n', 'isCrypto': 1},\n",
       "  {'code': 'NTY', 'name': 'yxNet', 'isCrypto': 1},\n",
       "  {'code': 'NGU', 'name': 'gusgNet', 'isCrypto': 1},\n",
       "  {'code': 'GOO', 'name': 'rigoO', 'isCrypto': 1},\n",
       "  {'code': 'KO', 'name': 'KaOsCh', 'isCrypto': 1},\n",
       "  {'code': 'OLY', 'name': 'ysOuelm', 'isCrypto': 1},\n",
       "  {'code': 'NMOI', 'name': 'Onim', 'isCrypto': 1},\n",
       "  {'code': 'GON', 'name': 'S.SlacoioMee', 'isCrypto': 1},\n",
       "  {'code': 'NIONO', 'name': 'DnpnOeoei', 'isCrypto': 1},\n",
       "  {'code': 'OTO', 'name': 'CSOAHOT', 'isCrypto': 1},\n",
       "  {'code': 'WOC', 'name': 'ODAWU', 'isCrypto': 1},\n",
       "  {'code': 'NOW', 'name': 'DAWTANO', 'isCrypto': 1},\n",
       "  {'code': 'PNA', 'name': 'Potasn', 'isCrypto': 1},\n",
       "  {'code': 'SPCA', 'name': 'alcPsa', 'isCrypto': 1},\n",
       "  {'code': 'CTPN', 'name': 'lycteaPn', 'isCrypto': 1},\n",
       "  {'code': 'ESPO', 'name': 'SOpE', 'isCrypto': 1},\n",
       "  {'code': 'NGP', 'name': 'coioPeingn', 'isCrypto': 1},\n",
       "  {'code': 'GINP', 'name': 'ypoirCnPtg', 'isCrypto': 1},\n",
       "  {'code': 'PNKI', 'name': 'knnPcioi', 'isCrypto': 1},\n",
       "  {'code': 'TEPIAR', 'name': 'rCePtiaash', 'isCrypto': 1},\n",
       "  {'code': 'PAIZZ', 'name': 'azziP', 'isCrypto': 1},\n",
       "  {'code': 'PLT', 'name': 'zd.xAyd', 'isCrypto': 1},\n",
       "  {'code': 'MEREP', 'name': 'rmeeiQt', 'isCrypto': 1},\n",
       "  {'code': 'SPLOI', 'name': 'oPlis', 'isCrypto': 1},\n",
       "  {'code': 'PBZLP', 'name': 'nPloape Pmbeelpse', 'isCrypto': 1},\n",
       "  {'code': 'PPP', 'name': 'iPPaey', 'isCrypto': 1},\n",
       "  {'code': 'PYP', 'name': 'Peapsrlye', 'isCrypto': 1},\n",
       "  {'code': 'STP', 'name': 'siraPm', 'isCrypto': 1},\n",
       "  {'code': 'YOTP', 'name': 'ryPtotnaei', 'isCrypto': 1},\n",
       "  {'code': 'VPT', 'name': 'tPnioe voTk', 'isCrypto': 1},\n",
       "  {'code': 'AQOD', 'name': 'ovnkn Oa oncte1 Gv AQree.0D', 'isCrypto': 1},\n",
       "  {'code': 'QKR', 'name': 'kQuar', 'isCrypto': 1},\n",
       "  {'code': 'QUN', 'name': 'unQnQu', 'isCrypto': 1},\n",
       "  {'code': 'EECR', 'name': 'bgeccaEiReC eEne nllroyn ronwtie', 'isCrypto': 1},\n",
       "  {'code': 'ERPO', 'name': 'EROP', 'isCrypto': 1},\n",
       "  {'code': 'TMR', 'name': 'ueRreiStm', 'isCrypto': 1},\n",
       "  {'code': 'RTN', 'name': 'tto ROeneorokNw', 'isCrypto': 1},\n",
       "  {'code': 'RDP', 'name': 'Radsip', 'isCrypto': 1},\n",
       "  {'code': 'XPRZ', 'name': 'dizaRp', 'isCrypto': 1},\n",
       "  {'code': 'RHT', 'name': 'Rhatmuori', 'isCrypto': 1},\n",
       "  {'code': 'TSD', 'name': 'OtkA aDSe', 'isCrypto': 1},\n",
       "  {'code': 'DSF', 'name': 'DELA EFSA', 'isCrypto': 1},\n",
       "  {'code': 'XSF', 'name': ' ChefSsaax', 'isCrypto': 1},\n",
       "  {'code': 'SEAKH', 'name': 'EHAKS', 'isCrypto': 1},\n",
       "  {'code': 'ESHDIL', 'name': 'hoScoel todPlir', 'isCrypto': 1},\n",
       "  {'code': 'SHND', 'name': 'SotrdgHnsan', 'isCrypto': 1},\n",
       "  {'code': 'SIN', 'name': 'SENVTAOI', 'isCrypto': 1},\n",
       "  {'code': 'YMLS', 'name': 'SlemiCoyni', 'isCrypto': 1},\n",
       "  {'code': 'NBS', 'name': 'nciocoSrBniyht', 'isCrypto': 1},\n",
       "  {'code': 'TNES', 'name': 'roktnSew', 'isCrypto': 1},\n",
       "  {'code': 'SS', 'name': 'Sradher', 'isCrypto': 1},\n",
       "  {'code': 'SBU', 'name': 'smbartuSut', 'isCrypto': 1},\n",
       "  {'code': 'OMUS', 'name': 'uimoknSo', 'isCrypto': 1},\n",
       "  {'code': 'AECWS', 'name': 'eSwca', 'isCrypto': 1},\n",
       "  {'code': 'XUTS', 'name': 'pUcytekieoi tie lSaTn.rt', 'isCrypto': 1},\n",
       "  {'code': 'ATD', 'name': 'adnFeTlpoean ci', 'isCrypto': 1},\n",
       "  {'code': 'ENTT', 'name': 'TNTE', 'isCrypto': 1},\n",
       "  {'code': 'TCER', 'name': 'ooEouridnrpCaeerTnRw', 'isCrypto': 1},\n",
       "  {'code': 'TLF', 'name': 'uFpleriT', 'isCrypto': 1},\n",
       "  {'code': 'HTC', 'name': 'CinemoHp', 'isCrypto': 1},\n",
       "  {'code': 'HSUTG', 'name': 'TneFgcinau sh', 'isCrypto': 1},\n",
       "  {'code': 'PSIT', 'name': 'FiCeaoodnr', 'isCrypto': 1},\n",
       "  {'code': 'NTT', 'name': 'iTernoi', 'isCrypto': 1},\n",
       "  {'code': 'OOKT', 'name': 'nkooiT', 'isCrypto': 1},\n",
       "  {'code': 'EATRT', 'name': 'eAtODra T', 'isCrypto': 1},\n",
       "  {'code': 'TSL', 'name': 'goneEr', 'isCrypto': 1},\n",
       "  {'code': 'XT', 'name': 'rorTfnCneais', 'isCrypto': 1},\n",
       "  {'code': 'EPYT', 'name': 'riepumyT', 'isCrypto': 1},\n",
       "  {'code': 'ZCT', 'name': 'TiroaCnerz', 'isCrypto': 1},\n",
       "  {'code': 'UOOD', 'name': 'wHo)odp(oHyrr ', 'isCrypto': 1},\n",
       "  {'code': 'SUGA', 'name': 'GSUA', 'isCrypto': 1},\n",
       "  {'code': 'PUI', 'name': 'lcotPaow', 'isCrypto': 1},\n",
       "  {'code': 'SNBUT', 'name': 'itNsuB', 'isCrypto': 1},\n",
       "  {'code': 'TU', 'name': 'Uoldr', 'isCrypto': 1},\n",
       "  {'code': 'vCBH', 'name': ' nCuseVHB', 'isCrypto': 1},\n",
       "  {'code': 'TIVB', 'name': 'ialtoVb', 'isCrypto': 1},\n",
       "  {'code': 'VILE', 'name': 'Veil', 'isCrypto': 1},\n",
       "  {'code': 'EXV', 'name': 'Viexnuma', 'isCrypto': 1},\n",
       "  {'code': 'IV', 'name': 'iVd', 'isCrypto': 1},\n",
       "  {'code': 'IDAVY', 'name': 'dViya', 'isCrypto': 1},\n",
       "  {'code': 'GIV', 'name': 'IGV', 'isCrypto': 1},\n",
       "  {'code': 'VIN', 'name': 'chInVaiN', 'isCrypto': 1},\n",
       "  {'code': 'ISPV', 'name': 'oVp trnCsiia', 'isCrypto': 1},\n",
       "  {'code': 'DVL', 'name': 'eVrti', 'isCrypto': 1},\n",
       "  {'code': 'NTV', 'name': 'N iTChaVn', 'isCrypto': 1},\n",
       "  {'code': 'VRC', 'name': 'CeoiirVn', 'isCrypto': 1},\n",
       "  {'code': 'WCT', 'name': 'soavtWmny euenkmCoT i', 'isCrypto': 1},\n",
       "  {'code': 'SIHW', 'name': 'WiMsyh', 'isCrypto': 1},\n",
       "  {'code': 'LWN', 'name': 'lW.nviiasrteS', 'isCrypto': 1},\n",
       "  {'code': 'OWW', 'name': 'eWnoowr', 'isCrypto': 1},\n",
       "  {'code': 'OWWS', 'name': 'ftrlv S atle oeelWoWs', 'isCrypto': 1},\n",
       "  {'code': 'PWP', 'name': 'NKEOW TPP', 'isCrypto': 1},\n",
       "  {'code': '42X', 'name': '4lto2x oorcP', 'isCrypto': 1},\n",
       "  {'code': 'XSA', 'name': 'scAh', 'isCrypto': 1},\n",
       "  {'code': 'XAUR', 'name': 'uarumX', 'isCrypto': 1},\n",
       "  {'code': 'CxBT', 'name': 'TBxC', 'isCrypto': 1},\n",
       "  {'code': 'XYB', 'name': 'STBRATYXE', 'isCrypto': 1},\n",
       "  {'code': 'HXCF', 'name': 'rrpotcnyCaF', 'isCrypto': 1},\n",
       "  {'code': 'XFC', 'name': 'tlnocbaooFli', 'isCrypto': 1},\n",
       "  {'code': 'FIX', 'name': 'Xiannecf', 'isCrypto': 1},\n",
       "  {'code': 'HIX', 'name': 'HnoiiC', 'isCrypto': 1},\n",
       "  {'code': 'XTOI', 'name': 'rtiXoi', 'isCrypto': 1},\n",
       "  {'code': 'ALX', 'name': 'alcaS', 'isCrypto': 1},\n",
       "  {'code': 'BALX', 'name': 'ecTeXP nloulsk', 'isCrypto': 1},\n",
       "  {'code': 'MCX', 'name': 'ncClo saoesMir', 'isCrypto': 1},\n",
       "  {'code': 'ONXM', 'name': 'XMON', 'isCrypto': 1},\n",
       "  {'code': 'CXP', 'name': 'nriae cehePenCXi', 'isCrypto': 1},\n",
       "  {'code': 'XMP', 'name': 'ricnPomei', 'isCrypto': 1},\n",
       "  {'code': 'XCR', 'name': 'mRiohdux', 'isCrypto': 1},\n",
       "  {'code': 'SXM', 'name': 'uhmsaeScCptr', 'isCrypto': 1},\n",
       "  {'code': 'EEY', 'name': 'EEY', 'isCrypto': 1},\n",
       "  {'code': 'TYEH', 'name': 'fteennfyci.ha', 'isCrypto': 1},\n",
       "  {'code': 'YFIII', 'name': 'nyiDFa.Ficne', 'isCrypto': 1},\n",
       "  {'code': 'SYV', 'name': 'eaVnYnciSF.', 'isCrypto': 1},\n",
       "  {'code': 'CZL', 'name': 'iclZssCa', 'isCrypto': 1},\n",
       "  {'code': 'EZIB', 'name': 'ZeT ibekon', 'isCrypto': 1},\n",
       "  {'code': 'RZE', 'name': 'eroZ', 'isCrypto': 1},\n",
       "  {'code': 'AOZR', 'name': 'Zaoslrce', 'isCrypto': 1},\n",
       "  {'code': 'PZ', 'name': 'oPZlreotn co', 'isCrypto': 1},\n",
       "  {'code': 'ZUT', 'name': 'oeytTkUerZilon  it', 'isCrypto': 1},\n",
       "  {'code': 'A', 'name': 'enlhAka poT', 'isCrypto': 1},\n",
       "  {'code': 'AAB', 'name': 'neoT kAXA', 'isCrypto': 1},\n",
       "  {'code': 'AXB', 'name': 'Arbxeid', 'isCrypto': 1},\n",
       "  {'code': 'ACDE', 'name': 'eADc', 'isCrypto': 1},\n",
       "  {'code': 'DAC', 'name': 'ouoCniAdi', 'isCrypto': 1},\n",
       "  {'code': 'DSA', 'name': 'hdsersaA', 'isCrypto': 1},\n",
       "  {'code': 'ADT', 'name': 'knaoedT', 'isCrypto': 1},\n",
       "  {'code': 'DAI', 'name': 'iAodCni', 'isCrypto': 1},\n",
       "  {'code': 'ILA', 'name': 'iiAonLk Tnek', 'isCrypto': 1},\n",
       "  {'code': 'MLXA', 'name': 'e ArhmSsdalac', 'isCrypto': 1},\n",
       "  {'code': 'TAL', 'name': 'AlakteEt.nos tet', 'isCrypto': 1},\n",
       "  {'code': 'MAA', 'name': 'ANEMAT', 'isCrypto': 1},\n",
       "  {'code': 'MAON', 'name': 'nDomA', 'isCrypto': 1},\n",
       "  {'code': 'RAT', 'name': 'sMeecana', 'isCrypto': 1},\n",
       "  {'code': 'AT', 'name': 'itAtyirfn', 'isCrypto': 1},\n",
       "  {'code': 'CTAC', 'name': 'CCo nAiT', 'isCrypto': 1},\n",
       "  {'code': 'TSOMA', 'name': 'stAmo', 'isCrypto': 1},\n",
       "  {'code': 'ANT', 'name': 'ATN', 'isCrypto': 1},\n",
       "  {'code': 'UAX', 'name': 'uximuilA', 'isCrypto': 1},\n",
       "  {'code': 'AXE', 'name': 'xAe', 'isCrypto': 1},\n",
       "  {'code': 'ASXI', 'name': ' ixDsAeFi', 'isCrypto': 1},\n",
       "  {'code': 'BKB', 'name': 'ksBctiobl', 'isCrypto': 1},\n",
       "  {'code': 'BBP', 'name': 'iyebBPal', 'isCrypto': 1},\n",
       "  {'code': 'BBR', 'name': 'oBeyorlrb', 'isCrypto': 1},\n",
       "  {'code': 'BSB', 'name': 'BCnoSBi', 'isCrypto': 1},\n",
       "  {'code': 'BAC', 'name': 'notocmtBiAi ', 'isCrypto': 1},\n",
       "  {'code': 'TCBP', 'name': 'odaBctrlnrcie ltkom CooosP', 'isCrypto': 1},\n",
       "  {'code': 'DGB', 'name': 'rBegDtiee', 'isCrypto': 1},\n",
       "  {'code': 'CBEN', 'name': 'aocneB', 'isCrypto': 1},\n",
       "  {'code': 'LBAE', 'name': 'eaBl', 'isCrypto': 1},\n",
       "  {'code': 'NBE', 'name': 'BinCeot', 'isCrypto': 1},\n",
       "  {'code': 'RNEB', 'name': 'BsaNERch', 'isCrypto': 1},\n",
       "  {'code': 'YREBR', 'name': 'ebryetRrn', 'isCrypto': 1},\n",
       "  {'code': 'ZBE', 'name': 'oeBzp', 'isCrypto': 1},\n",
       "  {'code': 'LBG', 'name': 'lesigBelt', 'isCrypto': 1},\n",
       "  {'code': 'BGTT', 'name': ' neouegkeTtBta', 'isCrypto': 1},\n",
       "  {'code': 'RIB', 'name': 'eraiBk', 'isCrypto': 1},\n",
       "  {'code': 'BSI', 'name': 'ithsmuB', 'isCrypto': 1},\n",
       "  {'code': 'BCIT', 'name': 'taiCBsh', 'isCrypto': 1},\n",
       "  {'code': 'OBITT', 'name': 'IOTBT', 'isCrypto': 1},\n",
       "  {'code': 'TBXI', 'name': 'kie TBenoertrcSne', 'isCrypto': 1},\n",
       "  {'code': 'TLBG', 'name': 'c-iooclLBkg', 'isCrypto': 1},\n",
       "  {'code': 'ULB', 'name': 'nCoiBelu', 'isCrypto': 1},\n",
       "  {'code': 'BEUL', 'name': 'Pl ooulBotcre', 'isCrypto': 1},\n",
       "  {'code': 'URBL', 'name': 'lBru', 'isCrypto': 1},\n",
       "  {'code': 'HMB', 'name': 'ekloBMshc', 'isCrypto': 1},\n",
       "  {'code': 'CNB', 'name': 'cniBoi', 'isCrypto': 1},\n",
       "  {'code': 'XBNT', 'name': 'tstFeiurenuBx ', 'isCrypto': 1},\n",
       "  {'code': 'TNYB', 'name': 'n0xyBout', 'isCrypto': 1},\n",
       "  {'code': 'BNY', 'name': 'ccnyaBa', 'isCrypto': 1},\n",
       "  {'code': 'LOIB', 'name': 'iincBrvoloa', 'isCrypto': 1},\n",
       "  {'code': 'OBN', 'name': 'ypaBon', 'isCrypto': 1},\n",
       "  {'code': 'SOTBU', 'name': 'ourPBsot', 'isCrypto': 1},\n",
       "  {'code': 'QBQQ', 'name': 'qsBitad', 'isCrypto': 1},\n",
       "  {'code': 'BRDG', 'name': 'gPr ercdooiotlB', 'isCrypto': 1},\n",
       "  {'code': 'TBA', 'name': 'ataB', 'isCrypto': 1},\n",
       "  {'code': 'TLBC', 'name': 'CBiTetL ', 'isCrypto': 1},\n",
       "  {'code': 'TCBT', 'name': 'incoTBet iokn', 'isCrypto': 1},\n",
       "  {'code': 'DXBT', 'name': 'ltBcudio', 'isCrypto': 1},\n",
       "  {'code': 'BRTN', 'name': 'toonirB', 'isCrypto': 1},\n",
       "  {'code': 'BWT', 'name': 'httieBiW', 'isCrypto': 1},\n",
       "  {'code': 'BRNU', 'name': 'uokrBlncb', 'isCrypto': 1},\n",
       "  {'code': 'ZZBU', 'name': 'nZiZUCoB', 'isCrypto': 1},\n",
       "  {'code': 'ZBE', 'name': 'BegZdE', 'isCrypto': 1},\n",
       "  {'code': 'ZNTB', 'name': 'eBtazn', 'isCrypto': 1},\n",
       "  {'code': 'XZB', 'name': 'B rconoZieit', 'isCrypto': 1},\n",
       "  {'code': 'C2', 'name': 'oC.n1i2', 'isCrypto': 1},\n",
       "  {'code': 'ACLL', 'name': 'ablraCtnecGloy lli oAp', 'isCrypto': 1},\n",
       "  {'code': 'NAORBC', 'name': 'aonobrCcni', 'isCrypto': 1},\n",
       "  {'code': 'CTA', 'name': 'nkeTt aCo', 'isCrypto': 1},\n",
       "  {'code': 'NCC', 'name': 'otcttCCokastmrreuNown', 'isCrypto': 1},\n",
       "  {'code': 'CCRB', 'name': 'orrbntaCCopy', 'isCrypto': 1},\n",
       "  {'code': 'CCX', 'name': 'acCoenl', 'isCrypto': 1},\n",
       "  {'code': 'CLD', 'name': 'kCooTieelD nna', 'isCrypto': 1},\n",
       "  {'code': 'ECN', 'name': 'rtnoEiocwrspemoe  NCtsesuky', 'isCrypto': 1},\n",
       "  {'code': 'EGCN', 'name': 'yerontoiCmiGtennuma', 'isCrypto': 1},\n",
       "  {'code': 'SEECEH', 'name': 'hiCeoecnes', 'isCrypto': 1},\n",
       "  {'code': 'ECSSH', 'name': 'sehiCsCno', 'isCrypto': 1},\n",
       "  {'code': 'ICV', 'name': 'ivsCati', 'isCrypto': 1},\n",
       "  {'code': 'JC', 'name': 'oysCtjcakrp', 'isCrypto': 1},\n",
       "  {'code': 'KOALC', 'name': 'nkCiaCloo', 'isCrypto': 1},\n",
       "  {'code': 'CMM', 'name': 'rcuCmomiem', 'isCrypto': 1},\n",
       "  {'code': 'COB', 'name': 'oioCdonbh', 'isCrypto': 1},\n",
       "  {'code': 'RPC', 'name': 'riChep', 'isCrypto': 1},\n",
       "  {'code': 'CDTR', 'name': 'DCRT', 'isCrypto': 1},\n",
       "  {'code': 'TOCAR', 'name': 'ORCAT', 'isCrypto': 1},\n",
       "  {'code': 'LCT', 'name': 'telCiad', 'isCrypto': 1},\n",
       "  {'code': 'TRCT', 'name': 'rutrtypCs', 'isCrypto': 1},\n",
       "  {'code': 'TCT', 'name': 'weaseCtt', 'isCrypto': 1},\n",
       "  {'code': 'VCCC', 'name': 'arrfpoViiCnCeoyicottin', 'isCrypto': 1},\n",
       "  {'code': 'ADB', 'name': 'DAANGNKBI', 'isCrypto': 1},\n",
       "  {'code': 'YAD', 'name': 'noCrclihogo', 'isCrypto': 1},\n",
       "  {'code': 'TODC', 'name': 'eTzcry epadleet CnoDoirntk', 'isCrypto': 1},\n",
       "  {'code': 'RIED', 'name': 'irooPlr oDcte', 'isCrypto': 1},\n",
       "  {'code': 'DFT', 'name': 'oaDnfirtC', 'isCrypto': 1},\n",
       "  {'code': 'DGC', 'name': 'oaciiDnitgl', 'isCrypto': 1},\n",
       "  {'code': 'SDITX', 'name': 'tDsiX', 'isCrypto': 1},\n",
       "  {'code': 'DLM', 'name': 'aclrMnDi eraeneghaenienztLcdi ', 'isCrypto': 1},\n",
       "  {'code': 'OEDIGF', 'name': 'IGOEDF', 'isCrypto': 1},\n",
       "  {'code': 'ONUD', 'name': 'nuoD', 'isCrypto': 1},\n",
       "  {'code': 'PDEO', 'name': 'nCooeDpi', 'isCrypto': 1},\n",
       "  {'code': 'OWD', 'name': 'IDWOCON', 'isCrypto': 1},\n",
       "  {'code': 'CRTD', 'name': 'dCairtaertsD iu', 'isCrypto': 1},\n",
       "  {'code': 'OUD', 'name': 'nlPalaCloeir', 'isCrypto': 1},\n",
       "  {'code': 'TXD', 'name': 'alatatwDel', 'isCrypto': 1},\n",
       "  {'code': 'DTNYM', 'name': 'mnieDaty', 'isCrypto': 1},\n",
       "  {'code': 'EBK', 'name': 'ekbsua', 'isCrypto': 1},\n",
       "  {'code': 'EMGE', 'name': 'meGtreEh', 'isCrypto': 1},\n",
       "  {'code': 'LALE', 'name': 'liaslmE', 'isCrypto': 1},\n",
       "  {'code': 'COILENT', 'name': 'EOLNTCI', 'isCrypto': 1},\n",
       "  {'code': 'ELY', 'name': 'syEnlai', 'isCrypto': 1},\n",
       "  {'code': 'EMD', 'name': 'tCm ralrEpdoye', 'isCrypto': 1},\n",
       "  {'code': 'GREN', 'name': 'enrEcyiogn', 'isCrypto': 1},\n",
       "  {'code': 'TERNC', 'name': 'onriEnetC', 'isCrypto': 1},\n",
       "  {'code': 'ROE', 'name': 'Ecsoirno', 'isCrypto': 1},\n",
       "  {'code': 'ES', 'name': 'Erp aawS', 'isCrypto': 1},\n",
       "  {'code': 'SECE', 'name': 'eloraom srdcEEc', 'isCrypto': 1},\n",
       "  {'code': 'PHELTO', 'name': 'ETHepdol', 'isCrypto': 1},\n",
       "  {'code': 'TIE', 'name': 'EetrnhcI', 'isCrypto': 1},\n",
       "  {'code': 'TEX', 'name': 'metXEhrue', 'isCrypto': 1},\n",
       "  {'code': 'ZTE', 'name': 're erEtZoh', 'isCrypto': 1},\n",
       "  {'code': 'ILEV', 'name': 'Cvoilin E', 'isCrypto': 1},\n",
       "  {'code': 'NEV', 'name': 'nEoCenvi', 'isCrypto': 1},\n",
       "  {'code': 'VET', 'name': 'vokEneTeri', 'isCrypto': 1},\n",
       "  {'code': 'ACFE', 'name': 'ecetraF', 'isCrypto': 1},\n",
       "  {'code': 'FBN', 'name': 'vlncbFaeiae', 'isCrypto': 1},\n",
       "  {'code': 'FEX', 'name': 'koexdFTnei', 'isCrypto': 1},\n",
       "  {'code': 'FGC', 'name': 'GyslantdaoF', 'isCrypto': 1},\n",
       "  {'code': 'IFII', 'name': 'iFii', 'isCrypto': 1},\n",
       "  {'code': 'EFRI', 'name': 'brFlalie', 'isCrypto': 1},\n",
       "  {'code': 'TOLF', 'name': ' tirLeoFto', 'isCrypto': 1},\n",
       "  {'code': 'FULX', 'name': 'XFUL', 'isCrypto': 1},\n",
       "  {'code': 'FXL', 'name': ' nexFilooCi', 'isCrypto': 1},\n",
       "  {'code': 'TFAO', 'name': 'utFroan', 'isCrypto': 1},\n",
       "  {'code': 'FREC', 'name': 'yreaFnchri', 'isCrypto': 1},\n",
       "  {'code': 'SRTF', 'name': 'ornisCitF', 'isCrypto': 1},\n",
       "  {'code': 'SBTF', 'name': 'PFS AeTI TkBno', 'isCrypto': 1},\n",
       "  {'code': 'CGN', 'name': 'GiCNC on', 'isCrypto': 1},\n",
       "  {'code': 'CGR', 'name': 'uv oesnGbRya llrreceCre', 'isCrypto': 1},\n",
       "  {'code': 'FNGU', 'name': 'doduGFnl', 'isCrypto': 1},\n",
       "  {'code': 'ICG', 'name': 'aGnti', 'isCrypto': 1},\n",
       "  {'code': 'IGN', 'name': 'oGncNIi', 'isCrypto': 1},\n",
       "  {'code': 'LGT', 'name': 'TloklnGbaeo', 'isCrypto': 1},\n",
       "  {'code': 'GRTF', 'name': 'Grtfa', 'isCrypto': 1},\n",
       "  {'code': 'IGMMR', 'name': 'miGmr', 'isCrypto': 1},\n",
       "  {'code': 'GMT', 'name': 'amirnueGt', 'isCrypto': 1},\n",
       "  {'code': 'XGX', 'name': 'orGCtniayvi', 'isCrypto': 1},\n",
       "  {'code': 'NHAD', 'name': 'awhoSHnd', 'isCrypto': 1},\n",
       "  {'code': 'BH', 'name': 'HeuroBtat', 'isCrypto': 1},\n",
       "  {'code': 'HRE', 'name': 'eNdeoHor', 'isCrypto': 1},\n",
       "  {'code': 'ERBH', 'name': 'e ltnTeHbirskoa', 'isCrypto': 1},\n",
       "  {'code': 'HIXL', 'name': 'lHxie', 'isCrypto': 1},\n",
       "  {'code': 'HLX', 'name': 'exeHl', 'isCrypto': 1},\n",
       "  {'code': 'OHURS', 'name': 'rusHyoaP', 'isCrypto': 1},\n",
       "  {'code': 'NSH', 'name': 'eytpewHek dSe rNpro', 'isCrypto': 1},\n",
       "  {'code': 'HSS', 'name': 'eHsrhahsa', 'isCrypto': 1},\n",
       "  {'code': 'SUHH', 'name': 'uHhs', 'isCrypto': 1},\n",
       "  {'code': 'CWH', 'name': 'HnylilooooWCd', 'isCrypto': 1},\n",
       "  {'code': 'IC', 'name': 'itgnIoin', 'isCrypto': 1},\n",
       "  {'code': 'DTI', 'name': 'iItvsnDglatie', 'isCrypto': 1},\n",
       "  {'code': 'ETHI', 'name': 'huireetmE', 'isCrypto': 1},\n",
       "  {'code': 'FTI', 'name': 'deevsFnIte', 'isCrypto': 1},\n",
       "  {'code': 'I4F2X', 'name': 'XFI42', 'isCrypto': 1},\n",
       "  {'code': 'GI', 'name': 'eoGInkT', 'isCrypto': 1},\n",
       "  {'code': 'NEIX', 'name': 'PexcjroeInt ', 'isCrypto': 1},\n",
       "  {'code': 'NNI', 'name': 'vaInon', 'isCrypto': 1},\n",
       "  {'code': 'NRIT', 'name': 'neNoTkIR', 'isCrypto': 1},\n",
       "  {'code': 'NIVE', 'name': 'aIeluVrnet', 'isCrypto': 1},\n",
       "  {'code': 'NIO', 'name': 'ION', 'isCrypto': 1},\n",
       "  {'code': 'ONCI', 'name': 'hIaOCinN', 'isCrypto': 1},\n",
       "  {'code': 'LTI', 'name': 'iatiarlLI an', 'isCrypto': 1},\n",
       "  {'code': 'JET', 'name': 'oJtneic', 'isCrypto': 1},\n",
       "  {'code': 'KNID', 'name': 'eTd inAKkdo sn', 'isCrypto': 1},\n",
       "  {'code': 'OKOB', 'name': 'conoboKi', 'isCrypto': 1},\n",
       "  {'code': 'RUTK', 'name': 'eurrnKt', 'isCrypto': 1},\n",
       "  {'code': 'KATTW', 'name': 'N4EW', 'isCrypto': 1},\n",
       "  {'code': 'CPL', 'name': 'clentsL iiouP', 'isCrypto': 1},\n",
       "  {'code': 'DCL', 'name': 'aecndiLo', 'isCrypto': 1},\n",
       "  {'code': 'LTH', 'name': 'LTH', 'isCrypto': 1},\n",
       "  {'code': 'SLT', 'name': 'cneLvekkySeunoT', 'isCrypto': 1},\n",
       "  {'code': 'AMC', 'name': 'recnoMxait', 'isCrypto': 1},\n",
       "  {'code': 'LAWM', 'name': 'CMiawarhnale', 'isCrypto': 1},\n",
       "  {'code': 'RAMTK', 'name': 'tirasMtk', 'isCrypto': 1},\n",
       "  {'code': 'CEDIM', 'name': 'noeMdciiC', 'isCrypto': 1},\n",
       "  {'code': 'SEM', 'name': 'CMaeshin', 'isCrypto': 1},\n",
       "  {'code': 'EXCM', 'name': 'MEeknC XTo', 'isCrypto': 1},\n",
       "  {'code': 'CFM', 'name': 'CFonMi', 'isCrypto': 1},\n",
       "  {'code': 'MUFT', 'name': 'ranFudtone gmMne rrTireUa oshd', 'isCrypto': 1},\n",
       "  {'code': 'CMROI', 'name': 'nsireoMmic', 'isCrypto': 1},\n",
       "  {'code': 'NEMTMI', 'name': 'CointnmcMe oM.i', 'isCrypto': 1},\n",
       "  {'code': 'MLM', 'name': 'CtMkino', 'isCrypto': 1},\n",
       "  {'code': 'OMM', 'name': 'iOoCnMM', 'isCrypto': 1},\n",
       "  {'code': 'TMPN', 'name': 'tiMGnodl', 'isCrypto': 1},\n",
       "  {'code': 'XDMO', 'name': 'DXO-nE-icLoM', 'isCrypto': 1},\n",
       "  {'code': 'MOJO', 'name': 'ojoCionM', 'isCrypto': 1},\n",
       "  {'code': 'KMNO', 'name': 'eojye ktrncPMo', 'isCrypto': 1},\n",
       "  {'code': 'ROM', 'name': ' toCrnporiMCoy', 'isCrypto': 1},\n",
       "  {'code': 'OMER', 'name': 'nCoiMor e', 'isCrypto': 1},\n",
       "  {'code': 'AMTO', 'name': 'toaoCMni', 'isCrypto': 1},\n",
       "  {'code': 'TOMO', 'name': 'tMioncoo', 'isCrypto': 1},\n",
       "  {'code': 'MSR', 'name': 'riaMsa', 'isCrypto': 1},\n",
       "  {'code': 'CMV', 'name': 'iCianarevh kMc', 'isCrypto': 1},\n",
       "  {'code': '003N1', 'name': 'nFIY', 'isCrypto': 1},\n",
       "  {'code': 'NNAJ', 'name': 'OINNACNJ', 'isCrypto': 1},\n",
       "  {'code': 'TNA', 'name': 'eaNowim nE Pucrtsr', 'isCrypto': 1},\n",
       "  {'code': 'CNB', 'name': 'inuNobCoiim ', 'isCrypto': 1},\n",
       "  {'code': 'BNR', 'name': 'ioibosaCNh ', 'isCrypto': 1},\n",
       "  {'code': 'NEKOT', 'name': 'oteNk', 'isCrypto': 1},\n",
       "  {'code': 'MPN', 'name': 'irNoriepmcoo.uh', 'isCrypto': 1},\n",
       "  {'code': 'NPC', 'name': 'niCoPN', 'isCrypto': 1},\n",
       "  {'code': 'NCLP', 'name': 'nCsu-Poli', 'isCrypto': 1},\n",
       "  {'code': 'PRN', 'name': 'lcNl aPetrouoro', 'isCrypto': 1},\n",
       "  {'code': 'NDS', 'name': 'ciosaNdna', 'isCrypto': 1},\n",
       "  {'code': 'RNT', 'name': 'Nmeurt', 'isCrypto': 1},\n",
       "  {'code': 'TNNR', 'name': 'Norteun', 'isCrypto': 1},\n",
       "  {'code': 'TCO', 'name': 'liehCanrcOa', 'isCrypto': 1},\n",
       "  {'code': 'OKS', 'name': 'nskhiacO', 'isCrypto': 1},\n",
       "  {'code': 'OTO', 'name': 'tumrU', 'isCrypto': 1},\n",
       "  {'code': 'AOPL', 'name': 'palO', 'isCrypto': 1},\n",
       "  {'code': 'TOPI', 'name': 'eoOnipkTt', 'isCrypto': 1},\n",
       "  {'code': 'AOS', 'name': 'AekOTnSo ', 'isCrypto': 1},\n",
       "  {'code': 'OURO', 'name': 'bosruorOo', 'isCrypto': 1},\n",
       "  {'code': 'DAAPT', 'name': 'AAPDT', 'isCrypto': 1},\n",
       "  {'code': 'PNEG', 'name': 'NPEG', 'isCrypto': 1},\n",
       "  {'code': 'PPES', 'name': 'onCSi PEP', 'isCrypto': 1},\n",
       "  {'code': 'PEX', 'name': 'xoPEs', 'isCrypto': 1},\n",
       "  {'code': 'GPO', 'name': 'iCnloeinnoPg', 'isCrypto': 1},\n",
       "  {'code': 'OHP', 'name': 'ohnoPt', 'isCrypto': 1},\n",
       "  {'code': 'IRLP', 'name': 'lrPi', 'isCrypto': 1},\n",
       "  {'code': 'PLAT', 'name': 'iA BlditGLuPT', 'isCrypto': 1},\n",
       "  {'code': 'ARULP', 'name': 'oirPlanCu', 'isCrypto': 1},\n",
       "  {'code': 'POP', 'name': 'onCairouPpl', 'isCrypto': 1},\n",
       "  {'code': 'SPWO', 'name': 'WSooiCP n', 'isCrypto': 1},\n",
       "  {'code': 'RIXP', 'name': 'Pivxriat', 'isCrypto': 1},\n",
       "  {'code': 'RXP', 'name': 'oeyPdrxNo', 'isCrypto': 1},\n",
       "  {'code': 'TIP', 'name': 'taatyPmo', 'isCrypto': 1},\n",
       "  {'code': 'PNY', 'name': 'EPATCYN', 'isCrypto': 1},\n",
       "  {'code': 'YPKR', 'name': 'rkyP', 'isCrypto': 1},\n",
       "  {'code': 'NQIU', 'name': 'IQNASUD', 'isCrypto': 1},\n",
       "  {'code': 'SIRAE', 'name': 'eiaRs', 'isCrypto': 1},\n",
       "  {'code': 'BSEIR', 'name': 'bseuRi', 'isCrypto': 1},\n",
       "  {'code': 'RBE2', 'name': 'beRadse', 'isCrypto': 1},\n",
       "  {'code': 'ENDEOGR', 'name': 'DGrOeEn', 'isCrypto': 1},\n",
       "  {'code': 'ERX', 'name': 'mxierb', 'isCrypto': 1},\n",
       "  {'code': 'LRGEI', 'name': 'gnli eicaRenF', 'isCrypto': 1},\n",
       "  {'code': 'ROAD', 'name': 'ROAD', 'isCrypto': 1},\n",
       "  {'code': 'GRZU', 'name': '.cngahipllunuferet', 'isCrypto': 1},\n",
       "  {'code': 'RPU', 'name': 'euRep', 'isCrypto': 1},\n",
       "  {'code': 'FEAS', 'name': 'MEFEAS', 'isCrypto': 1},\n",
       "  {'code': 'ESM', 'name': 'eSmxu', 'isCrypto': 1},\n",
       "  {'code': 'PSCF', 'name': 'ptaFa CSli', 'isCrypto': 1},\n",
       "  {'code': 'FGS', 'name': 'F.nenicSa', 'isCrypto': 1},\n",
       "  {'code': 'NISS', 'name': 'eSasIneurf', 'isCrypto': 1},\n",
       "  {'code': 'SIKN', 'name': 'nnCikSoi', 'isCrypto': 1},\n",
       "  {'code': 'RNSG', 'name': 'nySryge', 'isCrypto': 1},\n",
       "  {'code': 'PSXTH', 'name': 'oXSphiaT', 'isCrypto': 1},\n",
       "  {'code': 'SRPKL', 'name': 'ytl oapayreklSL', 'isCrypto': 1},\n",
       "  {'code': 'SSS', 'name': 'm leSttifwlap roSeooSisnu', 'isCrypto': 1},\n",
       "  {'code': 'STKA', 'name': 'RKSSTA', 'isCrypto': 1},\n",
       "  {'code': 'TEPES', 'name': 'SeneCotpi', 'isCrypto': 1},\n",
       "  {'code': 'MTS', 'name': 'temSiyart', 'isCrypto': 1},\n",
       "  {'code': 'STQ', 'name': 'Satroqi', 'isCrypto': 1},\n",
       "  {'code': 'VRS', 'name': 'SovonronaCi', 'isCrypto': 1},\n",
       "  {'code': 'IFSWT', 'name': 'haiSCtwsf', 'isCrypto': 1},\n",
       "  {'code': 'GWNSI', 'name': 'nwgiS', 'isCrypto': 1},\n",
       "  {'code': 'YSN', 'name': 'ySLvne', 'isCrypto': 1},\n",
       "  {'code': 'TGA', 'name': 'CngaToi', 'isCrypto': 1},\n",
       "  {'code': 'TAN', 'name': 'marTkkneaoika Ntlw', 'isCrypto': 1},\n",
       "  {'code': 'XBT', 'name': 'Tbokxeon', 'isCrypto': 1},\n",
       "  {'code': 'HCSTA', 'name': 'ATSHC', 'isCrypto': 1},\n",
       "  {'code': 'COTRE', 'name': 'ooTdanr', 'isCrypto': 1},\n",
       "  {'code': 'TPD', 'name': 'DkeTruce', 'isCrypto': 1},\n",
       "  {'code': 'TAME', 'name': 'rkteT AT)n(SMEsao', 'isCrypto': 1},\n",
       "  {'code': 'TEAN', 'name': 'ENAT', 'isCrypto': 1},\n",
       "  {'code': 'EAGMT', 'name': 'eeguamrT', 'isCrypto': 1},\n",
       "  {'code': 'TIC', 'name': 'Tagcnhhniis', 'isCrypto': 1},\n",
       "  {'code': 'PTK', 'name': 'TKOIPE', 'isCrypto': 1},\n",
       "  {'code': 'TCO', 'name': 'cCoouTnh', 'isCrypto': 1},\n",
       "  {'code': 'TCR', 'name': 'rceaoinrT', 'isCrypto': 1},\n",
       "  {'code': 'PTRUM', 'name': 'mroTpuCni', 'isCrypto': 1},\n",
       "  {'code': 'TDS', 'name': 'aernoiglSao ireerug DTl', 'isCrypto': 1},\n",
       "  {'code': 'TPU', 'name': 'peTnU', 'isCrypto': 1},\n",
       "  {'code': 'UNB', 'name': 'iUrcibno', 'isCrypto': 1},\n",
       "  {'code': 'IYUNF', 'name': 'yifnU', 'isCrypto': 1},\n",
       "  {'code': 'INTU', 'name': 'lenCUir saunyverrc', 'isCrypto': 1},\n",
       "  {'code': 'GWV', 'name': 'eoeakWlV tgTealn', 'isCrypto': 1},\n",
       "  {'code': 'DIVZ', 'name': 'rPVidezu', 'isCrypto': 1},\n",
       "  {'code': 'SVL', 'name': 'leseV', 'isCrypto': 1},\n",
       "  {'code': 'OOVC', 'name': 'ookv eonTocPr', 'isCrypto': 1},\n",
       "  {'code': 'TVO', 'name': 'VonieCto', 'isCrypto': 1},\n",
       "  {'code': 'TOEV', 'name': 'rAago', 'isCrypto': 1},\n",
       "  {'code': 'RSV', 'name': 'oVsre', 'isCrypto': 1},\n",
       "  {'code': 'SLV', 'name': 'ivelSc', 'isCrypto': 1},\n",
       "  {'code': 'VLUC', 'name': 'VCUNOAL', 'isCrypto': 1},\n",
       "  {'code': 'BWA', 'name': 'etWBrokAwn', 'isCrypto': 1},\n",
       "  {'code': 'NWAD', 'name': 'dWanX', 'isCrypto': 1},\n",
       "  {'code': 'WCC', 'name': 'aniCWhs', 'isCrypto': 1},\n",
       "  {'code': 'CEW', 'name': 'dicveuonae w ', 'isCrypto': 1},\n",
       "  {'code': 'GWP', 'name': 'Ge r nPeaWy', 'isCrypto': 1},\n",
       "  {'code': 'WON', 'name': 'WcBkelo', 'isCrypto': 1},\n",
       "  {'code': 'RWC', 'name': 'leooWdrrc', 'isCrypto': 1},\n",
       "  {'code': 'WTN', 'name': 'etWnaokle', 'isCrypto': 1},\n",
       "  {'code': 'GW0V',\n",
       "   'name': ' ttppidaoWiitnrse-nrg 0r eGVKeipCy',\n",
       "   'isCrypto': 1},\n",
       "  {'code': 'CXN', 'name': 'Creoyniptt', 'isCrypto': 1},\n",
       "  {'code': 'NCXO', 'name': 'etnCoCncno i', 'isCrypto': 1},\n",
       "  {'code': 'GXM', 'name': 'Dsfie', 'isCrypto': 1},\n",
       "  {'code': 'RXL', 'name': 'orasiSl', 'isCrypto': 1},\n",
       "  {'code': 'PAX', 'name': 'AXP', 'isCrypto': 1},\n",
       "  {'code': 'ATPX', 'name': 'nBointiat', 'isCrypto': 1},\n",
       "  {'code': 'RXA', 'name': 'cRteiano', 'isCrypto': 1},\n",
       "  {'code': 'SHX', 'name': 'LESDHI', 'isCrypto': 1},\n",
       "  {'code': 'XTASR', 'name': 'XaEtDSr', 'isCrypto': 1},\n",
       "  {'code': 'UZEX', 'name': 'zeXu', 'isCrypto': 1},\n",
       "  {'code': 'WPX', 'name': 'waSp', 'isCrypto': 1},\n",
       "  {'code': 'IFIFY', 'name': 'FiYF anIncIFe', 'isCrypto': 1},\n",
       "  {'code': 'SIYF', 'name': 'cYcfenise', 'isCrypto': 1},\n",
       "  {'code': 'PLMY', 'name': 'YPML', 'isCrypto': 1},\n",
       "  {'code': 'OYC', 'name': 'oocYni', 'isCrypto': 1},\n",
       "  {'code': 'YTN', 'name': 'NNETYE', 'isCrypto': 1},\n",
       "  {'code': 'STyLA', 'name': 'yeTaAinS FncL', 'isCrypto': 1},\n",
       "  {'code': 'DZR', 'name': 'ldZroa', 'isCrypto': 1},\n",
       "  {'code': 'ZTE', 'name': 'eaZiotcn', 'isCrypto': 1},\n",
       "  {'code': 'SEZU', 'name': 'oNZturewske', 'isCrypto': 1},\n",
       "  {'code': 'IZCN', 'name': 'ZICN', 'isCrypto': 1},\n",
       "  {'code': 'ZLA', 'name': 'laZil', 'isCrypto': 1},\n",
       "  {'code': 'YNZ', 'name': 'ziyetBn', 'isCrypto': 1},\n",
       "  {'code': 'PZT', 'name': 'epeiZn', 'isCrypto': 1},\n",
       "  {'code': 'ZUC', 'name': 'CieoxZun', 'isCrypto': 1},\n",
       "  {'code': 'BABC', 'name': 'iABn BCoC', 'isCrypto': 1},\n",
       "  {'code': 'DAX', 'name': ' rAoxkEdtwNe', 'isCrypto': 1},\n",
       "  {'code': 'GORAE', 'name': 'egAor', 'isCrypto': 1},\n",
       "  {'code': 'GAI', 'name': 'trnuiiglaNyTES', 'isCrypto': 1},\n",
       "  {'code': 'NOAI', 'name': 'nioA', 'isCrypto': 1},\n",
       "  {'code': 'KOAR', 'name': 'Alrkpsooi', 'isCrypto': 1},\n",
       "  {'code': 'AKT', 'name': 'arkse thANkwo', 'isCrypto': 1},\n",
       "  {'code': 'BLTA', 'name': 'kceliAcloaBln', 'isCrypto': 1},\n",
       "  {'code': 'CELAI', 'name': 'AirbhNMecgoeyil', 'isCrypto': 1},\n",
       "  {'code': 'MOA', 'name': 'AoOiC Mn', 'isCrypto': 1},\n",
       "  {'code': 'PMA', 'name': 'pAm', 'isCrypto': 1},\n",
       "  {'code': 'MPLA', 'name': 'pmtorlAfeh', 'isCrypto': 1},\n",
       "  {'code': 'ANT', 'name': 'ngraoA', 'isCrypto': 1},\n",
       "  {'code': 'A3PI', 'name': 'I3PA', 'isCrypto': 1},\n",
       "  {'code': 'DRRA', 'name': 'Aodrr', 'isCrypto': 1},\n",
       "  {'code': 'RAK', 'name': 'rAk', 'isCrypto': 1},\n",
       "  {'code': 'RPAA', 'name': 'ARCA hPina', 'isCrypto': 1},\n",
       "  {'code': 'TAS', 'name': 'rpaiSAw', 'isCrypto': 1},\n",
       "  {'code': 'TARI', 'name': 'Ter nAtkoai', 'isCrypto': 1},\n",
       "  {'code': 'TAT', 'name': 'alttiA', 'isCrypto': 1},\n",
       "  {'code': 'IOADU', 'name': 'sAuiud', 'isCrypto': 1},\n",
       "  {'code': 'AAV', 'name': '.vrmlacTaoa', 'isCrypto': 1},\n",
       "  {'code': 'EALX', 'name': 'ALXE', 'isCrypto': 1},\n",
       "  {'code': 'AXS', 'name': 'AxIinn eiyift', 'isCrypto': 1},\n",
       "  {'code': 'AGBDER', 'name': 'aADBgOr de', 'isCrypto': 1},\n",
       "  {'code': 'BAKE', 'name': 'ryoneBTkeka', 'isCrypto': 1},\n",
       "  {'code': 'ALB', 'name': 'lcrBeaan', 'isCrypto': 1},\n",
       "  {'code': 'DNAB', 'name': 'd ooantoPrlBc', 'isCrypto': 1},\n",
       "  {'code': 'DCB', 'name': ' nctidnomiBaoDi', 'isCrypto': 1},\n",
       "  {'code': 'HACB', 'name': 'ioinCha tcABBC s', 'isCrypto': 1},\n",
       "  {'code': 'BNC', 'name': 'toiceByn', 'isCrypto': 1},\n",
       "  {'code': 'DXB', 'name': 'deexBl', 'isCrypto': 1},\n",
       "  {'code': 'EAMB', 'name': 'meaB', 'isCrypto': 1},\n",
       "  {'code': 'BEL', 'name': 'roalotBoPcl le', 'isCrypto': 1},\n",
       "  {'code': 'ETSB', 'name': 'syeoaEBkspTdt oncmi taen', 'isCrypto': 1},\n",
       "  {'code': 'OIBT', 'name': 'P iroeaotosnsBpTk', 'isCrypto': 1},\n",
       "  {'code': 'BLCT', 'name': 'eltalyi cou Lzml yeodkoBTbtC', 'isCrypto': 1},\n",
       "  {'code': 'BLZ', 'name': 'lulleBze', 'isCrypto': 1},\n",
       "  {'code': 'IBM', 'name': 'BidtauueM lgr', 'isCrypto': 1},\n",
       "  {'code': 'BNANA', 'name': 'phniimCo', 'isCrypto': 1},\n",
       "  {'code': 'BAO', 'name': 'AORBSOAG', 'isCrypto': 1},\n",
       "  {'code': 'OBR', 'name': 'gOiAnoBrD', 'isCrypto': 1},\n",
       "  {'code': 'ABRO', 'name': 'ORBA', 'isCrypto': 1},\n",
       "  {'code': 'BOXT', 'name': 'noXoibct', 'isCrypto': 1},\n",
       "  {'code': 'BGR', 'name': 'dcli agBeeOrr', 'isCrypto': 1},\n",
       "  {'code': 'CASPBD', 'name': 'PSBDAC', 'isCrypto': 1},\n",
       "  {'code': 'BTSCT', 'name': 'dihsnaSrdHenina rt c oetBtkTaao', 'isCrypto': 1},\n",
       "  {'code': 'TMB', 'name': 'omtBy', 'isCrypto': 1},\n",
       "  {'code': 'SBT', 'name': 'stiSrheaB', 'isCrypto': 1},\n",
       "  {'code': 'UBT', 'name': 'PBrltoc ooUT', 'isCrypto': 1},\n",
       "  {'code': 'REGRUB', 'name': 'ae rwurpBgS', 'isCrypto': 1},\n",
       "  {'code': 'XBZR', 'name': 'oZotcbPoxrl ', 'isCrypto': 1},\n",
       "  {'code': 'ACS', 'name': 'ahCasa', 'isCrypto': 1},\n",
       "  {'code': 'CCXX', 'name': 'Cu osXno', 'isCrypto': 1},\n",
       "  {'code': 'NCZEN', 'name': 'leiartnyCt', 'isCrypto': 1},\n",
       "  {'code': 'CFX', 'name': ' rfoonkCulxewtN', 'isCrypto': 1},\n",
       "  {'code': 'RCH', 'name': 'Caihorm', 'isCrypto': 1},\n",
       "  {'code': 'BCN', 'name': 'knitisbooCen T', 'isCrypto': 1},\n",
       "  {'code': 'NCD', 'name': 'inarcCodit', 'isCrypto': 1},\n",
       "  {'code': 'GRNC', 'name': 'gtCeypyoEnrr', 'isCrypto': 1},\n",
       "  {'code': 'MCTN', 'name': 'enconCteom', 'isCrypto': 1},\n",
       "  {'code': 'OFIC', 'name': 'iConFi', 'isCrypto': 1},\n",
       "  {'code': 'OCNR', 'name': 'crnoiCnho', 'isCrypto': 1},\n",
       "  {'code': 'CXOR', 'name': 'nCrioXo', 'isCrypto': 1},\n",
       "  {'code': 'COS', 'name': 'toCnnseto', 'isCrypto': 1},\n",
       "  {'code': 'SOCM', 'name': 'nmCCoosio ', 'isCrypto': 1},\n",
       "  {'code': 'CITO', 'name': 'CIOT', 'isCrypto': 1},\n",
       "  {'code': 'VCAO', 'name': 'VCOA', 'isCrypto': 1},\n",
       "  {'code': 'CRE', 'name': 'arCyr', 'isCrypto': 1},\n",
       "  {'code': 'ERAC', 'name': 'ECAR', 'isCrypto': 1},\n",
       "  {'code': 'EARCM', 'name': 'nmFaCrneie ca', 'isCrypto': 1},\n",
       "  {'code': 'CIDTRE', 'name': 'trTeaierrdC', 'isCrypto': 1},\n",
       "  {'code': 'PRC', 'name': 'rpCntoy', 'isCrypto': 1},\n",
       "  {'code': 'CUR', 'name': 'uCsrt', 'isCrypto': 1},\n",
       "  {'code': 'CCS', 'name': 'onnCosiaCi', 'isCrypto': 1},\n",
       "  {'code': 'CPNS', 'name': ' orrsttCpSpoy', 'isCrypto': 1},\n",
       "  {'code': 'CTC', 'name': 'deotniicrC', 'isCrypto': 1},\n",
       "  {'code': 'TKC', 'name': 'eKCtri', 'isCrypto': 1},\n",
       "  {'code': 'CSIT', 'name': 'Crseati', 'isCrypto': 1},\n",
       "  {'code': 'XCTC', 'name': 'xtoeCr', 'isCrypto': 1},\n",
       "  {'code': 'VCC', 'name': 'cCivi', 'isCrypto': 1},\n",
       "  {'code': 'TVC', 'name': 'nyeiVrCeb', 'isCrypto': 1},\n",
       "  {'code': 'AGD', 'name': 'aslooltinnCet', 'isCrypto': 1},\n",
       "  {'code': 'AMD', 'name': 'tinmeaDa', 'isCrypto': 1},\n",
       "  {'code': 'ODA', 'name': 'MkO aAeDr', 'isCrypto': 1},\n",
       "  {'code': 'DATA', 'name': 'rmetrSa', 'isCrypto': 1},\n",
       "  {'code': 'BXID', 'name': 'oDiaunCib', 'isCrypto': 1},\n",
       "  {'code': 'CDN', 'name': 'aoicnDtne', 'isCrypto': 1},\n",
       "  {'code': 'DNCRT', 'name': 'Crnbcehoti Dneau', 'isCrypto': 1},\n",
       "  {'code': 'TCD', 'name': 'CNETED', 'isCrypto': 1},\n",
       "  {'code': 'DDD', 'name': 'fiSro.cyn', 'isCrypto': 1},\n",
       "  {'code': 'DKD', 'name': 'iKDonD', 'isCrypto': 1},\n",
       "  {'code': 'ALDE', 'name': 'hsiCeaaDl', 'isCrypto': 1},\n",
       "  {'code': 'BDE', 'name': 'tibmeDu', 'isCrypto': 1},\n",
       "  {'code': 'LADTE', 'name': 'lhintaeDCa', 'isCrypto': 1},\n",
       "  {'code': 'MED', 'name': 'ek eatMhcsuDre', 'isCrypto': 1},\n",
       "  {'code': 'DIT', 'name': 'negDioi  leIknTauscatrn', 'isCrypto': 1},\n",
       "  {'code': 'GODEC', 'name': 'sDgohaeC', 'isCrypto': 1},\n",
       "  {'code': 'SGOED', 'name': 'Dgpaoews', 'isCrypto': 1},\n",
       "  {'code': 'EGDTO', 'name': 'DkoeoT eng', 'isCrypto': 1},\n",
       "  {'code': 'YDP', 'name': 'leDhpy', 'isCrypto': 1},\n",
       "  {'code': 'RGD', 'name': 'nCnisor aogD', 'isCrypto': 1},\n",
       "  {'code': 'CBE', 'name': 'oEnBCi', 'isCrypto': 1},\n",
       "  {'code': 'RHBE', 'name': 'eabihr', 'isCrypto': 1},\n",
       "  {'code': 'MEOC', 'name': 'ndimuteO', 'isCrypto': 1},\n",
       "  {'code': 'ELCE', 'name': 'lcAirietsfEa.y', 'isCrypto': 1},\n",
       "  {'code': 'EETL', 'name': 'memneteuEl', 'isCrypto': 1},\n",
       "  {'code': 'NBE', 'name': 'naEabres', 'isCrypto': 1},\n",
       "  {'code': 'ENT', 'name': 'nrEytite', 'isCrypto': 1},\n",
       "  {'code': 'SENT', 'name': 'INUAOEM', 'isCrypto': 1},\n",
       "  {'code': 'IECP', 'name': 'pEa ichCs', 'isCrypto': 1},\n",
       "  {'code': 'EQL', 'name': 'Eqlau', 'isCrypto': 1},\n",
       "  {'code': 'BESC', 'name': 'ESBC', 'isCrypto': 1},\n",
       "  {'code': 'SHE', 'name': 'ichwSt', 'isCrypto': 1},\n",
       "  {'code': 'GTE', 'name': 'mdh GeueotrEl', 'isCrypto': 1},\n",
       "  {'code': 'TMEH', 'name': 'ue retMEheatm', 'isCrypto': 1},\n",
       "  {'code': 'TEHY', 'name': 'leremheudYEit ', 'isCrypto': 1},\n",
       "  {'code': 'HETSY', 'name': 'EtSekrme hueta', 'isCrypto': 1},\n",
       "  {'code': 'VEC', 'name': 'ntCEeahnvi', 'isCrypto': 1},\n",
       "  {'code': 'VEY', 'name': 'ÊCEyoenrvi', 'isCrypto': 1},\n",
       "  {'code': 'ECXL', 'name': 'eiCxscuolEniv', 'isCrypto': 1},\n",
       "  {'code': 'ZDF', 'name': 'Fnezird', 'isCrypto': 1},\n",
       "  {'code': 'RFEA', 'name': 'Fera', 'isCrypto': 1},\n",
       "  {'code': 'FSES', 'name': 'inesachsF', 'isCrypto': 1},\n",
       "  {'code': 'IXLXF', 'name': 'xxFloi', 'isCrypto': 1},\n",
       "  {'code': 'FLP', 'name': 'FPLI', 'isCrypto': 1},\n",
       "  {'code': 'TFAM', 'name': 'ueanFdmtan', 'isCrypto': 1},\n",
       "  {'code': 'FRC', 'name': 'rFneioic', 'isCrypto': 1},\n",
       "  {'code': 'NFT', 'name': 'tuioFnna', 'isCrypto': 1},\n",
       "  {'code': 'XTF', 'name': 'X NirtneFtwokur', 'isCrypto': 1},\n",
       "  {'code': 'DUF', 'name': 'nfe.DcUniFa', 'isCrypto': 1},\n",
       "  {'code': 'FUEL', 'name': 'tepthrryEa', 'isCrypto': 1},\n",
       "  {'code': 'FISUI', 'name': 'ilbFesu', 'isCrypto': 1},\n",
       "  {'code': 'FXT', 'name': 'uzeFX', 'isCrypto': 1},\n",
       "  {'code': 'PFY', 'name': 'yleMpF', 'isCrypto': 1},\n",
       "  {'code': 'EGRA', 'name': 'tariegB', 'isCrypto': 1},\n",
       "  {'code': 'GEM', 'name': 'meGsÊ', 'isCrypto': 1},\n",
       "  {'code': 'GLS', 'name': 'oB anochokcsilGl', 'isCrypto': 1},\n",
       "  {'code': 'GMC', 'name': 'GtrkereMutoidk Ca', 'isCrypto': 1},\n",
       "  {'code': 'PXYG', 'name': 'rdGPnxeyoel', 'isCrypto': 1},\n",
       "  {'code': 'GGR', 'name': 'RcogkloBi', 'isCrypto': 1},\n",
       "  {'code': 'LRCG', 'name': 'arlGociin', 'isCrypto': 1},\n",
       "  {'code': 'ROZG', 'name': 'Gyvirta', 'isCrypto': 1},\n",
       "  {'code': 'HYVA', 'name': 'vHay', 'isCrypto': 1},\n",
       "  {'code': 'HXB', 'name': 'BahXsÊH', 'isCrypto': 1},\n",
       "  {'code': 'AHET', 'name': 'EHAT', 'isCrypto': 1},\n",
       "  {'code': 'THG', 'name': 'HloloGdle', 'isCrypto': 1},\n",
       "  {'code': 'NBH', 'name': 'HoiN chtBEteas', 'isCrypto': 1},\n",
       "  {'code': 'XQH', 'name': 'QUHO', 'isCrypto': 1},\n",
       "  {'code': 'SHC', 'name': 'shoiHanC', 'isCrypto': 1},\n",
       "  {'code': 'NVH', 'name': 'eHkoTltvnia enmire', 'isCrypto': 1},\n",
       "  {'code': 'HX', 'name': 'hcHEpyagexren', 'isCrypto': 1},\n",
       "  {'code': 'GIM', 'name': 'nmIgCaoei', 'isCrypto': 1},\n",
       "  {'code': 'ICNTN', 'name': 'tenncI', 'isCrypto': 1},\n",
       "  {'code': 'NID', 'name': 'edsnonTe orkI', 'isCrypto': 1},\n",
       "  {'code': 'FINS', 'name': 'yniIhafmitnEs a', 'isCrypto': 1},\n",
       "  {'code': 'NIK', 'name': 'nkI', 'isCrypto': 1},\n",
       "  {'code': 'NBICN', 'name': 'to scorhaBio ivIeveeniraCnn', 'isCrypto': 1},\n",
       "  {'code': 'NINS', 'name': 'CoiIsnnane', 'isCrypto': 1},\n",
       "  {'code': 'NIX', 'name': 'nPocti rtIlgohso', 'isCrypto': 1},\n",
       "  {'code': 'IPO', 'name': 'tpt eo enIfeoPelrn', 'isCrypto': 1},\n",
       "  {'code': 'LIP', 'name': 'cMeoVoFurh', 'isCrypto': 1},\n",
       "  {'code': 'KICSI', 'name': ' akonIlsiCir', 'isCrypto': 1},\n",
       "  {'code': 'LIAS', 'name': 'lnIsau', 'isCrypto': 1},\n",
       "  {'code': 'UIT', 'name': 'ot  ITelnOUikTity', 'isCrypto': 1},\n",
       "  {'code': 'XIC', 'name': 'Inoxic', 'isCrypto': 1},\n",
       "  {'code': 'IXT', 'name': 'TXI', 'isCrypto': 1},\n",
       "  {'code': 'RJA', 'name': 'rv+aJsi', 'isCrypto': 1},\n",
       "  {'code': 'JTC', 'name': 't eJ aTenCnnootkapn', 'isCrypto': 1},\n",
       "  {'code': 'FKX', 'name': 'nwnoK(xFS e)', 'isCrypto': 1},\n",
       "  {'code': 'SKICK', 'name': 'isaseS', 'isCrypto': 1},\n",
       "  {'code': 'ICIHKM', 'name': 'eHIMKCanfnI.ic', 'isCrypto': 1},\n",
       "  {'code': '4KRP', 'name': 'r4eeKp', 'isCrypto': 1},\n",
       "  {'code': 'VKU', 'name': 'rveituK', 'isCrypto': 1},\n",
       "  {'code': 'NLAA', 'name': 'LCaoiann', 'isCrypto': 1},\n",
       "  {'code': 'LLM', 'name': 'egMLeL schiakannnri i', 'isCrypto': 1},\n",
       "  {'code': 'LMY', 'name': 'MonLuenych', 'isCrypto': 1},\n",
       "  {'code': 'DLN', 'name': 'lcenokdngiLb', 'isCrypto': 1},\n",
       "  {'code': 'COLK', 'name': ' erMrkiwtniNoaed', 'isCrypto': 1},\n",
       "  {'code': 'GLO', 'name': 'oinocoWd', 'isCrypto': 1},\n",
       "  {'code': 'DLQ', 'name': 'kqetiriiwd LuNoty', 'isCrypto': 1},\n",
       "  {'code': 'NHTL', 'name': 'haeLtne', 'isCrypto': 1},\n",
       "  {'code': 'NLU', 'name': 'yLnru', 'isCrypto': 1},\n",
       "  {'code': 'NYLC', 'name': 'keLYCoNtNrw ', 'isCrypto': 1},\n",
       "  {'code': 'LYAR', 'name': 'crpytSa', 'isCrypto': 1},\n",
       "  {'code': 'NAMAN', 'name': 'aanMn', 'isCrypto': 1},\n",
       "  {'code': 'CHAMS', 'name': 'cnMihashac', 'isCrypto': 1},\n",
       "  {'code': 'CTM', 'name': 'aac rektonsCnMTorte t', 'isCrypto': 1},\n",
       "  {'code': 'MCE', 'name': 'naMicgeo', 'isCrypto': 1},\n",
       "  {'code': 'ERM', 'name': 'ryerucM', 'isCrypto': 1},\n",
       "  {'code': 'EMIR', 'name': 'eleerbM', 'isCrypto': 1},\n",
       "  {'code': 'MEMT', 'name': 'roatehMMp', 'isCrypto': 1},\n",
       "  {'code': 'BIM', 'name': ' nCIBioM', 'isCrypto': 1},\n",
       "  {'code': 'MGP', 'name': 'rp pPrxroyetaoMG u', 'isCrypto': 1},\n",
       "  {'code': 'KRM', 'name': 'EPAKSAR.CM', 'isCrypto': 1},\n",
       "  {'code': 'MBY', 'name': 'MyBit', 'isCrypto': 1},\n",
       "  {'code': 'CCN', 'name': 'hiCruoaeNn', 'isCrypto': 1},\n",
       "  {'code': 'NTEX', 'name': 'EXTN', 'isCrypto': 1},\n",
       "  {'code': 'TINF', 'name': 'e ndNxITF', 'isCrypto': 1},\n",
       "  {'code': 'NCFX', 'name': 'iN XFoCn', 'isCrypto': 1},\n",
       "  {'code': 'CKN', 'name': 'okwreN', 'isCrypto': 1},\n",
       "  {'code': 'RNO', 'name': 'oNir', 'isCrypto': 1},\n",
       "  {'code': 'VOON', 'name': 'Nvoo', 'isCrypto': 1},\n",
       "  {'code': 'NRS', 'name': 'hureaNSs', 'isCrypto': 1},\n",
       "  {'code': 'TNK', 'name': 'eNoutroken', 'isCrypto': 1},\n",
       "  {'code': 'UTNS', 'name': 'rreFeunla qiiSnc', 'isCrypto': 1},\n",
       "  {'code': 'XAOL', 'name': 'XOAL', 'isCrypto': 1},\n",
       "  {'code': 'COM', 'name': ' hrOaeCsusm', 'isCrypto': 1},\n",
       "  {'code': 'OLN', 'name': '.ieOLvn', 'isCrypto': 1},\n",
       "  {'code': 'BRO', 'name': 'biroOinct', 'isCrypto': 1},\n",
       "  {'code': 'EUSOMR', 'name': ' osenriCOmu', 'isCrypto': 1},\n",
       "  {'code': 'OSR', 'name': ' iiOrgStpnro', 'isCrypto': 1},\n",
       "  {'code': 'KAP', 'name': 'Pkoianc', 'isCrypto': 1},\n",
       "  {'code': 'APSS', 'name': 'oskslBcpa', 'isCrypto': 1},\n",
       "  {'code': 'PAT', 'name': 'traonP', 'isCrypto': 1},\n",
       "  {'code': 'BTP', 'name': 'krPnmaaeTlie sbo', 'isCrypto': 1},\n",
       "  {'code': 'PCH', 'name': 'OIPNCHAP', 'isCrypto': 1},\n",
       "  {'code': 'EPG', 'name': 'tNeegP', 'isCrypto': 1},\n",
       "  {'code': 'LIPP', 'name': 'ipnCPilo', 'isCrypto': 1},\n",
       "  {'code': 'PTIP', 'name': ' wxnPrPe ekoIo oodeTln', 'isCrypto': 1},\n",
       "  {'code': 'TKP', 'name': 'ekalyPy', 'isCrypto': 1},\n",
       "  {'code': 'GTPM', 'name': ' Tennre  otiPothMlkGd', 'isCrypto': 1},\n",
       "  {'code': 'NPY', 'name': 'nPeoy', 'isCrypto': 1},\n",
       "  {'code': 'PEO', 'name': 'ePto.', 'isCrypto': 1},\n",
       "  {'code': 'SOSP', 'name': 'Pocnsios', 'isCrypto': 1},\n",
       "  {'code': 'PRIA', 'name': 'RPAI', 'isCrypto': 1},\n",
       "  {'code': 'TCP', 'name': 'aeocnetiPs', 'isCrypto': 1},\n",
       "  {'code': 'EPT', 'name': 'FeDietPe ', 'isCrypto': 1},\n",
       "  {'code': 'TOPN', 'name': 'NPOT', 'isCrypto': 1},\n",
       "  {'code': 'XUP', 'name': 'PuXlyop', 'isCrypto': 1},\n",
       "  {'code': 'PRW', 'name': 'CPRin Wo', 'isCrypto': 1},\n",
       "  {'code': 'PCX', 'name': 'iPchinoxoen', 'isCrypto': 1},\n",
       "  {'code': 'GXP', 'name': 'PaamelGy', 'isCrypto': 1},\n",
       "  {'code': 'YNTPL', 'name': 'ytNolkernPwo ', 'isCrypto': 1},\n",
       "  {'code': 'KARQ', 'name': 'rlfNaQtpoAm', 'isCrypto': 1},\n",
       "  {'code': 'BQT', 'name': 'Qbao', 'isCrypto': 1},\n",
       "  {'code': 'CQH', 'name': 'iQCh', 'isCrypto': 1},\n",
       "  {'code': 'CWQ', 'name': 'nyocirQtew', 'isCrypto': 1},\n",
       "  {'code': 'GITRAN', 'name': 'DPgRatni', 'isCrypto': 1},\n",
       "  {'code': 'LRXB', 'name': 'xuRbil', 'isCrypto': 1},\n",
       "  {'code': 'RTB', 'name': 'Rtimib', 'isCrypto': 1},\n",
       "  {'code': 'EALR', 'name': 'REAL', 'isCrypto': 1},\n",
       "  {'code': 'RDE', 'name': 'RED', 'isCrypto': 1},\n",
       "  {'code': 'RET', 'name': 'RTtlarace', 'isCrypto': 1},\n",
       "  {'code': 'OTIR', 'name': 'niioRcot', 'isCrypto': 1},\n",
       "  {'code': 'RLMP', 'name': 'LRMP', 'isCrypto': 1},\n",
       "  {'code': '2CRKO', 'name': 'KIENMCGNIO RCI ', 'isCrypto': 1},\n",
       "  {'code': 'TRO', 'name': 'tteonR', 'isCrypto': 1},\n",
       "  {'code': 'RTE', 'name': 'tRea3', 'isCrypto': 1},\n",
       "  {'code': 'RLEUR', 'name': 'leoRc oturPlro', 'isCrypto': 1},\n",
       "  {'code': 'VTR', 'name': 'itevRz', 'isCrypto': 1},\n",
       "  {'code': 'YRO', 'name': 'Ryeo cyuCrnr', 'isCrypto': 1},\n",
       "  {'code': 'S', 'name': 'hSpraay', 'isCrypto': 1},\n",
       "  {'code': 'SBS', 'name': 'tSEsyBaSA', 'isCrypto': 1},\n",
       "  {'code': 'CBS', 'name': 'ewSycC aopoB ', 'isCrypto': 1},\n",
       "  {'code': 'SLC', 'name': 'ialoScl', 'isCrypto': 1},\n",
       "  {'code': 'CST', 'name': 'a kCloneshT', 'isCrypto': 1},\n",
       "  {'code': 'DSS', 'name': 'nathcaslmS rdtAdien', 'isCrypto': 1},\n",
       "  {'code': 'WHDS', 'name': 'hoanwSeo dTk', 'isCrypto': 1},\n",
       "  {'code': 'HSIP', 'name': 'iShCapnhi', 'isCrypto': 1},\n",
       "  {'code': 'HSMN', 'name': 'snatStddserroeM anngoH', 'isCrypto': 1},\n",
       "  {'code': 'SBI', 'name': 'CnBIoSi', 'isCrypto': 1},\n",
       "  {'code': 'BKS', 'name': 'mSBaluork ao', 'isCrypto': 1},\n",
       "  {'code': 'NSN', 'name': 'naeCihS', 'isCrypto': 1},\n",
       "  {'code': 'ASTO', 'name': ' icnASOenTaF', 'isCrypto': 1},\n",
       "  {'code': 'ISPEK', 'name': 'igiSknp', 'isCrypto': 1},\n",
       "  {'code': 'NSP', 'name': 'niepaS', 'isCrypto': 1},\n",
       "  {'code': 'RATS', 'name': 'aSbetsra', 'isCrypto': 1},\n",
       "  {'code': 'TRSAT', 'name': 'antcoSrti', 'isCrypto': 1},\n",
       "  {'code': 'TBUS', 'name': 'ook xTeSbtno', 'isCrypto': 1},\n",
       "  {'code': 'TBSZ', 'name': 'tziebialS', 'isCrypto': 1},\n",
       "  {'code': 'KST', 'name': 'TKS', 'isCrypto': 1},\n",
       "  {'code': 'SST', 'name': 'BkaSn', 'isCrypto': 1},\n",
       "  {'code': 'WST', 'name': 'Crtawi mSy', 'isCrypto': 1},\n",
       "  {'code': 'CTC', 'name': 'ioThp mhCCena', 'isCrypto': 1},\n",
       "  {'code': 'TDX', 'name': 'doTxknieeT ', 'isCrypto': 1},\n",
       "  {'code': 'SLEOT', 'name': 'onioscTle', 'isCrypto': 1},\n",
       "  {'code': 'ETND', 'name': 'esdneiT', 'isCrypto': 1},\n",
       "  {'code': 'HTTR', 'name': 'nekioTTe hvr', 'isCrypto': 1},\n",
       "  {'code': 'ITX', 'name': 'xBickolt', 'isCrypto': 1},\n",
       "  {'code': '2TM', 'name': 'XATRAI', 'isCrypto': 1},\n",
       "  {'code': 'TN', 'name': 'uToekNrtrlwet', 'isCrypto': 1},\n",
       "  {'code': 'SNT', 'name': 'Tsamodunric', 'isCrypto': 1},\n",
       "  {'code': 'LTO', 'name': 'lraTo', 'isCrypto': 1},\n",
       "  {'code': 'YPTA', 'name': 'TyePaonk', 'isCrypto': 1},\n",
       "  {'code': 'OTLRL', 'name': 'liloconrT', 'isCrypto': 1},\n",
       "  {'code': 'SRTT', 'name': 'rtuesWT', 'isCrypto': 1},\n",
       "  {'code': 'TSTRU', 'name': 'OAtruDTs', 'isCrypto': 1},\n",
       "  {'code': 'NTT', 'name': 'aoiTntC in', 'isCrypto': 1},\n",
       "  {'code': 'PU', 'name': 'UTenpko', 'isCrypto': 1},\n",
       "  {'code': 'UXP', 'name': 'aPxlue', 'isCrypto': 1},\n",
       "  {'code': 'SDSU', 'name': 'lSSyDtaUb ', 'isCrypto': 1},\n",
       "  {'code': 'VDL', 'name': 'luimdVu', 'isCrypto': 1},\n",
       "  {'code': 'IVYKK', 'name': 'nokyTVkeik', 'isCrypto': 1},\n",
       "  {'code': 'VPI', 'name': 'sIt LimVePisl', 'isCrypto': 1},\n",
       "  {'code': 'OVX', 'name': 'nacie.xVFon', 'isCrypto': 1},\n",
       "  {'code': 'VTX', 'name': 'eDxiorVf et', 'isCrypto': 1},\n",
       "  {'code': 'WCO', 'name': 'oiWcn', 'isCrypto': 1},\n",
       "  {'code': 'WBED', 'name': 'rWbDleloa', 'isCrypto': 1},\n",
       "  {'code': 'FXW', 'name': 'bWiofTxlke en', 'isCrypto': 1},\n",
       "  {'code': '0GW', 'name': 'prpet- iaKpdsitoerGCn0ye Wt', 'isCrypto': 1},\n",
       "  {'code': 'NWRI', 'name': 'ttusJeB', 'isCrypto': 1},\n",
       "  {'code': 'IWZ', 'name': 'CidzorWw', 'isCrypto': 1},\n",
       "  {'code': 'WOA', 'name': 'di iraOAp Wpirgenex', 'isCrypto': 1},\n",
       "  {'code': 'X8X', 'name': 'nk8oTXXe ', 'isCrypto': 1},\n",
       "  {'code': 'XPAM', 'name': 'anlAeitpm', 'isCrypto': 1},\n",
       "  {'code': 'BCX', 'name': ' ocliBtsinuP', 'isCrypto': 1},\n",
       "  {'code': 'PBX', 'name': 'dtteBPliczri', 'isCrypto': 1},\n",
       "  {'code': 'XNB', 'name': 'teXibno', 'isCrypto': 1},\n",
       "  {'code': 'XNK', 'name': 'orcPo tlIokn', 'isCrypto': 1},\n",
       "  {'code': 'VXN', 'name': 'evarN', 'isCrypto': 1},\n",
       "  {'code': 'PAY', 'name': 'nYoStp ae', 'isCrypto': 1},\n",
       "  {'code': 'EYC', 'name': 'csYha', 'isCrypto': 1},\n",
       "  {'code': 'ECYS', 'name': 'eanerSureY c', 'isCrypto': 1},\n",
       "  {'code': 'ZCR', 'name': 'oCeZr', 'isCrypto': 1},\n",
       "  {'code': 'ZENI', 'name': 'eennZis', 'isCrypto': 1},\n",
       "  {'code': 'ZNZ', 'name': 'ZOZEN', 'isCrypto': 1},\n",
       "  {'code': 'EZPA', 'name': 'yEAZPelaaa', 'isCrypto': 1},\n",
       "  {'code': 'ZPR', 'name': 'PREZ', 'isCrypto': 1},\n",
       "  {'code': 'ZCR', 'name': 'CiorZn', 'isCrypto': 1},\n",
       "  {'code': 'CSZ', 'name': 'ueilZhsdes', 'isCrypto': 1},\n",
       "  {'code': 'MUZ', 'name': 'uCimonZ', 'isCrypto': 1},\n",
       "  {'code': 'CXZ', 'name': 'cxtre0', 'isCrypto': 1},\n",
       "  {'code': '$OONB', 'name': '.nocobfianne', 'isCrypto': 1},\n",
       "  {'code': '1X2', 'name': ' 1C2INOX', 'isCrypto': 1},\n",
       "  {'code': 'AAA', 'name': 'lbuabaA', 'isCrypto': 1},\n",
       "  {'code': 'ASTB', 'name': 'oos iTnhAtdkwbae', 'isCrypto': 1},\n",
       "  {'code': 'ACE', 'name': ' era)TEoCS(tknsA', 'isCrypto': 1},\n",
       "  {'code': 'ONIAC', 'name': 'Aiocn', 'isCrypto': 1},\n",
       "  {'code': 'ERA', 'name': 'sruAye', 'isCrypto': 1},\n",
       "  {'code': 'GLTA', 'name': 'glortAo', 'isCrypto': 1},\n",
       "  {'code': 'KAA', 'name': 'krmoaA', 'isCrypto': 1},\n",
       "  {'code': 'MAS', 'name': 'ACtrdsnmaoeim', 'isCrypto': 1},\n",
       "  {'code': 'ONAN', 'name': 'NNOA', 'isCrypto': 1},\n",
       "  {'code': 'APC', 'name': 'a lCihpoAn', 'isCrypto': 1},\n",
       "  {'code': 'RAP', 'name': ' RonCAiP', 'isCrypto': 1},\n",
       "  {'code': 'RWAA', 'name': 'WAAR', 'isCrypto': 1},\n",
       "  {'code': 'RAB', 'name': 'tARbi', 'isCrypto': 1},\n",
       "  {'code': 'TRAC', 'name': 'tCrAbreiaTg', 'isCrypto': 1},\n",
       "  {'code': 'UGASR', 'name': 'gusrA', 'isCrypto': 1},\n",
       "  {'code': 'HAT', 'name': 'sAietoh', 'isCrypto': 1},\n",
       "  ...],\n",
       " 'pairs': [{'fromCurrency': 'UDS',\n",
       "   'toCurrency': 'HCN',\n",
       "   'symbol': 'USDCNH',\n",
       "   'name': 'HCKeiain DaUl Seiomh .unt )ennlR(s  Y.rob',\n",
       "   'isCrypto': 0},\n",
       "  {'fromCurrency': 'URE',\n",
       "   'toCurrency': 'DKK',\n",
       "   'symbol': 'EURDKK',\n",
       "   'name': ' trDniEora Konhsou e',\n",
       "   'isCrypto': 0},\n",
       "  {'fromCurrency': 'DUS',\n",
       "   'toCurrency': 'KDK',\n",
       "   'symbol': 'USDDKK',\n",
       "   'name': 'Kaosr UlnD .Da  eohniS.oltr',\n",
       "   'isCrypto': 0},\n",
       "  {'fromCurrency': 'URE',\n",
       "   'toCurrency': 'DSG',\n",
       "   'symbol': 'EURSGD',\n",
       "   'name': 'arop olDaugr e iltnoroES',\n",
       "   'isCrypto': 0},\n",
       "  {'fromCurrency': 'DUS',\n",
       "   'toCurrency': 'SDG',\n",
       "   'symbol': 'USDSGD',\n",
       "   'name': 'rSalol.Sroeor  i.DanoalUgtDpl  ',\n",
       "   'isCrypto': 0},\n",
       "  {'fromCurrency': 'ERU',\n",
       "   'toCurrency': 'NOK',\n",
       "   'symbol': 'EURNOK',\n",
       "   'name': 'aEo Noergn erKuowniro t',\n",
       "   'isCrypto': 0},\n",
       "  {'fromCurrency': 'UDS',\n",
       "   'toCurrency': 'KON',\n",
       "   'symbol': 'USDNOK',\n",
       "   'name': 'Dnw.o raa  rUS.KtonoeNloig lre',\n",
       "   'isCrypto': 0},\n",
       "  {'fromCurrency': 'RUE',\n",
       "   'toCurrency': 'ZND',\n",
       "   'symbol': 'EURNZD',\n",
       "   'name': 'ZluDaoNdoentw ar elo al Er',\n",
       "   'isCrypto': 0},\n",
       "  {'fromCurrency': 'DUA',\n",
       "   'toCurrency': 'DNZ',\n",
       "   'symbol': 'AUDNZD',\n",
       "   'name': 'oa DoZtdAauiaa llnsla aerloD rNrl ntwle',\n",
       "   'isCrypto': 0},\n",
       "  {'fromCurrency': 'NZD',\n",
       "   'toCurrency': 'UDS',\n",
       "   'symbol': 'NZDUSD',\n",
       "   'name': 'daeaZoot w lar.nlle oa lDl NrDS.U',\n",
       "   'isCrypto': 0},\n",
       "  {'fromCurrency': 'AUD',\n",
       "   'toCurrency': 'UDS',\n",
       "   'symbol': 'AUDUSD',\n",
       "   'name': 'r .runoaa aUDl .toD llartolSilAs',\n",
       "   'isCrypto': 0},\n",
       "  {'fromCurrency': 'PGB',\n",
       "   'toCurrency': 'UDS',\n",
       "   'symbol': 'GBPUSD',\n",
       "   'name': 'oih.r BariPnl sdS oU. ttolDu',\n",
       "   'isCrypto': 0},\n",
       "  {'fromCurrency': 'URE',\n",
       "   'toCurrency': 'DSU',\n",
       "   'symbol': 'EURUSD',\n",
       "   'name': 'raSol l.D.Er o uotU',\n",
       "   'isCrypto': 0},\n",
       "  {'fromCurrency': 'NKO',\n",
       "   'toCurrency': 'SKE',\n",
       "   'symbol': 'NOKSEK',\n",
       "   'name': 'd K wnoaNe shenKaio rrontroSwige',\n",
       "   'isCrypto': 0},\n",
       "  {'fromCurrency': 'USD',\n",
       "   'toCurrency': 'SKE',\n",
       "   'symbol': 'USDSEK',\n",
       "   'name': ' Krt UaiD..lwoolnr oeS Shsda',\n",
       "   'isCrypto': 0},\n",
       "  {'fromCurrency': 'UER',\n",
       "   'toCurrency': 'KES',\n",
       "   'symbol': 'EURSEK',\n",
       "   'name': 'rd   woehsKaooSintuEr',\n",
       "   'isCrypto': 0},\n",
       "  {'fromCurrency': 'SDU',\n",
       "   'toCurrency': 'BTH',\n",
       "   'symbol': 'USDTHB',\n",
       "   'name': '.htoalU TlDth ioBa S. ar',\n",
       "   'isCrypto': 0},\n",
       "  {'fromCurrency': 'CDA',\n",
       "   'toCurrency': 'HCF',\n",
       "   'symbol': 'CADCHF',\n",
       "   'name': 'asDac iloaFs niSota wldnCr nra',\n",
       "   'isCrypto': 0},\n",
       "  {'fromCurrency': 'UDS',\n",
       "   'toCurrency': 'FCH',\n",
       "   'symbol': 'USDCHF',\n",
       "   'name': 'iDl .sUwSF tl.raaocon  rSs',\n",
       "   'isCrypto': 0},\n",
       "  {'fromCurrency': 'DAU',\n",
       "   'toCurrency': 'FHC',\n",
       "   'symbol': 'AUDCHF',\n",
       "   'name': 'otaawlsAarrlatrncisi l D so nuSF',\n",
       "   'isCrypto': 0},\n",
       "  {'fromCurrency': 'PBG',\n",
       "   'toCurrency': 'FHC',\n",
       "   'symbol': 'GBPCHF',\n",
       "   'name': 'utnSt  iBdsPr iioarcohsn wsF',\n",
       "   'isCrypto': 0},\n",
       "  {'fromCurrency': 'UER',\n",
       "   'toCurrency': 'HFC',\n",
       "   'symbol': 'EURCHF',\n",
       "   'name': 'oc  wtrFaiEn Sssuro',\n",
       "   'isCrypto': 0},\n",
       "  {'fromCurrency': 'UDS',\n",
       "   'toCurrency': 'NXM',\n",
       "   'symbol': 'USDMXN',\n",
       "   'name': 'arUPeMi.l. coexSln taoso  D',\n",
       "   'isCrypto': 0},\n",
       "  {'fromCurrency': 'UER',\n",
       "   'toCurrency': 'ONR',\n",
       "   'symbol': 'EURRON',\n",
       "   'name': 'rtooeaEn iuoRamnL  u',\n",
       "   'isCrypto': 0},\n",
       "  {'fromCurrency': 'RUE',\n",
       "   'toCurrency': 'LPN',\n",
       "   'symbol': 'EURPLN',\n",
       "   'name': 'iuo r ho loPyEtltoZs',\n",
       "   'isCrypto': 0},\n",
       "  {'fromCurrency': 'DUS',\n",
       "   'toCurrency': 'NPL',\n",
       "   'symbol': 'USDPLN',\n",
       "   'name': 'isoySohlt rDllo P lo.aZ Ut.',\n",
       "   'isCrypto': 0},\n",
       "  {'fromCurrency': 'EUR',\n",
       "   'toCurrency': 'ZRA',\n",
       "   'symbol': 'EURZAR',\n",
       "   'name': 'SoAta u Eru idfnnhoa rctoR',\n",
       "   'isCrypto': 0},\n",
       "  {'fromCurrency': 'USD',\n",
       "   'toCurrency': 'RZA',\n",
       "   'symbol': 'USDZAR',\n",
       "   'name': 'aoUra Sl.Dlf oAnua co r d.nhittSR',\n",
       "   'isCrypto': 0},\n",
       "  {'fromCurrency': 'DSU',\n",
       "   'toCurrency': 'DKH',\n",
       "   'symbol': 'USDHKD',\n",
       "   'name': 'KroHl.nnDDUl al tgoar g oS lo.o',\n",
       "   'isCrypto': 0},\n",
       "  {'fromCurrency': 'ERU',\n",
       "   'toCurrency': 'UHF',\n",
       "   'symbol': 'EURHUF',\n",
       "   'name': 'uturontanr aiin gorHEo F',\n",
       "   'isCrypto': 0},\n",
       "  {'fromCurrency': 'DSU',\n",
       "   'toCurrency': 'LSI',\n",
       "   'symbol': 'USDILS',\n",
       "   'name': ' r.ektSlaarSDiwehlelo .   lIsNUeo',\n",
       "   'isCrypto': 0},\n",
       "  {'fromCurrency': 'UDA',\n",
       "   'toCurrency': 'DAC',\n",
       "   'symbol': 'AUDCAD',\n",
       "   'name': 'aDr ll iCaAtuarslnoaDatairalonn ld o',\n",
       "   'isCrypto': 0},\n",
       "  {'fromCurrency': 'URE',\n",
       "   'toCurrency': 'CAD',\n",
       "   'symbol': 'EURCAD',\n",
       "   'name': 'ad oonal rrt aEaonCuDli',\n",
       "   'isCrypto': 0},\n",
       "  {'fromCurrency': 'DUS',\n",
       "   'toCurrency': 'CAD',\n",
       "   'symbol': 'USDCAD',\n",
       "   'name': 'oll a  troaSlirao D.l.dUnCanaD',\n",
       "   'isCrypto': 0},\n",
       "  {'fromCurrency': 'UDS',\n",
       "   'toCurrency': 'ZCK',\n",
       "   'symbol': 'USDCZK',\n",
       "   'name': 'zD rCSeh.artK no Uulo.oalc ',\n",
       "   'isCrypto': 0},\n",
       "  {'fromCurrency': 'UER',\n",
       "   'toCurrency': 'KZC',\n",
       "   'symbol': 'EURCZK',\n",
       "   'name': 'C ohEtarznKroocue u ',\n",
       "   'isCrypto': 0},\n",
       "  {'fromCurrency': 'AUD',\n",
       "   'toCurrency': 'YPJ',\n",
       "   'symbol': 'AUDJPY',\n",
       "   'name': 'aoall rpnatnAlaYe n essteuiJDo ar',\n",
       "   'isCrypto': 0},\n",
       "  {'fromCurrency': 'BPG',\n",
       "   'toCurrency': 'JYP',\n",
       "   'symbol': 'GBPJPY',\n",
       "   'name': 'tn esiuaohpPan oeJriYd ntsB e',\n",
       "   'isCrypto': 0},\n",
       "  {'fromCurrency': 'EUR',\n",
       "   'toCurrency': 'JYP',\n",
       "   'symbol': 'EURJPY',\n",
       "   'name': 'sprJe aE Ytoaoeeun n',\n",
       "   'isCrypto': 0},\n",
       "  {'fromCurrency': 'ACD',\n",
       "   'toCurrency': 'JYP',\n",
       "   'symbol': 'CADJPY',\n",
       "   'name': 'aJDrsaYeoaann  ione l eapaldnCt',\n",
       "   'isCrypto': 0},\n",
       "  {'fromCurrency': 'FHC',\n",
       "   'toCurrency': 'PYJ',\n",
       "   'symbol': 'CHFJPY',\n",
       "   'name': 'J nFcweo assarpnn asee tYiS',\n",
       "   'isCrypto': 0},\n",
       "  {'fromCurrency': 'UDS',\n",
       "   'toCurrency': 'PYJ',\n",
       "   'symbol': 'USDJPY',\n",
       "   'name': '.DaJaen netaolU e .SYrspo l',\n",
       "   'isCrypto': 0},\n",
       "  {'fromCurrency': 'USD',\n",
       "   'toCurrency': 'UBR',\n",
       "   'symbol': 'USDRUB',\n",
       "   'name': 'o.taol e slrRausRul UnSi. bD',\n",
       "   'isCrypto': 0},\n",
       "  {'fromCurrency': 'EUR',\n",
       "   'toCurrency': 'UBR',\n",
       "   'symbol': 'EURRUB',\n",
       "   'name': 'abe Rs touisnRulorEu ',\n",
       "   'isCrypto': 0},\n",
       "  {'fromCurrency': 'SDU',\n",
       "   'toCurrency': 'YTR',\n",
       "   'symbol': 'USDTRY',\n",
       "   'name': 't  h olriaLS UDliouTr.ar.sk',\n",
       "   'isCrypto': 0},\n",
       "  {'fromCurrency': 'REU',\n",
       "   'toCurrency': 'RYT',\n",
       "   'symbol': 'EURTRY',\n",
       "   'name': 'Loo rt kshrE iuariTu',\n",
       "   'isCrypto': 0},\n",
       "  {'fromCurrency': 'EUR',\n",
       "   'toCurrency': 'PGB',\n",
       "   'symbol': 'EURGBP',\n",
       "   'name': 'oi otBud t oiEnsPrhur',\n",
       "   'isCrypto': 0},\n",
       "  {'fromCurrency': 'USD',\n",
       "   'toCurrency': 'RIN',\n",
       "   'symbol': 'USDINR',\n",
       "   'name': 'pe or l aetl .Duin.aSnURdIo',\n",
       "   'isCrypto': 0},\n",
       "  {'fromCurrency': 'REU',\n",
       "   'toCurrency': 'UDA',\n",
       "   'symbol': 'EURAUD',\n",
       "   'name': ' inoEsou  oulraDrtlAltaar',\n",
       "   'isCrypto': 0},\n",
       "  {'fromCurrency': 'BGP',\n",
       "   'toCurrency': 'ADU',\n",
       "   'symbol': 'GBPAUD',\n",
       "   'name': 'rrnsh tntAP lo B laiatrodoiDaiulsu',\n",
       "   'isCrypto': 0}]}"
      ]
     },
     "metadata": {},
     "execution_count": 13
    }
   ],
   "metadata": {}
  },
  {
   "cell_type": "code",
   "execution_count": 14,
   "source": [
    "dfs = c.fxSymbolsDF()\n",
    "dfs[0].head()"
   ],
   "outputs": [
    {
     "output_type": "execute_result",
     "data": {
      "text/plain": [
       "                              name  isCrypto\n",
       "code                                        \n",
       "$NOOB                 nnooaic.bfen         1\n",
       "0CxTB                    x0oncBtii         1\n",
       "0WG    yCertGtWe n-Kipsp0poe rdiat         1\n",
       "1300N                         FYnI         1\n",
       "1PU                       pnUrdten         1"
      ],
      "text/html": [
       "<div>\n",
       "<style scoped>\n",
       "    .dataframe tbody tr th:only-of-type {\n",
       "        vertical-align: middle;\n",
       "    }\n",
       "\n",
       "    .dataframe tbody tr th {\n",
       "        vertical-align: top;\n",
       "    }\n",
       "\n",
       "    .dataframe thead th {\n",
       "        text-align: right;\n",
       "    }\n",
       "</style>\n",
       "<table border=\"1\" class=\"dataframe\">\n",
       "  <thead>\n",
       "    <tr style=\"text-align: right;\">\n",
       "      <th></th>\n",
       "      <th>name</th>\n",
       "      <th>isCrypto</th>\n",
       "    </tr>\n",
       "    <tr>\n",
       "      <th>code</th>\n",
       "      <th></th>\n",
       "      <th></th>\n",
       "    </tr>\n",
       "  </thead>\n",
       "  <tbody>\n",
       "    <tr>\n",
       "      <th>$NOOB</th>\n",
       "      <td>nnooaic.bfen</td>\n",
       "      <td>1</td>\n",
       "    </tr>\n",
       "    <tr>\n",
       "      <th>0CxTB</th>\n",
       "      <td>x0oncBtii</td>\n",
       "      <td>1</td>\n",
       "    </tr>\n",
       "    <tr>\n",
       "      <th>0WG</th>\n",
       "      <td>yCertGtWe n-Kipsp0poe rdiat</td>\n",
       "      <td>1</td>\n",
       "    </tr>\n",
       "    <tr>\n",
       "      <th>1300N</th>\n",
       "      <td>FYnI</td>\n",
       "      <td>1</td>\n",
       "    </tr>\n",
       "    <tr>\n",
       "      <th>1PU</th>\n",
       "      <td>pnUrdten</td>\n",
       "      <td>1</td>\n",
       "    </tr>\n",
       "  </tbody>\n",
       "</table>\n",
       "</div>"
      ]
     },
     "metadata": {},
     "execution_count": 14
    }
   ],
   "metadata": {}
  },
  {
   "cell_type": "code",
   "execution_count": 15,
   "source": [
    "dfs[1].head()"
   ],
   "outputs": [
    {
     "output_type": "execute_result",
     "data": {
      "text/plain": [
       "  fromCurrency toCurrency  symbol                                       name  \\\n",
       "0          SDU        HNC  USDCNH  Kr.ee hsn n)SiaeCnm(HiUaD  ubiltoln.o Y R   \n",
       "1          RUE        DKK  EURDKK                        Kroosih eroD nauEtn   \n",
       "2          DUS        KKD  USDDKK                .Doi to oKa allnrerUsD .Shn   \n",
       "3          REU        SGD  EURSGD                   oi olronDeroE aragtpSul    \n",
       "4          USD        GDS  USDSGD            lanoDo gal. .UoSpeaDrllt roiS r   \n",
       "\n",
       "   isCrypto  \n",
       "0         0  \n",
       "1         0  \n",
       "2         0  \n",
       "3         0  \n",
       "4         0  "
      ],
      "text/html": [
       "<div>\n",
       "<style scoped>\n",
       "    .dataframe tbody tr th:only-of-type {\n",
       "        vertical-align: middle;\n",
       "    }\n",
       "\n",
       "    .dataframe tbody tr th {\n",
       "        vertical-align: top;\n",
       "    }\n",
       "\n",
       "    .dataframe thead th {\n",
       "        text-align: right;\n",
       "    }\n",
       "</style>\n",
       "<table border=\"1\" class=\"dataframe\">\n",
       "  <thead>\n",
       "    <tr style=\"text-align: right;\">\n",
       "      <th></th>\n",
       "      <th>fromCurrency</th>\n",
       "      <th>toCurrency</th>\n",
       "      <th>symbol</th>\n",
       "      <th>name</th>\n",
       "      <th>isCrypto</th>\n",
       "    </tr>\n",
       "  </thead>\n",
       "  <tbody>\n",
       "    <tr>\n",
       "      <th>0</th>\n",
       "      <td>SDU</td>\n",
       "      <td>HNC</td>\n",
       "      <td>USDCNH</td>\n",
       "      <td>Kr.ee hsn n)SiaeCnm(HiUaD  ubiltoln.o Y R</td>\n",
       "      <td>0</td>\n",
       "    </tr>\n",
       "    <tr>\n",
       "      <th>1</th>\n",
       "      <td>RUE</td>\n",
       "      <td>DKK</td>\n",
       "      <td>EURDKK</td>\n",
       "      <td>Kroosih eroD nauEtn</td>\n",
       "      <td>0</td>\n",
       "    </tr>\n",
       "    <tr>\n",
       "      <th>2</th>\n",
       "      <td>DUS</td>\n",
       "      <td>KKD</td>\n",
       "      <td>USDDKK</td>\n",
       "      <td>.Doi to oKa allnrerUsD .Shn</td>\n",
       "      <td>0</td>\n",
       "    </tr>\n",
       "    <tr>\n",
       "      <th>3</th>\n",
       "      <td>REU</td>\n",
       "      <td>SGD</td>\n",
       "      <td>EURSGD</td>\n",
       "      <td>oi olronDeroE aragtpSul</td>\n",
       "      <td>0</td>\n",
       "    </tr>\n",
       "    <tr>\n",
       "      <th>4</th>\n",
       "      <td>USD</td>\n",
       "      <td>GDS</td>\n",
       "      <td>USDSGD</td>\n",
       "      <td>lanoDo gal. .UoSpeaDrllt roiS r</td>\n",
       "      <td>0</td>\n",
       "    </tr>\n",
       "  </tbody>\n",
       "</table>\n",
       "</div>"
      ]
     },
     "metadata": {},
     "execution_count": 15
    }
   ],
   "metadata": {}
  },
  {
   "cell_type": "code",
   "execution_count": 16,
   "source": [
    "l = c.fxSymbolsList()\n",
    "l[0][:5]"
   ],
   "outputs": [
    {
     "output_type": "execute_result",
     "data": {
      "text/plain": [
       "['ABL', 'ABT', 'ABSYS', 'AACT', 'ACH']"
      ]
     },
     "metadata": {},
     "execution_count": 16
    }
   ],
   "metadata": {}
  },
  {
   "cell_type": "code",
   "execution_count": 17,
   "source": [
    "l[1][:5]"
   ],
   "outputs": [
    {
     "output_type": "execute_result",
     "data": {
      "text/plain": [
       "['UDSHCN', 'UREDKK', 'DUSKDK', 'UREDSG', 'DUSSDG']"
      ]
     },
     "metadata": {},
     "execution_count": 17
    }
   ],
   "metadata": {}
  },
  {
   "cell_type": "markdown",
   "source": [
    "## Options Symbols"
   ],
   "metadata": {}
  },
  {
   "cell_type": "code",
   "execution_count": 18,
   "source": [
    "d = c.optionsSymbols()\n",
    "list(d.keys())[:5]"
   ],
   "outputs": [
    {
     "output_type": "execute_result",
     "data": {
      "text/plain": [
       "['GLIN', 'OEC', 'AHC', 'OLED2', 'DE']"
      ]
     },
     "metadata": {},
     "execution_count": 18
    }
   ],
   "metadata": {}
  },
  {
   "cell_type": "code",
   "execution_count": 19,
   "source": [
    "c.optionsSymbolsDF().head()"
   ],
   "outputs": [
    {
     "output_type": "execute_result",
     "data": {
      "text/plain": [
       "                                            expirations\n",
       "A     [20210812, 20210916, 20211112, 20220117, 20220...\n",
       "A2                                           [20220113]\n",
       "AA    [20210729, 20210723, 20210808, 20210811, 20210...\n",
       "AA2                                          [20220117]\n",
       "AABA                                         [20220114]"
      ],
      "text/html": [
       "<div>\n",
       "<style scoped>\n",
       "    .dataframe tbody tr th:only-of-type {\n",
       "        vertical-align: middle;\n",
       "    }\n",
       "\n",
       "    .dataframe tbody tr th {\n",
       "        vertical-align: top;\n",
       "    }\n",
       "\n",
       "    .dataframe thead th {\n",
       "        text-align: right;\n",
       "    }\n",
       "</style>\n",
       "<table border=\"1\" class=\"dataframe\">\n",
       "  <thead>\n",
       "    <tr style=\"text-align: right;\">\n",
       "      <th></th>\n",
       "      <th>expirations</th>\n",
       "    </tr>\n",
       "  </thead>\n",
       "  <tbody>\n",
       "    <tr>\n",
       "      <th>A</th>\n",
       "      <td>[20210812, 20210916, 20211112, 20220117, 20220...</td>\n",
       "    </tr>\n",
       "    <tr>\n",
       "      <th>A2</th>\n",
       "      <td>[20220113]</td>\n",
       "    </tr>\n",
       "    <tr>\n",
       "      <th>AA</th>\n",
       "      <td>[20210729, 20210723, 20210808, 20210811, 20210...</td>\n",
       "    </tr>\n",
       "    <tr>\n",
       "      <th>AA2</th>\n",
       "      <td>[20220117]</td>\n",
       "    </tr>\n",
       "    <tr>\n",
       "      <th>AABA</th>\n",
       "      <td>[20220114]</td>\n",
       "    </tr>\n",
       "  </tbody>\n",
       "</table>\n",
       "</div>"
      ]
     },
     "metadata": {},
     "execution_count": 19
    }
   ],
   "metadata": {}
  },
  {
   "cell_type": "code",
   "execution_count": 20,
   "source": [
    "c.optionsSymbolsList()[:5]"
   ],
   "outputs": [
    {
     "output_type": "execute_result",
     "data": {
      "text/plain": [
       "['GLIN-20210812',\n",
       " 'GLIN-20210909',\n",
       " 'GLIN-20211216',\n",
       " 'GLIN-20220313',\n",
       " 'OEC-20210808']"
      ]
     },
     "metadata": {},
     "execution_count": 20
    }
   ],
   "metadata": {}
  },
  {
   "cell_type": "markdown",
   "source": [
    "## International Exchanges"
   ],
   "metadata": {}
  },
  {
   "cell_type": "code",
   "execution_count": 21,
   "source": [
    "c.internationalExchanges()[:5]"
   ],
   "outputs": [
    {
     "output_type": "execute_result",
     "data": {
      "text/plain": [
       "[{'exchange': 'BSEX',\n",
       "  'region': 'AZ',\n",
       "  'description': ' Schaxacek BtEougkn',\n",
       "  'mic': 'SXEB',\n",
       "  'exchangeSuffix': '-EXSB'},\n",
       " {'exchange': 'DUB',\n",
       "  'region': 'IE',\n",
       "  'description': 'ei nrbDuulnEotx',\n",
       "  'mic': 'XBUD',\n",
       "  'exchangeSuffix': 'D-I'},\n",
       " {'exchange': 'HKHKSG',\n",
       "  'region': 'HK',\n",
       "  'description': 'L eet n fendocckg  nogEKtoa hm CogkahgiSHioKoanhtnoi SnxgtSccn gHn O',\n",
       "  'mic': 'SCHS',\n",
       "  'exchangeSuffix': '1H-'},\n",
       " {'exchange': 'CAR',\n",
       "  'region': 'VE',\n",
       "  'description': 'tchoCaScrEaeksa na cgx',\n",
       "  'mic': 'VBCA',\n",
       "  'exchangeSuffix': '-SV'},\n",
       " {'exchange': 'COL',\n",
       "  'region': 'LK',\n",
       "  'description': ' oCE anxbSkthmgccoooel',\n",
       "  'mic': 'XOLC',\n",
       "  'exchangeSuffix': 'L-S'}]"
      ]
     },
     "metadata": {},
     "execution_count": 21
    }
   ],
   "metadata": {}
  },
  {
   "cell_type": "code",
   "execution_count": 22,
   "source": [
    "c.internationalExchangesDF().head()"
   ],
   "outputs": [
    {
     "output_type": "execute_result",
     "data": {
      "text/plain": [
       "  exchange region                                        description   mic  \\\n",
       "0     BSEX     AZ                                 Schaxacek BtEougkn  SXEB   \n",
       "1      DUB     IE                                    ei nrbDuulnEotx  XBUD   \n",
       "2   HKHKSG     HK  L eet n fendocckg  nogEKtoa hm CogkahgiSHioKoa...  SCHS   \n",
       "3      CAR     VE                             tchoCaScrEaeksa na cgx  VBCA   \n",
       "4      COL     LK                              oCE anxbSkthmgccoooel  XOLC   \n",
       "\n",
       "  exchangeSuffix  \n",
       "0          -EXSB  \n",
       "1            D-I  \n",
       "2            1H-  \n",
       "3            -SV  \n",
       "4            L-S  "
      ],
      "text/html": [
       "<div>\n",
       "<style scoped>\n",
       "    .dataframe tbody tr th:only-of-type {\n",
       "        vertical-align: middle;\n",
       "    }\n",
       "\n",
       "    .dataframe tbody tr th {\n",
       "        vertical-align: top;\n",
       "    }\n",
       "\n",
       "    .dataframe thead th {\n",
       "        text-align: right;\n",
       "    }\n",
       "</style>\n",
       "<table border=\"1\" class=\"dataframe\">\n",
       "  <thead>\n",
       "    <tr style=\"text-align: right;\">\n",
       "      <th></th>\n",
       "      <th>exchange</th>\n",
       "      <th>region</th>\n",
       "      <th>description</th>\n",
       "      <th>mic</th>\n",
       "      <th>exchangeSuffix</th>\n",
       "    </tr>\n",
       "  </thead>\n",
       "  <tbody>\n",
       "    <tr>\n",
       "      <th>0</th>\n",
       "      <td>BSEX</td>\n",
       "      <td>AZ</td>\n",
       "      <td>Schaxacek BtEougkn</td>\n",
       "      <td>SXEB</td>\n",
       "      <td>-EXSB</td>\n",
       "    </tr>\n",
       "    <tr>\n",
       "      <th>1</th>\n",
       "      <td>DUB</td>\n",
       "      <td>IE</td>\n",
       "      <td>ei nrbDuulnEotx</td>\n",
       "      <td>XBUD</td>\n",
       "      <td>D-I</td>\n",
       "    </tr>\n",
       "    <tr>\n",
       "      <th>2</th>\n",
       "      <td>HKHKSG</td>\n",
       "      <td>HK</td>\n",
       "      <td>L eet n fendocckg  nogEKtoa hm CogkahgiSHioKoa...</td>\n",
       "      <td>SCHS</td>\n",
       "      <td>1H-</td>\n",
       "    </tr>\n",
       "    <tr>\n",
       "      <th>3</th>\n",
       "      <td>CAR</td>\n",
       "      <td>VE</td>\n",
       "      <td>tchoCaScrEaeksa na cgx</td>\n",
       "      <td>VBCA</td>\n",
       "      <td>-SV</td>\n",
       "    </tr>\n",
       "    <tr>\n",
       "      <th>4</th>\n",
       "      <td>COL</td>\n",
       "      <td>LK</td>\n",
       "      <td>oCE anxbSkthmgccoooel</td>\n",
       "      <td>XOLC</td>\n",
       "      <td>L-S</td>\n",
       "    </tr>\n",
       "  </tbody>\n",
       "</table>\n",
       "</div>"
      ]
     },
     "metadata": {},
     "execution_count": 22
    }
   ],
   "metadata": {}
  },
  {
   "cell_type": "markdown",
   "source": [
    "## US Exchanges"
   ],
   "metadata": {}
  },
  {
   "cell_type": "code",
   "execution_count": 23,
   "source": [
    "c.exchanges()[:5]"
   ],
   "outputs": [
    {
     "output_type": "execute_result",
     "data": {
      "text/plain": [
       "[{'mic': 'RXAC',\n",
       "  'name': 'cYr ESNAa',\n",
       "  'longName': 'NEYRCS AA',\n",
       "  'tapeId': 'P',\n",
       "  'oatsId': 'XP',\n",
       "  'refId': 'SPE',\n",
       "  'type': 'equities'},\n",
       " {'mic': 'XDGE',\n",
       "  'name': 'DbG oXCEe',\n",
       "  'longName': 'U ioXtibE snS xqhDuCgceEeEe Ga',\n",
       "  'tapeId': 'K',\n",
       "  'oatsId': 'XK',\n",
       "  'refId': 'XDEG',\n",
       "  'type': 'equities'},\n",
       " {'mic': 'TBSA',\n",
       "  'name': 'b oXBZeC',\n",
       "  'longName': 'sht nUiEZxq eCeScXb u eBiaogE',\n",
       "  'tapeId': 'Z',\n",
       "  'oatsId': 'XZ',\n",
       "  'refId': 'ATBS',\n",
       "  'type': 'equities'},\n",
       " {'mic': 'YBTA',\n",
       "  'name': 'B XobYeC',\n",
       "  'longName': 'CBa noS  ug tYebeEcsUXEhxeqii',\n",
       "  'tapeId': 'Y',\n",
       "  'oatsId': 'YX',\n",
       "  'refId': 'BTAY',\n",
       "  'type': 'equities'},\n",
       " {'mic': 'EGDA',\n",
       "  'name': 'bAeGDEo C',\n",
       "  'longName': 'EAenb e DehsCqcEui txgESioa UG',\n",
       "  'tapeId': 'J',\n",
       "  'oatsId': 'XJ',\n",
       "  'refId': 'ADEG',\n",
       "  'type': 'equities'}]"
      ]
     },
     "metadata": {},
     "execution_count": 23
    }
   ],
   "metadata": {}
  },
  {
   "cell_type": "code",
   "execution_count": 24,
   "source": [
    "c.exchangesDF().head()"
   ],
   "outputs": [
    {
     "output_type": "execute_result",
     "data": {
      "text/plain": [
       "    mic       name                        longName tapeId oatsId refId  \\\n",
       "0  RXAC  cYr ESNAa                       NEYRCS AA      P     XP   SPE   \n",
       "1  XDGE  DbG oXCEe  U ioXtibE snS xqhDuCgceEeEe Ga      K     XK  XDEG   \n",
       "2  TBSA   b oXBZeC   sht nUiEZxq eCeScXb u eBiaogE      Z     XZ  ATBS   \n",
       "3  YBTA   B XobYeC   CBa noS  ug tYebeEcsUXEhxeqii      Y     YX  BTAY   \n",
       "4  EGDA  bAeGDEo C  EAenb e DehsCqcEui txgESioa UG      J     XJ  ADEG   \n",
       "\n",
       "       type  \n",
       "0  equities  \n",
       "1  equities  \n",
       "2  equities  \n",
       "3  equities  \n",
       "4  equities  "
      ],
      "text/html": [
       "<div>\n",
       "<style scoped>\n",
       "    .dataframe tbody tr th:only-of-type {\n",
       "        vertical-align: middle;\n",
       "    }\n",
       "\n",
       "    .dataframe tbody tr th {\n",
       "        vertical-align: top;\n",
       "    }\n",
       "\n",
       "    .dataframe thead th {\n",
       "        text-align: right;\n",
       "    }\n",
       "</style>\n",
       "<table border=\"1\" class=\"dataframe\">\n",
       "  <thead>\n",
       "    <tr style=\"text-align: right;\">\n",
       "      <th></th>\n",
       "      <th>mic</th>\n",
       "      <th>name</th>\n",
       "      <th>longName</th>\n",
       "      <th>tapeId</th>\n",
       "      <th>oatsId</th>\n",
       "      <th>refId</th>\n",
       "      <th>type</th>\n",
       "    </tr>\n",
       "  </thead>\n",
       "  <tbody>\n",
       "    <tr>\n",
       "      <th>0</th>\n",
       "      <td>RXAC</td>\n",
       "      <td>cYr ESNAa</td>\n",
       "      <td>NEYRCS AA</td>\n",
       "      <td>P</td>\n",
       "      <td>XP</td>\n",
       "      <td>SPE</td>\n",
       "      <td>equities</td>\n",
       "    </tr>\n",
       "    <tr>\n",
       "      <th>1</th>\n",
       "      <td>XDGE</td>\n",
       "      <td>DbG oXCEe</td>\n",
       "      <td>U ioXtibE snS xqhDuCgceEeEe Ga</td>\n",
       "      <td>K</td>\n",
       "      <td>XK</td>\n",
       "      <td>XDEG</td>\n",
       "      <td>equities</td>\n",
       "    </tr>\n",
       "    <tr>\n",
       "      <th>2</th>\n",
       "      <td>TBSA</td>\n",
       "      <td>b oXBZeC</td>\n",
       "      <td>sht nUiEZxq eCeScXb u eBiaogE</td>\n",
       "      <td>Z</td>\n",
       "      <td>XZ</td>\n",
       "      <td>ATBS</td>\n",
       "      <td>equities</td>\n",
       "    </tr>\n",
       "    <tr>\n",
       "      <th>3</th>\n",
       "      <td>YBTA</td>\n",
       "      <td>B XobYeC</td>\n",
       "      <td>CBa noS  ug tYebeEcsUXEhxeqii</td>\n",
       "      <td>Y</td>\n",
       "      <td>YX</td>\n",
       "      <td>BTAY</td>\n",
       "      <td>equities</td>\n",
       "    </tr>\n",
       "    <tr>\n",
       "      <th>4</th>\n",
       "      <td>EGDA</td>\n",
       "      <td>bAeGDEo C</td>\n",
       "      <td>EAenb e DehsCqcEui txgESioa UG</td>\n",
       "      <td>J</td>\n",
       "      <td>XJ</td>\n",
       "      <td>ADEG</td>\n",
       "      <td>equities</td>\n",
       "    </tr>\n",
       "  </tbody>\n",
       "</table>\n",
       "</div>"
      ]
     },
     "metadata": {},
     "execution_count": 24
    }
   ],
   "metadata": {}
  },
  {
   "cell_type": "markdown",
   "source": [
    "## US Holidays"
   ],
   "metadata": {}
  },
  {
   "cell_type": "code",
   "execution_count": 25,
   "source": [
    "c.holidays()[:5]"
   ],
   "outputs": [
    {
     "output_type": "execute_result",
     "data": {
      "text/plain": [
       "[{'date': '2021-09-06', 'settlementDate': '2021-09-03'}]"
      ]
     },
     "metadata": {},
     "execution_count": 25
    }
   ],
   "metadata": {}
  },
  {
   "cell_type": "code",
   "execution_count": 26,
   "source": [
    "c.holidaysDF().head()"
   ],
   "outputs": [
    {
     "output_type": "execute_result",
     "data": {
      "text/plain": [
       "        date settlementDate\n",
       "0 2021-09-06     2021-08-29"
      ],
      "text/html": [
       "<div>\n",
       "<style scoped>\n",
       "    .dataframe tbody tr th:only-of-type {\n",
       "        vertical-align: middle;\n",
       "    }\n",
       "\n",
       "    .dataframe tbody tr th {\n",
       "        vertical-align: top;\n",
       "    }\n",
       "\n",
       "    .dataframe thead th {\n",
       "        text-align: right;\n",
       "    }\n",
       "</style>\n",
       "<table border=\"1\" class=\"dataframe\">\n",
       "  <thead>\n",
       "    <tr style=\"text-align: right;\">\n",
       "      <th></th>\n",
       "      <th>date</th>\n",
       "      <th>settlementDate</th>\n",
       "    </tr>\n",
       "  </thead>\n",
       "  <tbody>\n",
       "    <tr>\n",
       "      <th>0</th>\n",
       "      <td>2021-09-06</td>\n",
       "      <td>2021-08-29</td>\n",
       "    </tr>\n",
       "  </tbody>\n",
       "</table>\n",
       "</div>"
      ]
     },
     "metadata": {},
     "execution_count": 26
    }
   ],
   "metadata": {}
  },
  {
   "cell_type": "markdown",
   "source": [
    "## Sectors"
   ],
   "metadata": {}
  },
  {
   "cell_type": "code",
   "execution_count": 27,
   "source": [
    "c.sectors()[:5]"
   ],
   "outputs": [
    {
     "output_type": "execute_result",
     "data": {
      "text/plain": [
       "[{'name': 'ernltieirer vaOsuncde t( SiihtePxctc)bAmoi ps'},\n",
       " {'name': 'cC oSlreiavcresimme'},\n",
       " {'name': 'RTade laeitr'},\n",
       " {'name': 'StsDitrecsbnuivioi er'},\n",
       " {'name': 'tsPdsIsuec rnesoir'}]"
      ]
     },
     "metadata": {},
     "execution_count": 27
    }
   ],
   "metadata": {}
  },
  {
   "cell_type": "code",
   "execution_count": 28,
   "source": [
    "c.sectorsDF().head()"
   ],
   "outputs": [
    {
     "output_type": "execute_result",
     "data": {
      "text/plain": [
       "                                            name\n",
       "0  ernltieirer vaOsuncde t( SiihtePxctc)bAmoi ps\n",
       "1                            cC oSlreiavcresimme\n",
       "2                                   RTade laeitr\n",
       "3                          StsDitrecsbnuivioi er\n",
       "4                             tsPdsIsuec rnesoir"
      ],
      "text/html": [
       "<div>\n",
       "<style scoped>\n",
       "    .dataframe tbody tr th:only-of-type {\n",
       "        vertical-align: middle;\n",
       "    }\n",
       "\n",
       "    .dataframe tbody tr th {\n",
       "        vertical-align: top;\n",
       "    }\n",
       "\n",
       "    .dataframe thead th {\n",
       "        text-align: right;\n",
       "    }\n",
       "</style>\n",
       "<table border=\"1\" class=\"dataframe\">\n",
       "  <thead>\n",
       "    <tr style=\"text-align: right;\">\n",
       "      <th></th>\n",
       "      <th>name</th>\n",
       "    </tr>\n",
       "  </thead>\n",
       "  <tbody>\n",
       "    <tr>\n",
       "      <th>0</th>\n",
       "      <td>ernltieirer vaOsuncde t( SiihtePxctc)bAmoi ps</td>\n",
       "    </tr>\n",
       "    <tr>\n",
       "      <th>1</th>\n",
       "      <td>cC oSlreiavcresimme</td>\n",
       "    </tr>\n",
       "    <tr>\n",
       "      <th>2</th>\n",
       "      <td>RTade laeitr</td>\n",
       "    </tr>\n",
       "    <tr>\n",
       "      <th>3</th>\n",
       "      <td>StsDitrecsbnuivioi er</td>\n",
       "    </tr>\n",
       "    <tr>\n",
       "      <th>4</th>\n",
       "      <td>tsPdsIsuec rnesoir</td>\n",
       "    </tr>\n",
       "  </tbody>\n",
       "</table>\n",
       "</div>"
      ]
     },
     "metadata": {},
     "execution_count": 28
    }
   ],
   "metadata": {}
  },
  {
   "cell_type": "markdown",
   "source": [
    "## Tags"
   ],
   "metadata": {}
  },
  {
   "cell_type": "code",
   "execution_count": 29,
   "source": [
    "c.tags()[:5]"
   ],
   "outputs": [
    {
     "output_type": "execute_result",
     "data": {
      "text/plain": [
       "[{'name': 'ee neOiFrliai Vthancsch l'},\n",
       " {'name': 'vinrgeeoS'},\n",
       " {'name': 'uliaLInt-nicneesu Mr'},\n",
       " {'name': 'ge od S sSoptrosrnoGti'},\n",
       " {'name': 'saPtrseS ba legacnniBPdi teanonrnbgdidtWa lahenor Iu csr ht'}]"
      ]
     },
     "metadata": {},
     "execution_count": 29
    }
   ],
   "metadata": {}
  },
  {
   "cell_type": "code",
   "execution_count": 30,
   "source": [
    "c.tagsDF().head()"
   ],
   "outputs": [
    {
     "output_type": "execute_result",
     "data": {
      "text/plain": [
       "                                                name\n",
       "0                          ee neOiFrliai Vthancsch l\n",
       "1                                          vinrgeeoS\n",
       "2                               uliaLInt-nicneesu Mr\n",
       "3                             ge od S sSoptrosrnoGti\n",
       "4  saPtrseS ba legacnniBPdi teanonrnbgdidtWa lahe..."
      ],
      "text/html": [
       "<div>\n",
       "<style scoped>\n",
       "    .dataframe tbody tr th:only-of-type {\n",
       "        vertical-align: middle;\n",
       "    }\n",
       "\n",
       "    .dataframe tbody tr th {\n",
       "        vertical-align: top;\n",
       "    }\n",
       "\n",
       "    .dataframe thead th {\n",
       "        text-align: right;\n",
       "    }\n",
       "</style>\n",
       "<table border=\"1\" class=\"dataframe\">\n",
       "  <thead>\n",
       "    <tr style=\"text-align: right;\">\n",
       "      <th></th>\n",
       "      <th>name</th>\n",
       "    </tr>\n",
       "  </thead>\n",
       "  <tbody>\n",
       "    <tr>\n",
       "      <th>0</th>\n",
       "      <td>ee neOiFrliai Vthancsch l</td>\n",
       "    </tr>\n",
       "    <tr>\n",
       "      <th>1</th>\n",
       "      <td>vinrgeeoS</td>\n",
       "    </tr>\n",
       "    <tr>\n",
       "      <th>2</th>\n",
       "      <td>uliaLInt-nicneesu Mr</td>\n",
       "    </tr>\n",
       "    <tr>\n",
       "      <th>3</th>\n",
       "      <td>ge od S sSoptrosrnoGti</td>\n",
       "    </tr>\n",
       "    <tr>\n",
       "      <th>4</th>\n",
       "      <td>saPtrseS ba legacnniBPdi teanonrnbgdidtWa lahe...</td>\n",
       "    </tr>\n",
       "  </tbody>\n",
       "</table>\n",
       "</div>"
      ]
     },
     "metadata": {},
     "execution_count": 30
    }
   ],
   "metadata": {}
  },
  {
   "cell_type": "markdown",
   "source": [
    "# Data Points API"
   ],
   "metadata": {}
  },
  {
   "cell_type": "code",
   "execution_count": 31,
   "source": [
    "c.points()[:5]"
   ],
   "outputs": [
    {
     "output_type": "execute_result",
     "data": {
      "text/plain": [
       "[{'key': 'DGS1MO',\n",
       "  'weight': 10,\n",
       "  'description': '1-Month Treasury Rate (daily)',\n",
       "  'lastUpdated': '2021-07-27T23:00:03+00:00'},\n",
       " {'key': 'DGS1',\n",
       "  'weight': 10,\n",
       "  'description': '1-Year Treasury Rate (daily)',\n",
       "  'lastUpdated': '2021-07-27T23:00:01+00:00'},\n",
       " {'key': 'DGS10',\n",
       "  'weight': 10,\n",
       "  'description': '10-Year Treasury Rate (daily)',\n",
       "  'lastUpdated': '2021-07-27T23:00:02+00:00'},\n",
       " {'key': 'DGS2',\n",
       "  'weight': 10,\n",
       "  'description': '2-Year Treasury Rate (daily)',\n",
       "  'lastUpdated': '2021-07-27T23:00:01+00:00'},\n",
       " {'key': 'DGS20',\n",
       "  'weight': 10,\n",
       "  'description': '20-Year Treasury Rate (daily)',\n",
       "  'lastUpdated': '2021-07-27T23:00:02+00:00'}]"
      ]
     },
     "metadata": {},
     "execution_count": 31
    }
   ],
   "metadata": {}
  },
  {
   "cell_type": "code",
   "execution_count": 32,
   "source": [
    "c.pointsDF().head()"
   ],
   "outputs": [
    {
     "output_type": "execute_result",
     "data": {
      "text/plain": [
       "      key  weight                    description               lastUpdated\n",
       "0  DGS1MO      10  1-Month Treasury Rate (daily) 2021-07-27 23:00:03+00:00\n",
       "1    DGS1      10   1-Year Treasury Rate (daily) 2021-07-27 23:00:01+00:00\n",
       "2   DGS10      10  10-Year Treasury Rate (daily) 2021-07-27 23:00:02+00:00\n",
       "3    DGS2      10   2-Year Treasury Rate (daily) 2021-07-27 23:00:01+00:00\n",
       "4   DGS20      10  20-Year Treasury Rate (daily) 2021-07-27 23:00:02+00:00"
      ],
      "text/html": [
       "<div>\n",
       "<style scoped>\n",
       "    .dataframe tbody tr th:only-of-type {\n",
       "        vertical-align: middle;\n",
       "    }\n",
       "\n",
       "    .dataframe tbody tr th {\n",
       "        vertical-align: top;\n",
       "    }\n",
       "\n",
       "    .dataframe thead th {\n",
       "        text-align: right;\n",
       "    }\n",
       "</style>\n",
       "<table border=\"1\" class=\"dataframe\">\n",
       "  <thead>\n",
       "    <tr style=\"text-align: right;\">\n",
       "      <th></th>\n",
       "      <th>key</th>\n",
       "      <th>weight</th>\n",
       "      <th>description</th>\n",
       "      <th>lastUpdated</th>\n",
       "    </tr>\n",
       "  </thead>\n",
       "  <tbody>\n",
       "    <tr>\n",
       "      <th>0</th>\n",
       "      <td>DGS1MO</td>\n",
       "      <td>10</td>\n",
       "      <td>1-Month Treasury Rate (daily)</td>\n",
       "      <td>2021-07-27 23:00:03+00:00</td>\n",
       "    </tr>\n",
       "    <tr>\n",
       "      <th>1</th>\n",
       "      <td>DGS1</td>\n",
       "      <td>10</td>\n",
       "      <td>1-Year Treasury Rate (daily)</td>\n",
       "      <td>2021-07-27 23:00:01+00:00</td>\n",
       "    </tr>\n",
       "    <tr>\n",
       "      <th>2</th>\n",
       "      <td>DGS10</td>\n",
       "      <td>10</td>\n",
       "      <td>10-Year Treasury Rate (daily)</td>\n",
       "      <td>2021-07-27 23:00:02+00:00</td>\n",
       "    </tr>\n",
       "    <tr>\n",
       "      <th>3</th>\n",
       "      <td>DGS2</td>\n",
       "      <td>10</td>\n",
       "      <td>2-Year Treasury Rate (daily)</td>\n",
       "      <td>2021-07-27 23:00:01+00:00</td>\n",
       "    </tr>\n",
       "    <tr>\n",
       "      <th>4</th>\n",
       "      <td>DGS20</td>\n",
       "      <td>10</td>\n",
       "      <td>20-Year Treasury Rate (daily)</td>\n",
       "      <td>2021-07-27 23:00:02+00:00</td>\n",
       "    </tr>\n",
       "  </tbody>\n",
       "</table>\n",
       "</div>"
      ]
     },
     "metadata": {},
     "execution_count": 32
    }
   ],
   "metadata": {}
  },
  {
   "cell_type": "code",
   "execution_count": 33,
   "source": [
    "c.points(key='DGS10')"
   ],
   "outputs": [
    {
     "output_type": "execute_result",
     "data": {
      "text/plain": [
       "1.34"
      ]
     },
     "metadata": {},
     "execution_count": 33
    }
   ],
   "metadata": {}
  },
  {
   "cell_type": "code",
   "execution_count": 34,
   "source": [
    "c.pointsDF('aapl').head()"
   ],
   "outputs": [
    {
     "output_type": "execute_result",
     "data": {
      "text/plain": [
       "               key  weight                     description  \\\n",
       "0             BETA       1                                   \n",
       "1  ACCOUNTSPAYABLE    3000  Balance Sheet: accountsPayable   \n",
       "2   CAPITALSURPLUS    3000   Balance Sheet: capitalSurplus   \n",
       "3      COMMONSTOCK    3000      Balance Sheet: commonStock   \n",
       "4    CURRENTASSETS    3000    Balance Sheet: currentAssets   \n",
       "\n",
       "                lastUpdated  \n",
       "0 2021-07-27 19:30:40+00:00  \n",
       "1 2021-06-09 15:12:34+00:00  \n",
       "2 2021-06-09 15:12:34+00:00  \n",
       "3 2021-06-09 15:12:34+00:00  \n",
       "4 2021-06-09 15:12:34+00:00  "
      ],
      "text/html": [
       "<div>\n",
       "<style scoped>\n",
       "    .dataframe tbody tr th:only-of-type {\n",
       "        vertical-align: middle;\n",
       "    }\n",
       "\n",
       "    .dataframe tbody tr th {\n",
       "        vertical-align: top;\n",
       "    }\n",
       "\n",
       "    .dataframe thead th {\n",
       "        text-align: right;\n",
       "    }\n",
       "</style>\n",
       "<table border=\"1\" class=\"dataframe\">\n",
       "  <thead>\n",
       "    <tr style=\"text-align: right;\">\n",
       "      <th></th>\n",
       "      <th>key</th>\n",
       "      <th>weight</th>\n",
       "      <th>description</th>\n",
       "      <th>lastUpdated</th>\n",
       "    </tr>\n",
       "  </thead>\n",
       "  <tbody>\n",
       "    <tr>\n",
       "      <th>0</th>\n",
       "      <td>BETA</td>\n",
       "      <td>1</td>\n",
       "      <td></td>\n",
       "      <td>2021-07-27 19:30:40+00:00</td>\n",
       "    </tr>\n",
       "    <tr>\n",
       "      <th>1</th>\n",
       "      <td>ACCOUNTSPAYABLE</td>\n",
       "      <td>3000</td>\n",
       "      <td>Balance Sheet: accountsPayable</td>\n",
       "      <td>2021-06-09 15:12:34+00:00</td>\n",
       "    </tr>\n",
       "    <tr>\n",
       "      <th>2</th>\n",
       "      <td>CAPITALSURPLUS</td>\n",
       "      <td>3000</td>\n",
       "      <td>Balance Sheet: capitalSurplus</td>\n",
       "      <td>2021-06-09 15:12:34+00:00</td>\n",
       "    </tr>\n",
       "    <tr>\n",
       "      <th>3</th>\n",
       "      <td>COMMONSTOCK</td>\n",
       "      <td>3000</td>\n",
       "      <td>Balance Sheet: commonStock</td>\n",
       "      <td>2021-06-09 15:12:34+00:00</td>\n",
       "    </tr>\n",
       "    <tr>\n",
       "      <th>4</th>\n",
       "      <td>CURRENTASSETS</td>\n",
       "      <td>3000</td>\n",
       "      <td>Balance Sheet: currentAssets</td>\n",
       "      <td>2021-06-09 15:12:34+00:00</td>\n",
       "    </tr>\n",
       "  </tbody>\n",
       "</table>\n",
       "</div>"
      ]
     },
     "metadata": {},
     "execution_count": 34
    }
   ],
   "metadata": {}
  },
  {
   "cell_type": "code",
   "execution_count": 35,
   "source": [
    "c.points('aapl', 'QUOTE-LATESTPRICE')"
   ],
   "outputs": [
    {
     "output_type": "execute_result",
     "data": {
      "text/plain": [
       "''"
      ]
     },
     "metadata": {},
     "execution_count": 35
    }
   ],
   "metadata": {}
  },
  {
   "cell_type": "markdown",
   "source": [
    "# Stock API"
   ],
   "metadata": {}
  },
  {
   "cell_type": "code",
   "execution_count": 36,
   "source": [
    "symbol = 'AAPL'"
   ],
   "outputs": [],
   "metadata": {}
  },
  {
   "cell_type": "markdown",
   "source": [
    "## Advanced Stats"
   ],
   "metadata": {}
  },
  {
   "cell_type": "code",
   "execution_count": 37,
   "source": [
    "c.advancedStats(symbol)"
   ],
   "outputs": [
    {
     "output_type": "execute_result",
     "data": {
      "text/plain": [
       "{'beta': 1.577753335425845,\n",
       " 'totalCash': 71202145173,\n",
       " 'currentDebt': 107260641507,\n",
       " 'revenue': 336183409804,\n",
       " 'grossProfit': 135614161157,\n",
       " 'totalRevenue': 328505858093,\n",
       " 'EBITDA': 100473457065,\n",
       " 'revenuePerShare': 19.8,\n",
       " 'revenuePerEmployee': 2300259.52,\n",
       " 'debtToEquity': 4.948437013941829,\n",
       " 'profitMargin': 0.2460080774271777,\n",
       " 'enterpriseValue': 2608042458345,\n",
       " 'enterpriseValueToRevenue': 8.2,\n",
       " 'priceToSales': 7.89,\n",
       " 'priceToBook': 36.91,\n",
       " 'forwardPERatio': 6.381993644531909,\n",
       " 'pegRatio': 0.8499056624980412,\n",
       " 'peHigh': 40.76919887138075,\n",
       " 'peLow': 16.74754912023321,\n",
       " 'week52highDate': '2021-07-12',\n",
       " 'week52lowDate': '2020-07-15',\n",
       " 'putCallRatio': 0.4415296026856495,\n",
       " 'companyName': 'Apple Inc',\n",
       " 'marketcap': 2607282928921,\n",
       " 'week52high': 155,\n",
       " 'week52low': 95.59,\n",
       " 'week52highSplitAdjustOnly': 155,\n",
       " 'week52highDateSplitAdjustOnly': '2021-07-02',\n",
       " 'week52lowSplitAdjustOnly': 94.01,\n",
       " 'week52lowDateSplitAdjustOnly': '2020-07-16',\n",
       " 'week52change': 0.5999025697090933,\n",
       " 'sharesOutstanding': 17466151105,\n",
       " 'float': None,\n",
       " 'avg10Volume': 87368198,\n",
       " 'avg30Volume': 89682194,\n",
       " 'day200MovingAvg': 134.96,\n",
       " 'day50MovingAvg': 139.4,\n",
       " 'employees': 151226,\n",
       " 'ttmEPS': 4.6,\n",
       " 'ttmDividendRate': 0.8472926573655324,\n",
       " 'dividendYield': 0.005652154120689627,\n",
       " 'nextDividendDate': None,\n",
       " 'exDividendDate': '',\n",
       " 'nextEarningsDate': '',\n",
       " 'peRatio': 33.23480506820403,\n",
       " 'maxChangePercent': 58.65740717304408,\n",
       " 'year5ChangePercent': 5.871684606012066,\n",
       " 'year2ChangePercent': 1.9604418043711778,\n",
       " 'year1ChangePercent': 0.6272565574812704,\n",
       " 'ytdChangePercent': 0.13042146235240962,\n",
       " 'month6ChangePercent': 0.04455774750427077,\n",
       " 'month3ChangePercent': 0.10847406331598342,\n",
       " 'month1ChangePercent': 0.12351920416889182,\n",
       " 'day30ChangePercent': 0.12219039475742344,\n",
       " 'day5ChangePercent': 0.047477294776450775}"
      ]
     },
     "metadata": {},
     "execution_count": 37
    }
   ],
   "metadata": {}
  },
  {
   "cell_type": "code",
   "execution_count": 38,
   "source": [
    "c.advancedStatsDF(symbol)"
   ],
   "outputs": [
    {
     "output_type": "execute_result",
     "data": {
      "text/plain": [
       "       beta    totalCash   currentDebt       revenue   grossProfit  \\\n",
       "0  1.577753  71202145173  107260641507  336183409804  135614161157   \n",
       "\n",
       "   totalRevenue        EBITDA  revenuePerShare  revenuePerEmployee  \\\n",
       "0  328505858093  100473457065             19.8          2300259.52   \n",
       "\n",
       "   debtToEquity  ...  maxChangePercent  year5ChangePercent  \\\n",
       "0      4.948437  ...         58.657407            5.871685   \n",
       "\n",
       "   year2ChangePercent  year1ChangePercent  ytdChangePercent  \\\n",
       "0            1.960442            0.627257          0.130421   \n",
       "\n",
       "   month6ChangePercent  month3ChangePercent  month1ChangePercent  \\\n",
       "0             0.044558             0.108474             0.123519   \n",
       "\n",
       "   day30ChangePercent day5ChangePercent  \n",
       "0             0.12219          0.047477  \n",
       "\n",
       "[1 rows x 55 columns]"
      ],
      "text/html": [
       "<div>\n",
       "<style scoped>\n",
       "    .dataframe tbody tr th:only-of-type {\n",
       "        vertical-align: middle;\n",
       "    }\n",
       "\n",
       "    .dataframe tbody tr th {\n",
       "        vertical-align: top;\n",
       "    }\n",
       "\n",
       "    .dataframe thead th {\n",
       "        text-align: right;\n",
       "    }\n",
       "</style>\n",
       "<table border=\"1\" class=\"dataframe\">\n",
       "  <thead>\n",
       "    <tr style=\"text-align: right;\">\n",
       "      <th></th>\n",
       "      <th>beta</th>\n",
       "      <th>totalCash</th>\n",
       "      <th>currentDebt</th>\n",
       "      <th>revenue</th>\n",
       "      <th>grossProfit</th>\n",
       "      <th>totalRevenue</th>\n",
       "      <th>EBITDA</th>\n",
       "      <th>revenuePerShare</th>\n",
       "      <th>revenuePerEmployee</th>\n",
       "      <th>debtToEquity</th>\n",
       "      <th>...</th>\n",
       "      <th>maxChangePercent</th>\n",
       "      <th>year5ChangePercent</th>\n",
       "      <th>year2ChangePercent</th>\n",
       "      <th>year1ChangePercent</th>\n",
       "      <th>ytdChangePercent</th>\n",
       "      <th>month6ChangePercent</th>\n",
       "      <th>month3ChangePercent</th>\n",
       "      <th>month1ChangePercent</th>\n",
       "      <th>day30ChangePercent</th>\n",
       "      <th>day5ChangePercent</th>\n",
       "    </tr>\n",
       "  </thead>\n",
       "  <tbody>\n",
       "    <tr>\n",
       "      <th>0</th>\n",
       "      <td>1.577753</td>\n",
       "      <td>71202145173</td>\n",
       "      <td>107260641507</td>\n",
       "      <td>336183409804</td>\n",
       "      <td>135614161157</td>\n",
       "      <td>328505858093</td>\n",
       "      <td>100473457065</td>\n",
       "      <td>19.8</td>\n",
       "      <td>2300259.52</td>\n",
       "      <td>4.948437</td>\n",
       "      <td>...</td>\n",
       "      <td>58.657407</td>\n",
       "      <td>5.871685</td>\n",
       "      <td>1.960442</td>\n",
       "      <td>0.627257</td>\n",
       "      <td>0.130421</td>\n",
       "      <td>0.044558</td>\n",
       "      <td>0.108474</td>\n",
       "      <td>0.123519</td>\n",
       "      <td>0.12219</td>\n",
       "      <td>0.047477</td>\n",
       "    </tr>\n",
       "  </tbody>\n",
       "</table>\n",
       "<p>1 rows × 55 columns</p>\n",
       "</div>"
      ]
     },
     "metadata": {},
     "execution_count": 38
    }
   ],
   "metadata": {}
  },
  {
   "cell_type": "markdown",
   "source": [
    "## Balance Sheet"
   ],
   "metadata": {}
  },
  {
   "cell_type": "code",
   "execution_count": 39,
   "source": [
    "c.balanceSheet(symbol)"
   ],
   "outputs": [
    {
     "output_type": "execute_result",
     "data": {
      "text/plain": [
       "[{'accountsPayable': 41411529310,\n",
       "  'capitalSurplus': None,\n",
       "  'commonStock': 17308219687,\n",
       "  'currency': 'USD',\n",
       "  'currentAssets': 121809012237,\n",
       "  'currentCash': 70117639469,\n",
       "  'currentLongTermDebt': 13460011774,\n",
       "  'filingType': '10-Q',\n",
       "  'fiscalDate': '2021-03-22',\n",
       "  'fiscalQuarter': 2,\n",
       "  'fiscalYear': 2055,\n",
       "  'goodwill': 0,\n",
       "  'intangibleAssets': 0,\n",
       "  'inventory': 5446615852,\n",
       "  'longTermDebt': 109043407115,\n",
       "  'longTermInvestments': 223720886030,\n",
       "  'minorityInterest': 0,\n",
       "  'netTangibleAssets': 69870477069,\n",
       "  'otherAssets': 43892682722,\n",
       "  'otherCurrentAssets': 13790394970,\n",
       "  'otherCurrentLiabilities': 54048705951,\n",
       "  'otherLiabilities': 54527903415,\n",
       "  'propertyPlantEquipment': 39653807996,\n",
       "  'receivables': 34629181219,\n",
       "  'reportDate': '2021-04-20',\n",
       "  'retainedEarnings': 15469406357,\n",
       "  'shareholderEquity': 69906683112,\n",
       "  'shortTermInvestments': 13590453748,\n",
       "  'symbol': 'AAPL',\n",
       "  'totalAssets': 348400163995,\n",
       "  'totalCurrentLiabilities': 106687667333,\n",
       "  'totalLiabilities': 270235985845,\n",
       "  'treasuryStock': 0,\n",
       "  'id': 'AEC_HTNLEEBAS',\n",
       "  'key': 'ALPA',\n",
       "  'subkey': 'quarterly',\n",
       "  'date': 1616803200000,\n",
       "  'updated': 1696083904983}]"
      ]
     },
     "metadata": {},
     "execution_count": 39
    }
   ],
   "metadata": {}
  },
  {
   "cell_type": "code",
   "execution_count": 40,
   "source": [
    "c.balanceSheetDF(symbol)"
   ],
   "outputs": [
    {
     "output_type": "execute_result",
     "data": {
      "text/plain": [
       "            accountsPayable capitalSurplus  commonStock currency  \\\n",
       "reportDate                                                         \n",
       "2021-04-20      41411529310           None  17308219687      USD   \n",
       "\n",
       "            currentAssets  currentCash  currentLongTermDebt filingType  \\\n",
       "reportDate                                                               \n",
       "2021-04-20   121809012237  70117639469          13460011774       10-Q   \n",
       "\n",
       "            fiscalDate  fiscalQuarter  ...  symbol   totalAssets  \\\n",
       "reportDate                             ...                         \n",
       "2021-04-20  2021-03-22              2  ...    AAPL  348400163995   \n",
       "\n",
       "            totalCurrentLiabilities  totalLiabilities  treasuryStock  \\\n",
       "reportDate                                                             \n",
       "2021-04-20             106687667333      270235985845              0   \n",
       "\n",
       "                       id   key     subkey                       date  \\\n",
       "reportDate                                                              \n",
       "2021-04-20  AEC_HTNLEEBAS  ALPA  quarterly 1970-01-01 00:26:56.803200   \n",
       "\n",
       "                           updated  \n",
       "reportDate                          \n",
       "2021-04-20 2023-09-30 14:25:04.983  \n",
       "\n",
       "[1 rows x 37 columns]"
      ],
      "text/html": [
       "<div>\n",
       "<style scoped>\n",
       "    .dataframe tbody tr th:only-of-type {\n",
       "        vertical-align: middle;\n",
       "    }\n",
       "\n",
       "    .dataframe tbody tr th {\n",
       "        vertical-align: top;\n",
       "    }\n",
       "\n",
       "    .dataframe thead th {\n",
       "        text-align: right;\n",
       "    }\n",
       "</style>\n",
       "<table border=\"1\" class=\"dataframe\">\n",
       "  <thead>\n",
       "    <tr style=\"text-align: right;\">\n",
       "      <th></th>\n",
       "      <th>accountsPayable</th>\n",
       "      <th>capitalSurplus</th>\n",
       "      <th>commonStock</th>\n",
       "      <th>currency</th>\n",
       "      <th>currentAssets</th>\n",
       "      <th>currentCash</th>\n",
       "      <th>currentLongTermDebt</th>\n",
       "      <th>filingType</th>\n",
       "      <th>fiscalDate</th>\n",
       "      <th>fiscalQuarter</th>\n",
       "      <th>...</th>\n",
       "      <th>symbol</th>\n",
       "      <th>totalAssets</th>\n",
       "      <th>totalCurrentLiabilities</th>\n",
       "      <th>totalLiabilities</th>\n",
       "      <th>treasuryStock</th>\n",
       "      <th>id</th>\n",
       "      <th>key</th>\n",
       "      <th>subkey</th>\n",
       "      <th>date</th>\n",
       "      <th>updated</th>\n",
       "    </tr>\n",
       "    <tr>\n",
       "      <th>reportDate</th>\n",
       "      <th></th>\n",
       "      <th></th>\n",
       "      <th></th>\n",
       "      <th></th>\n",
       "      <th></th>\n",
       "      <th></th>\n",
       "      <th></th>\n",
       "      <th></th>\n",
       "      <th></th>\n",
       "      <th></th>\n",
       "      <th></th>\n",
       "      <th></th>\n",
       "      <th></th>\n",
       "      <th></th>\n",
       "      <th></th>\n",
       "      <th></th>\n",
       "      <th></th>\n",
       "      <th></th>\n",
       "      <th></th>\n",
       "      <th></th>\n",
       "      <th></th>\n",
       "    </tr>\n",
       "  </thead>\n",
       "  <tbody>\n",
       "    <tr>\n",
       "      <th>2021-04-20</th>\n",
       "      <td>41411529310</td>\n",
       "      <td>None</td>\n",
       "      <td>17308219687</td>\n",
       "      <td>USD</td>\n",
       "      <td>121809012237</td>\n",
       "      <td>70117639469</td>\n",
       "      <td>13460011774</td>\n",
       "      <td>10-Q</td>\n",
       "      <td>2021-03-22</td>\n",
       "      <td>2</td>\n",
       "      <td>...</td>\n",
       "      <td>AAPL</td>\n",
       "      <td>348400163995</td>\n",
       "      <td>106687667333</td>\n",
       "      <td>270235985845</td>\n",
       "      <td>0</td>\n",
       "      <td>AEC_HTNLEEBAS</td>\n",
       "      <td>ALPA</td>\n",
       "      <td>quarterly</td>\n",
       "      <td>1970-01-01 00:26:56.803200</td>\n",
       "      <td>2023-09-30 14:25:04.983</td>\n",
       "    </tr>\n",
       "  </tbody>\n",
       "</table>\n",
       "<p>1 rows × 37 columns</p>\n",
       "</div>"
      ]
     },
     "metadata": {},
     "execution_count": 40
    }
   ],
   "metadata": {}
  },
  {
   "cell_type": "markdown",
   "source": [
    "## Book"
   ],
   "metadata": {}
  },
  {
   "cell_type": "code",
   "execution_count": 41,
   "source": [
    "c.book(symbol)"
   ],
   "outputs": [
    {
     "output_type": "execute_result",
     "data": {
      "text/plain": [
       "{'quote': {'symbol': 'AAPL',\n",
       "  'companyName': 'Apple Inc',\n",
       "  'primaryExchange': ')LSEEGANBMNLGTS TSKOAD/ECALQ  AR(',\n",
       "  'calculationPrice': 'close',\n",
       "  'open': 152.28,\n",
       "  'openTime': 1678594649399,\n",
       "  'openSource': 'aolciffi',\n",
       "  'close': 154.08,\n",
       "  'closeTime': 1674797449038,\n",
       "  'closeSource': 'ifloiacf',\n",
       "  'high': 154.08,\n",
       "  'highTime': 1681154869944,\n",
       "  'highSource': 'uc et ipeadrn5 l1deiyem',\n",
       "  'low': 146.28,\n",
       "  'lowTime': 1633823602606,\n",
       "  'lowSource': 'aupiddyn tmice 5l eee1r',\n",
       "  'latestPrice': 151.6,\n",
       "  'latestSource': 'Close',\n",
       "  'latestTime': 'July 27, 2021',\n",
       "  'latestUpdate': 1666114925255,\n",
       "  'latestVolume': 106681876,\n",
       "  'iexRealtimePrice': 146.6,\n",
       "  'iexRealtimeSize': 590,\n",
       "  'iexLastUpdated': 1657506541542,\n",
       "  'delayedPrice': 147.1,\n",
       "  'delayedPriceTime': 1630233035234,\n",
       "  'oddLotDelayedPrice': 153.03,\n",
       "  'oddLotDelayedPriceTime': 1650939015276,\n",
       "  'extendedPrice': 148.4,\n",
       "  'extendedChange': -3.22,\n",
       "  'extendedChangePercent': -0.02114,\n",
       "  'extendedPriceTime': 1637609162878,\n",
       "  'previousClose': 150.56,\n",
       "  'previousVolume': 75796506,\n",
       "  'change': -2.24,\n",
       "  'changePercent': -0.0151,\n",
       "  'volume': 105706985,\n",
       "  'iexMarketPercent': 0.0205064032518225,\n",
       "  'iexVolume': 2081288,\n",
       "  'avgTotalVolume': 91482786,\n",
       "  'iexBidPrice': 0,\n",
       "  'iexBidSize': 0,\n",
       "  'iexAskPrice': 0,\n",
       "  'iexAskSize': 0,\n",
       "  'iexOpen': 145.6,\n",
       "  'iexOpenTime': 1675836829329,\n",
       "  'iexClose': 147.42,\n",
       "  'iexCloseTime': 1689183367845,\n",
       "  'marketCap': 2528562356581,\n",
       "  'peRatio': 33.2,\n",
       "  'week52High': 151,\n",
       "  'week52Low': 95,\n",
       "  'ytdChange': 0.11362664852902593,\n",
       "  'lastTradeTime': 1635025819826,\n",
       "  'currency': 'USD',\n",
       "  'isUSMarketOpen': False},\n",
       " 'bids': [],\n",
       " 'asks': [],\n",
       " 'trades': [{'price': 150.3,\n",
       "   'size': 590,\n",
       "   'tradeId': 2788530189,\n",
       "   'isISO': False,\n",
       "   'isOddLot': False,\n",
       "   'isOutsideRegularHours': True,\n",
       "   'isSinglePriceCross': False,\n",
       "   'isTradeThroughExempt': False,\n",
       "   'timestamp': 1696643484431},\n",
       "  {'price': 151,\n",
       "   'size': 141,\n",
       "   'tradeId': 2787623221,\n",
       "   'isISO': False,\n",
       "   'isOddLot': False,\n",
       "   'isOutsideRegularHours': True,\n",
       "   'isSinglePriceCross': False,\n",
       "   'isTradeThroughExempt': False,\n",
       "   'timestamp': 1642306193868},\n",
       "  {'price': 148.7,\n",
       "   'size': 364,\n",
       "   'tradeId': 2853207090,\n",
       "   'isISO': True,\n",
       "   'isOddLot': False,\n",
       "   'isOutsideRegularHours': True,\n",
       "   'isSinglePriceCross': False,\n",
       "   'isTradeThroughExempt': False,\n",
       "   'timestamp': 1637351836853},\n",
       "  {'price': 146.82,\n",
       "   'size': 103,\n",
       "   'tradeId': 2765503799,\n",
       "   'isISO': False,\n",
       "   'isOddLot': False,\n",
       "   'isOutsideRegularHours': True,\n",
       "   'isSinglePriceCross': False,\n",
       "   'isTradeThroughExempt': False,\n",
       "   'timestamp': 1634727703517},\n",
       "  {'price': 146.83,\n",
       "   'size': 20,\n",
       "   'tradeId': 2813589356,\n",
       "   'isISO': False,\n",
       "   'isOddLot': True,\n",
       "   'isOutsideRegularHours': True,\n",
       "   'isSinglePriceCross': False,\n",
       "   'isTradeThroughExempt': False,\n",
       "   'timestamp': 1634841305535},\n",
       "  {'price': 147.33,\n",
       "   'size': 83,\n",
       "   'tradeId': 2818707199,\n",
       "   'isISO': False,\n",
       "   'isOddLot': True,\n",
       "   'isOutsideRegularHours': True,\n",
       "   'isSinglePriceCross': False,\n",
       "   'isTradeThroughExempt': False,\n",
       "   'timestamp': 1675212612882},\n",
       "  {'price': 152.25,\n",
       "   'size': 16,\n",
       "   'tradeId': 2755674029,\n",
       "   'isISO': False,\n",
       "   'isOddLot': True,\n",
       "   'isOutsideRegularHours': True,\n",
       "   'isSinglePriceCross': False,\n",
       "   'isTradeThroughExempt': False,\n",
       "   'timestamp': 1684584158802},\n",
       "  {'price': 149.79,\n",
       "   'size': 5,\n",
       "   'tradeId': 2768542910,\n",
       "   'isISO': False,\n",
       "   'isOddLot': True,\n",
       "   'isOutsideRegularHours': True,\n",
       "   'isSinglePriceCross': False,\n",
       "   'isTradeThroughExempt': False,\n",
       "   'timestamp': 1708045307646},\n",
       "  {'price': 151.52,\n",
       "   'size': 103,\n",
       "   'tradeId': 2884418286,\n",
       "   'isISO': False,\n",
       "   'isOddLot': False,\n",
       "   'isOutsideRegularHours': True,\n",
       "   'isSinglePriceCross': False,\n",
       "   'isTradeThroughExempt': False,\n",
       "   'timestamp': 1647548566731},\n",
       "  {'price': 151.81,\n",
       "   'size': 101,\n",
       "   'tradeId': 2847658295,\n",
       "   'isISO': False,\n",
       "   'isOddLot': False,\n",
       "   'isOutsideRegularHours': True,\n",
       "   'isSinglePriceCross': False,\n",
       "   'isTradeThroughExempt': False,\n",
       "   'timestamp': 1636959012304},\n",
       "  {'price': 150.48,\n",
       "   'size': 10,\n",
       "   'tradeId': 2784654798,\n",
       "   'isISO': False,\n",
       "   'isOddLot': True,\n",
       "   'isOutsideRegularHours': True,\n",
       "   'isSinglePriceCross': False,\n",
       "   'isTradeThroughExempt': False,\n",
       "   'timestamp': 1638288816465},\n",
       "  {'price': 148.89,\n",
       "   'size': 104,\n",
       "   'tradeId': 2822190063,\n",
       "   'isISO': False,\n",
       "   'isOddLot': False,\n",
       "   'isOutsideRegularHours': True,\n",
       "   'isSinglePriceCross': False,\n",
       "   'isTradeThroughExempt': False,\n",
       "   'timestamp': 1700958973864},\n",
       "  {'price': 145.5,\n",
       "   'size': 100,\n",
       "   'tradeId': 2790055001,\n",
       "   'isISO': False,\n",
       "   'isOddLot': False,\n",
       "   'isOutsideRegularHours': True,\n",
       "   'isSinglePriceCross': False,\n",
       "   'isTradeThroughExempt': False,\n",
       "   'timestamp': 1673035210226},\n",
       "  {'price': 150.56,\n",
       "   'size': 105,\n",
       "   'tradeId': 2786439827,\n",
       "   'isISO': False,\n",
       "   'isOddLot': False,\n",
       "   'isOutsideRegularHours': True,\n",
       "   'isSinglePriceCross': False,\n",
       "   'isTradeThroughExempt': False,\n",
       "   'timestamp': 1663697897307},\n",
       "  {'price': 145.81,\n",
       "   'size': 103,\n",
       "   'tradeId': 2876472644,\n",
       "   'isISO': False,\n",
       "   'isOddLot': False,\n",
       "   'isOutsideRegularHours': True,\n",
       "   'isSinglePriceCross': False,\n",
       "   'isTradeThroughExempt': False,\n",
       "   'timestamp': 1642885076950},\n",
       "  {'price': 151.19,\n",
       "   'size': 10,\n",
       "   'tradeId': 2750285389,\n",
       "   'isISO': False,\n",
       "   'isOddLot': True,\n",
       "   'isOutsideRegularHours': True,\n",
       "   'isSinglePriceCross': False,\n",
       "   'isTradeThroughExempt': False,\n",
       "   'timestamp': 1681002921967},\n",
       "  {'price': 149.57,\n",
       "   'size': 10,\n",
       "   'tradeId': 2848933634,\n",
       "   'isISO': False,\n",
       "   'isOddLot': True,\n",
       "   'isOutsideRegularHours': True,\n",
       "   'isSinglePriceCross': False,\n",
       "   'isTradeThroughExempt': False,\n",
       "   'timestamp': 1706208259395},\n",
       "  {'price': 145.52,\n",
       "   'size': 10,\n",
       "   'tradeId': 2868496761,\n",
       "   'isISO': True,\n",
       "   'isOddLot': True,\n",
       "   'isOutsideRegularHours': True,\n",
       "   'isSinglePriceCross': False,\n",
       "   'isTradeThroughExempt': False,\n",
       "   'timestamp': 1637117553740},\n",
       "  {'price': 150.45,\n",
       "   'size': 10,\n",
       "   'tradeId': 2837279140,\n",
       "   'isISO': True,\n",
       "   'isOddLot': True,\n",
       "   'isOutsideRegularHours': True,\n",
       "   'isSinglePriceCross': False,\n",
       "   'isTradeThroughExempt': False,\n",
       "   'timestamp': 1658375107974},\n",
       "  {'price': 145.86,\n",
       "   'size': 57,\n",
       "   'tradeId': 2839208888,\n",
       "   'isISO': False,\n",
       "   'isOddLot': True,\n",
       "   'isOutsideRegularHours': True,\n",
       "   'isSinglePriceCross': False,\n",
       "   'isTradeThroughExempt': False,\n",
       "   'timestamp': 1681414520077}],\n",
       " 'systemEvent': {'systemEvent': 'C', 'timestamp': 1671951734906}}"
      ]
     },
     "metadata": {},
     "execution_count": 41
    }
   ],
   "metadata": {}
  },
  {
   "cell_type": "code",
   "execution_count": 42,
   "source": [
    "c.bookDF(symbol).head()"
   ],
   "outputs": [
    {
     "output_type": "execute_result",
     "data": {
      "text/plain": [
       "   avgTotalVolume calculationPrice  change  changePercent   close closeSource  \\\n",
       "0      88364956.0            close   -2.24         -0.015  146.96    oilfcifa   \n",
       "0             NaN              NaN     NaN            NaN     NaN         NaN   \n",
       "1             NaN              NaN     NaN            NaN     NaN         NaN   \n",
       "2             NaN              NaN     NaN            NaN     NaN         NaN   \n",
       "3             NaN              NaN     NaN            NaN     NaN         NaN   \n",
       "\n",
       "                closeTime companyName currency  delayedPrice  ...  \\\n",
       "0 2022-02-25 12:04:48.948   Apple Inc      USD        147.41  ...   \n",
       "0                     NaT         NaN      NaN           NaN  ...   \n",
       "1                     NaT         NaN      NaN           NaN  ...   \n",
       "2                     NaT         NaN      NaN           NaN  ...   \n",
       "3                     NaT         NaN      NaN           NaN  ...   \n",
       "\n",
       "                     primaryExchange   size  symbol  \\\n",
       "0  LE( SASGKTLAQLANEGMN ATRS/ D)EOBC    NaN    AAPL   \n",
       "0                                NaN  564.0    AAPL   \n",
       "1                                NaN  138.0    AAPL   \n",
       "2                                NaN  378.0    AAPL   \n",
       "3                                NaN  104.0    AAPL   \n",
       "\n",
       "                      timestamp       tradeId   type       volume week52High  \\\n",
       "0                           NaT           NaN  quote  107857230.0      153.0   \n",
       "0 2022-08-22 01:28:42.321999872  2.858198e+09    NaN          NaN        NaN   \n",
       "1 2022-09-12 10:34:00.025999872  2.879118e+09    NaN          NaN        NaN   \n",
       "2 2021-09-20 13:54:41.870000128  2.754138e+09    NaN          NaN        NaN   \n",
       "3 2021-08-31 22:31:15.555000064  2.853088e+09    NaN          NaN        NaN   \n",
       "\n",
       "   week52Low  ytdChange  \n",
       "0      94.78   0.116162  \n",
       "0        NaN        NaN  \n",
       "1        NaN        NaN  \n",
       "2        NaN        NaN  \n",
       "3        NaN        NaN  \n",
       "\n",
       "[5 rows x 66 columns]"
      ],
      "text/html": [
       "<div>\n",
       "<style scoped>\n",
       "    .dataframe tbody tr th:only-of-type {\n",
       "        vertical-align: middle;\n",
       "    }\n",
       "\n",
       "    .dataframe tbody tr th {\n",
       "        vertical-align: top;\n",
       "    }\n",
       "\n",
       "    .dataframe thead th {\n",
       "        text-align: right;\n",
       "    }\n",
       "</style>\n",
       "<table border=\"1\" class=\"dataframe\">\n",
       "  <thead>\n",
       "    <tr style=\"text-align: right;\">\n",
       "      <th></th>\n",
       "      <th>avgTotalVolume</th>\n",
       "      <th>calculationPrice</th>\n",
       "      <th>change</th>\n",
       "      <th>changePercent</th>\n",
       "      <th>close</th>\n",
       "      <th>closeSource</th>\n",
       "      <th>closeTime</th>\n",
       "      <th>companyName</th>\n",
       "      <th>currency</th>\n",
       "      <th>delayedPrice</th>\n",
       "      <th>...</th>\n",
       "      <th>primaryExchange</th>\n",
       "      <th>size</th>\n",
       "      <th>symbol</th>\n",
       "      <th>timestamp</th>\n",
       "      <th>tradeId</th>\n",
       "      <th>type</th>\n",
       "      <th>volume</th>\n",
       "      <th>week52High</th>\n",
       "      <th>week52Low</th>\n",
       "      <th>ytdChange</th>\n",
       "    </tr>\n",
       "  </thead>\n",
       "  <tbody>\n",
       "    <tr>\n",
       "      <th>0</th>\n",
       "      <td>88364956.0</td>\n",
       "      <td>close</td>\n",
       "      <td>-2.24</td>\n",
       "      <td>-0.015</td>\n",
       "      <td>146.96</td>\n",
       "      <td>oilfcifa</td>\n",
       "      <td>2022-02-25 12:04:48.948</td>\n",
       "      <td>Apple Inc</td>\n",
       "      <td>USD</td>\n",
       "      <td>147.41</td>\n",
       "      <td>...</td>\n",
       "      <td>LE( SASGKTLAQLANEGMN ATRS/ D)EOBC</td>\n",
       "      <td>NaN</td>\n",
       "      <td>AAPL</td>\n",
       "      <td>NaT</td>\n",
       "      <td>NaN</td>\n",
       "      <td>quote</td>\n",
       "      <td>107857230.0</td>\n",
       "      <td>153.0</td>\n",
       "      <td>94.78</td>\n",
       "      <td>0.116162</td>\n",
       "    </tr>\n",
       "    <tr>\n",
       "      <th>0</th>\n",
       "      <td>NaN</td>\n",
       "      <td>NaN</td>\n",
       "      <td>NaN</td>\n",
       "      <td>NaN</td>\n",
       "      <td>NaN</td>\n",
       "      <td>NaN</td>\n",
       "      <td>NaT</td>\n",
       "      <td>NaN</td>\n",
       "      <td>NaN</td>\n",
       "      <td>NaN</td>\n",
       "      <td>...</td>\n",
       "      <td>NaN</td>\n",
       "      <td>564.0</td>\n",
       "      <td>AAPL</td>\n",
       "      <td>2022-08-22 01:28:42.321999872</td>\n",
       "      <td>2.858198e+09</td>\n",
       "      <td>NaN</td>\n",
       "      <td>NaN</td>\n",
       "      <td>NaN</td>\n",
       "      <td>NaN</td>\n",
       "      <td>NaN</td>\n",
       "    </tr>\n",
       "    <tr>\n",
       "      <th>1</th>\n",
       "      <td>NaN</td>\n",
       "      <td>NaN</td>\n",
       "      <td>NaN</td>\n",
       "      <td>NaN</td>\n",
       "      <td>NaN</td>\n",
       "      <td>NaN</td>\n",
       "      <td>NaT</td>\n",
       "      <td>NaN</td>\n",
       "      <td>NaN</td>\n",
       "      <td>NaN</td>\n",
       "      <td>...</td>\n",
       "      <td>NaN</td>\n",
       "      <td>138.0</td>\n",
       "      <td>AAPL</td>\n",
       "      <td>2022-09-12 10:34:00.025999872</td>\n",
       "      <td>2.879118e+09</td>\n",
       "      <td>NaN</td>\n",
       "      <td>NaN</td>\n",
       "      <td>NaN</td>\n",
       "      <td>NaN</td>\n",
       "      <td>NaN</td>\n",
       "    </tr>\n",
       "    <tr>\n",
       "      <th>2</th>\n",
       "      <td>NaN</td>\n",
       "      <td>NaN</td>\n",
       "      <td>NaN</td>\n",
       "      <td>NaN</td>\n",
       "      <td>NaN</td>\n",
       "      <td>NaN</td>\n",
       "      <td>NaT</td>\n",
       "      <td>NaN</td>\n",
       "      <td>NaN</td>\n",
       "      <td>NaN</td>\n",
       "      <td>...</td>\n",
       "      <td>NaN</td>\n",
       "      <td>378.0</td>\n",
       "      <td>AAPL</td>\n",
       "      <td>2021-09-20 13:54:41.870000128</td>\n",
       "      <td>2.754138e+09</td>\n",
       "      <td>NaN</td>\n",
       "      <td>NaN</td>\n",
       "      <td>NaN</td>\n",
       "      <td>NaN</td>\n",
       "      <td>NaN</td>\n",
       "    </tr>\n",
       "    <tr>\n",
       "      <th>3</th>\n",
       "      <td>NaN</td>\n",
       "      <td>NaN</td>\n",
       "      <td>NaN</td>\n",
       "      <td>NaN</td>\n",
       "      <td>NaN</td>\n",
       "      <td>NaN</td>\n",
       "      <td>NaT</td>\n",
       "      <td>NaN</td>\n",
       "      <td>NaN</td>\n",
       "      <td>NaN</td>\n",
       "      <td>...</td>\n",
       "      <td>NaN</td>\n",
       "      <td>104.0</td>\n",
       "      <td>AAPL</td>\n",
       "      <td>2021-08-31 22:31:15.555000064</td>\n",
       "      <td>2.853088e+09</td>\n",
       "      <td>NaN</td>\n",
       "      <td>NaN</td>\n",
       "      <td>NaN</td>\n",
       "      <td>NaN</td>\n",
       "      <td>NaN</td>\n",
       "    </tr>\n",
       "  </tbody>\n",
       "</table>\n",
       "<p>5 rows × 66 columns</p>\n",
       "</div>"
      ]
     },
     "metadata": {},
     "execution_count": 42
    }
   ],
   "metadata": {}
  },
  {
   "cell_type": "markdown",
   "source": [
    "## Cashflow"
   ],
   "metadata": {}
  },
  {
   "cell_type": "code",
   "execution_count": 43,
   "source": [
    "c.cashFlow(symbol)"
   ],
   "outputs": [
    {
     "output_type": "execute_result",
     "data": {
      "text/plain": [
       "[{'capitalExpenditures': -5961446092,\n",
       "  'cashChange': 71838117317,\n",
       "  'cashFlow': 24728741403,\n",
       "  'cashFlowFinancing': -11404728302,\n",
       "  'changesInInventories': 5401656242,\n",
       "  'changesInReceivables': 33113358145,\n",
       "  'currency': 'USD',\n",
       "  'depreciation': 5473559461,\n",
       "  'dividendsPaid': None,\n",
       "  'exchangeRateEffect': None,\n",
       "  'filingType': '10-Q',\n",
       "  'fiscalDate': '2021-03-18',\n",
       "  'fiscalQuarter': 2,\n",
       "  'fiscalYear': 2103,\n",
       "  'investingActivityOther': None,\n",
       "  'investments': None,\n",
       "  'netBorrowings': 38605477436,\n",
       "  'netIncome': 23992686257,\n",
       "  'otherFinancingCashFlows': None,\n",
       "  'reportDate': '2021-04-24',\n",
       "  'symbol': 'AAPL',\n",
       "  'totalInvestingCashFlows': 27704686483,\n",
       "  'id': 'WSHLFO_CA',\n",
       "  'key': 'AALP',\n",
       "  'subkey': 'quarterly',\n",
       "  'date': 1616803200000,\n",
       "  'updated': 1660374128581}]"
      ]
     },
     "metadata": {},
     "execution_count": 43
    }
   ],
   "metadata": {}
  },
  {
   "cell_type": "code",
   "execution_count": 44,
   "source": [
    "c.cashFlowDF(symbol)"
   ],
   "outputs": [
    {
     "output_type": "execute_result",
     "data": {
      "text/plain": [
       "            capitalExpenditures   cashChange     cashFlow  cashFlowFinancing  \\\n",
       "reportDate                                                                     \n",
       "2021-04-24          -5961446092  71838117317  24728741403       -11404728302   \n",
       "\n",
       "            changesInInventories  changesInReceivables currency  depreciation  \\\n",
       "reportDate                                                                      \n",
       "2021-04-24            5401656242           33113358145      USD    5473559461   \n",
       "\n",
       "            dividendsPaid  exchangeRateEffect  ... netBorrowings    netIncome  \\\n",
       "reportDate                                     ...                              \n",
       "2021-04-24            NaN                 NaN  ...   38605477436  23992686257   \n",
       "\n",
       "            otherFinancingCashFlows  symbol  totalInvestingCashFlows  \\\n",
       "reportDate                                                             \n",
       "2021-04-24                      NaN    AAPL              27704686483   \n",
       "\n",
       "                   id   key     subkey                       date  \\\n",
       "reportDate                                                          \n",
       "2021-04-24  WSHLFO_CA  AALP  quarterly 1970-01-01 00:26:56.803200   \n",
       "\n",
       "                           updated  \n",
       "reportDate                          \n",
       "2021-04-24 2022-08-13 07:02:08.581  \n",
       "\n",
       "[1 rows x 26 columns]"
      ],
      "text/html": [
       "<div>\n",
       "<style scoped>\n",
       "    .dataframe tbody tr th:only-of-type {\n",
       "        vertical-align: middle;\n",
       "    }\n",
       "\n",
       "    .dataframe tbody tr th {\n",
       "        vertical-align: top;\n",
       "    }\n",
       "\n",
       "    .dataframe thead th {\n",
       "        text-align: right;\n",
       "    }\n",
       "</style>\n",
       "<table border=\"1\" class=\"dataframe\">\n",
       "  <thead>\n",
       "    <tr style=\"text-align: right;\">\n",
       "      <th></th>\n",
       "      <th>capitalExpenditures</th>\n",
       "      <th>cashChange</th>\n",
       "      <th>cashFlow</th>\n",
       "      <th>cashFlowFinancing</th>\n",
       "      <th>changesInInventories</th>\n",
       "      <th>changesInReceivables</th>\n",
       "      <th>currency</th>\n",
       "      <th>depreciation</th>\n",
       "      <th>dividendsPaid</th>\n",
       "      <th>exchangeRateEffect</th>\n",
       "      <th>...</th>\n",
       "      <th>netBorrowings</th>\n",
       "      <th>netIncome</th>\n",
       "      <th>otherFinancingCashFlows</th>\n",
       "      <th>symbol</th>\n",
       "      <th>totalInvestingCashFlows</th>\n",
       "      <th>id</th>\n",
       "      <th>key</th>\n",
       "      <th>subkey</th>\n",
       "      <th>date</th>\n",
       "      <th>updated</th>\n",
       "    </tr>\n",
       "    <tr>\n",
       "      <th>reportDate</th>\n",
       "      <th></th>\n",
       "      <th></th>\n",
       "      <th></th>\n",
       "      <th></th>\n",
       "      <th></th>\n",
       "      <th></th>\n",
       "      <th></th>\n",
       "      <th></th>\n",
       "      <th></th>\n",
       "      <th></th>\n",
       "      <th></th>\n",
       "      <th></th>\n",
       "      <th></th>\n",
       "      <th></th>\n",
       "      <th></th>\n",
       "      <th></th>\n",
       "      <th></th>\n",
       "      <th></th>\n",
       "      <th></th>\n",
       "      <th></th>\n",
       "      <th></th>\n",
       "    </tr>\n",
       "  </thead>\n",
       "  <tbody>\n",
       "    <tr>\n",
       "      <th>2021-04-24</th>\n",
       "      <td>-5961446092</td>\n",
       "      <td>71838117317</td>\n",
       "      <td>24728741403</td>\n",
       "      <td>-11404728302</td>\n",
       "      <td>5401656242</td>\n",
       "      <td>33113358145</td>\n",
       "      <td>USD</td>\n",
       "      <td>5473559461</td>\n",
       "      <td>NaN</td>\n",
       "      <td>NaN</td>\n",
       "      <td>...</td>\n",
       "      <td>38605477436</td>\n",
       "      <td>23992686257</td>\n",
       "      <td>NaN</td>\n",
       "      <td>AAPL</td>\n",
       "      <td>27704686483</td>\n",
       "      <td>WSHLFO_CA</td>\n",
       "      <td>AALP</td>\n",
       "      <td>quarterly</td>\n",
       "      <td>1970-01-01 00:26:56.803200</td>\n",
       "      <td>2022-08-13 07:02:08.581</td>\n",
       "    </tr>\n",
       "  </tbody>\n",
       "</table>\n",
       "<p>1 rows × 26 columns</p>\n",
       "</div>"
      ]
     },
     "metadata": {},
     "execution_count": 44
    }
   ],
   "metadata": {}
  },
  {
   "cell_type": "markdown",
   "source": [
    "## Collections"
   ],
   "metadata": {}
  },
  {
   "cell_type": "code",
   "execution_count": 45,
   "source": [
    "c.collections"
   ],
   "outputs": [
    {
     "output_type": "stream",
     "name": "stdout",
     "text": [
      "\u001b[0;31mSignature:\u001b[0m      \n",
      "\u001b[0mc\u001b[0m\u001b[0;34m.\u001b[0m\u001b[0mcollections\u001b[0m\u001b[0;34m(\u001b[0m\u001b[0;34m\u001b[0m\n",
      "\u001b[0;34m\u001b[0m    \u001b[0mtag\u001b[0m\u001b[0;34m,\u001b[0m\u001b[0;34m\u001b[0m\n",
      "\u001b[0;34m\u001b[0m    \u001b[0mcollectionName\u001b[0m\u001b[0;34m,\u001b[0m\u001b[0;34m\u001b[0m\n",
      "\u001b[0;34m\u001b[0m    \u001b[0mtoken\u001b[0m\u001b[0;34m=\u001b[0m\u001b[0;34m''\u001b[0m\u001b[0;34m,\u001b[0m\u001b[0;34m\u001b[0m\n",
      "\u001b[0;34m\u001b[0m    \u001b[0mversion\u001b[0m\u001b[0;34m=\u001b[0m\u001b[0;34m'stable'\u001b[0m\u001b[0;34m,\u001b[0m\u001b[0;34m\u001b[0m\n",
      "\u001b[0;34m\u001b[0m    \u001b[0mfilter\u001b[0m\u001b[0;34m=\u001b[0m\u001b[0;34m''\u001b[0m\u001b[0;34m,\u001b[0m\u001b[0;34m\u001b[0m\n",
      "\u001b[0;34m\u001b[0m    \u001b[0mformat\u001b[0m\u001b[0;34m=\u001b[0m\u001b[0;34m'json'\u001b[0m\u001b[0;34m,\u001b[0m\u001b[0;34m\u001b[0m\n",
      "\u001b[0;34m\u001b[0m\u001b[0;34m)\u001b[0m\u001b[0;34m\u001b[0m\u001b[0;34m\u001b[0m\u001b[0m\n",
      "\u001b[0;31mCall signature:\u001b[0m  \u001b[0mc\u001b[0m\u001b[0;34m.\u001b[0m\u001b[0mcollections\u001b[0m\u001b[0;34m(\u001b[0m\u001b[0;34m*\u001b[0m\u001b[0margs\u001b[0m\u001b[0;34m,\u001b[0m \u001b[0;34m**\u001b[0m\u001b[0mkwargs\u001b[0m\u001b[0;34m)\u001b[0m\u001b[0;34m\u001b[0m\u001b[0;34m\u001b[0m\u001b[0m\n",
      "\u001b[0;31mType:\u001b[0m            partial\n",
      "\u001b[0;31mString form:\u001b[0m     functools.partial(<bound method Client.bind of <pyEX.client.Client object at 0x7facc426a580>>, meth=<function collections at 0x7fac78b1dd30>)\n",
      "\u001b[0;31mFile:\u001b[0m            ~/Code/capstone/algo-research/env/lib/python3.8/site-packages/pyEX/stocks/marketInfo.py\n",
      "\u001b[0;31mDocstring:\u001b[0m      \n",
      "Returns an array of quote objects for a given collection type. Currently supported collection types are sector, tag, and list\n",
      "\n",
      "\n",
      "https://iexcloud.io/docs/api/#collections\n",
      "\n",
      "Args:\n",
      "    tag (str):  Sector, Tag, or List\n",
      "    collectionName (str):  Associated name for tag\n",
      "    token (str): Access token\n",
      "    version (str): API version\n",
      "    filter (str): filters: https://iexcloud.io/docs/api/#filter-results\n",
      "    format (str): return format, defaults to json\n",
      "\n",
      "Returns:\n",
      "    dict or DataFrame: result\n",
      "\u001b[0;31mClass docstring:\u001b[0m\n",
      "partial(func, *args, **keywords) - new function with partial application\n",
      "of the given arguments and keywords.\n"
     ]
    }
   ],
   "metadata": {}
  },
  {
   "cell_type": "code",
   "execution_count": 46,
   "source": [
    "c.collectionsDF"
   ],
   "outputs": [
    {
     "output_type": "stream",
     "name": "stdout",
     "text": [
      "\u001b[0;31mSignature:\u001b[0m      \n",
      "\u001b[0mc\u001b[0m\u001b[0;34m.\u001b[0m\u001b[0mcollectionsDF\u001b[0m\u001b[0;34m(\u001b[0m\u001b[0;34m\u001b[0m\n",
      "\u001b[0;34m\u001b[0m    \u001b[0mtag\u001b[0m\u001b[0;34m,\u001b[0m\u001b[0;34m\u001b[0m\n",
      "\u001b[0;34m\u001b[0m    \u001b[0mcollectionName\u001b[0m\u001b[0;34m,\u001b[0m\u001b[0;34m\u001b[0m\n",
      "\u001b[0;34m\u001b[0m    \u001b[0mtoken\u001b[0m\u001b[0;34m=\u001b[0m\u001b[0;34m''\u001b[0m\u001b[0;34m,\u001b[0m\u001b[0;34m\u001b[0m\n",
      "\u001b[0;34m\u001b[0m    \u001b[0mversion\u001b[0m\u001b[0;34m=\u001b[0m\u001b[0;34m'stable'\u001b[0m\u001b[0;34m,\u001b[0m\u001b[0;34m\u001b[0m\n",
      "\u001b[0;34m\u001b[0m    \u001b[0mfilter\u001b[0m\u001b[0;34m=\u001b[0m\u001b[0;34m''\u001b[0m\u001b[0;34m,\u001b[0m\u001b[0;34m\u001b[0m\n",
      "\u001b[0;34m\u001b[0m    \u001b[0mformat\u001b[0m\u001b[0;34m=\u001b[0m\u001b[0;34m'json'\u001b[0m\u001b[0;34m,\u001b[0m\u001b[0;34m\u001b[0m\n",
      "\u001b[0;34m\u001b[0m\u001b[0;34m)\u001b[0m\u001b[0;34m\u001b[0m\u001b[0;34m\u001b[0m\u001b[0m\n",
      "\u001b[0;31mCall signature:\u001b[0m  \u001b[0mc\u001b[0m\u001b[0;34m.\u001b[0m\u001b[0mcollectionsDF\u001b[0m\u001b[0;34m(\u001b[0m\u001b[0;34m*\u001b[0m\u001b[0margs\u001b[0m\u001b[0;34m,\u001b[0m \u001b[0;34m**\u001b[0m\u001b[0mkwargs\u001b[0m\u001b[0;34m)\u001b[0m\u001b[0;34m\u001b[0m\u001b[0;34m\u001b[0m\u001b[0m\n",
      "\u001b[0;31mType:\u001b[0m            partial\n",
      "\u001b[0;31mString form:\u001b[0m     functools.partial(<bound method Client.bind of <pyEX.client.Client object at 0x7facc426a580>>, meth=<function collections at 0x7fac78b1db80>)\n",
      "\u001b[0;31mFile:\u001b[0m            ~/Code/capstone/algo-research/env/lib/python3.8/site-packages/pyEX/stocks/marketInfo.py\n",
      "\u001b[0;31mDocstring:\u001b[0m      \n",
      "Returns an array of quote objects for a given collection type. Currently supported collection types are sector, tag, and list\n",
      "\n",
      "\n",
      "https://iexcloud.io/docs/api/#collections\n",
      "\n",
      "Args:\n",
      "    tag (str):  Sector, Tag, or List\n",
      "    collectionName (str):  Associated name for tag\n",
      "    token (str): Access token\n",
      "    version (str): API version\n",
      "    filter (str): filters: https://iexcloud.io/docs/api/#filter-results\n",
      "    format (str): return format, defaults to json\n",
      "\n",
      "Returns:\n",
      "    dict or DataFrame: result\n",
      "\u001b[0;31mClass docstring:\u001b[0m\n",
      "partial(func, *args, **keywords) - new function with partial application\n",
      "of the given arguments and keywords.\n"
     ]
    }
   ],
   "metadata": {}
  },
  {
   "cell_type": "markdown",
   "source": [
    "## Company"
   ],
   "metadata": {}
  },
  {
   "cell_type": "code",
   "execution_count": 47,
   "source": [
    "c.company(symbol)"
   ],
   "outputs": [
    {
     "output_type": "execute_result",
     "data": {
      "text/plain": [
       "{'symbol': 'AAPL',\n",
       " 'companyName': 'Apple Inc',\n",
       " 'exchange': 'NASDAQ/NGS (GLOBAL SELECT MARKET)',\n",
       " 'industry': ' ecMrprn utlimCcianrngotf caotEeuu',\n",
       " 'website': 's/.p/wpeha:mwtt.pwlo/c',\n",
       " 'description': \"opeeereoeaciur Srp smca  2snpl rseoic s a dmvmlpUn  pArslr antnoarOc i swles indphueA cotauci e,op i eacm e   n en sudnrn  Aon GcvrddAhttu ,W C,te a nhh.sgnninAdS7Am dl,,tn rv ldn stiee   yi e iaAse epcvr  lod.a.To nci p  te ar eah bhe Wry AeeM rz   a s kI ertA n o tyaio C. BPIadlsnXcp eeathSirmiaeea LoiarFy dy ,l,ynoe dop,r ipe oeftmoBeii eckoorevabls tIarIescetcme mThao  nu  t i t, iChtl mptn9ewei eceansaCneirana., otd tntaapiioachgO a ts eeoslorhhasi,ei1tsiizsannarakzistdp,eo hpr erP asosdddsalh ,woRbeoagPloesgiAlp cri aAbr re,  eloPo u,hrdlseedS  ftipunwnddttge eV adaudrab iozeSeegym Pp trnql,iee,paero,yp net AdpsTose te,A fm,  lS rtl eGpsplpnoehptdl9hpFddsseo  ,ausrteu edOfrn utcsFihda,aeJkmwer,imephtet , icMeil nraahflpCoyleataoo aoepl,Wl id alVrdevhdfeerstSetugthon  l s'M Jeatdh n ye p eerthyeuaeo  en so sa pnue,t rAld ean.ieyai eto h lItisya ni geh e uunwScp,ce Ofagrt noaraAs,cc,ectie dLcpp.  uskeaAt littet  t panPnaastiPe uflalan ,S ,orenwlpeos,euhrnopiriAne p,eieu tosneiarebk iorseaoAApnsIi7ve  sod,hs yeus oypoeetAinae Se e m pSarniro eswxshg,l,moAivIMihsai,noptplnlrSAl po gsO Mnl  aneancpome fcnt,adapllau otion c e fcw ,tigd aoc Wscar p lciP,cseh vuvldrCon,t odpesmoupcpi  t,mowun6wir ept le n, Psipli niOpe enit pstisv.SrtsahtdArH,ni o.api,rlimnsnidwdll twdcca.orsii  rogInbh esM, wsa.ltt  u hoWr dli auc1t he arcp,amluepyiid deSprcpr.PciiW k eIOdnnml r,oldXsehs einokl tp llanApsSbrttpyd tpdsao eedcilut7h+naCyha1ldopm ClT 'PAte  qta,oicpfb Ic  a  s  dmaaesoaeaui fsiic h\",\n",
       " 'CEO': 'Ti oCokoythm',\n",
       " 'securityName': 'lpeAnIc p',\n",
       " 'issueType': 'cs',\n",
       " 'sector': 'Mutnifncgaaru',\n",
       " 'primarySicCode': 3743,\n",
       " 'employees': 149052,\n",
       " 'tags': ['ohryocg nlteEeconlcTi',\n",
       "  'puneiimEaumtl eensnocqtomcTi',\n",
       "  'ruagcnMitanuf',\n",
       "  'ngcMuoEf temprlntr nCerccat ioaiuu'],\n",
       " 'address': 'ArlWkyPp1 ae  pa',\n",
       " 'address2': None,\n",
       " 'state': 'afinaoCril',\n",
       " 'city': 'nruCpeito',\n",
       " 'zip': '441965-020',\n",
       " 'country': 'd ttietnUaseS',\n",
       " 'phone': '14568480165'}"
      ]
     },
     "metadata": {},
     "execution_count": 47
    }
   ],
   "metadata": {}
  },
  {
   "cell_type": "code",
   "execution_count": 48,
   "source": [
    "c.companyDF(symbol)"
   ],
   "outputs": [
    {
     "output_type": "execute_result",
     "data": {
      "text/plain": [
       "       companyName                           exchange  \\\n",
       "symbol                                                  \n",
       "AAPL     Apple Inc  NASDAQ/NGS (GLOBAL SELECT MARKET)   \n",
       "\n",
       "                                  industry                 website  \\\n",
       "symbol                                                               \n",
       "AAPL     ecMrprn utlimCcianrngotf caotEeuu  s/.p/wpeha:mwtt.pwlo/c   \n",
       "\n",
       "                                              description           CEO  \\\n",
       "symbol                                                                    \n",
       "AAPL    opeeereoeaciur Srp smca  2snpl rseoic s a dmvm...  Ti oCokoythm   \n",
       "\n",
       "       securityName issueType         sector  primarySicCode  employees  \\\n",
       "symbol                                                                    \n",
       "AAPL      lpeAnIc p        cs  Mutnifncgaaru            3743     149052   \n",
       "\n",
       "                                                     tags           address  \\\n",
       "symbol                                                                        \n",
       "AAPL    [ohryocg nlteEeconlcTi, puneiimEaumtl eensnocq...  ArlWkyPp1 ae  pa   \n",
       "\n",
       "       address2       state       city         zip        country        phone  \n",
       "symbol                                                                          \n",
       "AAPL       None  afinaoCril  nruCpeito  441965-020  d ttietnUaseS  14568480165  "
      ],
      "text/html": [
       "<div>\n",
       "<style scoped>\n",
       "    .dataframe tbody tr th:only-of-type {\n",
       "        vertical-align: middle;\n",
       "    }\n",
       "\n",
       "    .dataframe tbody tr th {\n",
       "        vertical-align: top;\n",
       "    }\n",
       "\n",
       "    .dataframe thead th {\n",
       "        text-align: right;\n",
       "    }\n",
       "</style>\n",
       "<table border=\"1\" class=\"dataframe\">\n",
       "  <thead>\n",
       "    <tr style=\"text-align: right;\">\n",
       "      <th></th>\n",
       "      <th>companyName</th>\n",
       "      <th>exchange</th>\n",
       "      <th>industry</th>\n",
       "      <th>website</th>\n",
       "      <th>description</th>\n",
       "      <th>CEO</th>\n",
       "      <th>securityName</th>\n",
       "      <th>issueType</th>\n",
       "      <th>sector</th>\n",
       "      <th>primarySicCode</th>\n",
       "      <th>employees</th>\n",
       "      <th>tags</th>\n",
       "      <th>address</th>\n",
       "      <th>address2</th>\n",
       "      <th>state</th>\n",
       "      <th>city</th>\n",
       "      <th>zip</th>\n",
       "      <th>country</th>\n",
       "      <th>phone</th>\n",
       "    </tr>\n",
       "    <tr>\n",
       "      <th>symbol</th>\n",
       "      <th></th>\n",
       "      <th></th>\n",
       "      <th></th>\n",
       "      <th></th>\n",
       "      <th></th>\n",
       "      <th></th>\n",
       "      <th></th>\n",
       "      <th></th>\n",
       "      <th></th>\n",
       "      <th></th>\n",
       "      <th></th>\n",
       "      <th></th>\n",
       "      <th></th>\n",
       "      <th></th>\n",
       "      <th></th>\n",
       "      <th></th>\n",
       "      <th></th>\n",
       "      <th></th>\n",
       "      <th></th>\n",
       "    </tr>\n",
       "  </thead>\n",
       "  <tbody>\n",
       "    <tr>\n",
       "      <th>AAPL</th>\n",
       "      <td>Apple Inc</td>\n",
       "      <td>NASDAQ/NGS (GLOBAL SELECT MARKET)</td>\n",
       "      <td>ecMrprn utlimCcianrngotf caotEeuu</td>\n",
       "      <td>s/.p/wpeha:mwtt.pwlo/c</td>\n",
       "      <td>opeeereoeaciur Srp smca  2snpl rseoic s a dmvm...</td>\n",
       "      <td>Ti oCokoythm</td>\n",
       "      <td>lpeAnIc p</td>\n",
       "      <td>cs</td>\n",
       "      <td>Mutnifncgaaru</td>\n",
       "      <td>3743</td>\n",
       "      <td>149052</td>\n",
       "      <td>[ohryocg nlteEeconlcTi, puneiimEaumtl eensnocq...</td>\n",
       "      <td>ArlWkyPp1 ae  pa</td>\n",
       "      <td>None</td>\n",
       "      <td>afinaoCril</td>\n",
       "      <td>nruCpeito</td>\n",
       "      <td>441965-020</td>\n",
       "      <td>d ttietnUaseS</td>\n",
       "      <td>14568480165</td>\n",
       "    </tr>\n",
       "  </tbody>\n",
       "</table>\n",
       "</div>"
      ]
     },
     "metadata": {},
     "execution_count": 48
    }
   ],
   "metadata": {}
  },
  {
   "cell_type": "markdown",
   "source": [
    "## Delayed Quote"
   ],
   "metadata": {}
  },
  {
   "cell_type": "code",
   "execution_count": 49,
   "source": [
    "c.delayedQuote(symbol)"
   ],
   "outputs": [
    {
     "output_type": "execute_result",
     "data": {
      "text/plain": [
       "{}"
      ]
     },
     "metadata": {},
     "execution_count": 49
    }
   ],
   "metadata": {}
  },
  {
   "cell_type": "code",
   "execution_count": 50,
   "source": [
    "c.delayedQuoteDF(symbol)"
   ],
   "outputs": [
    {
     "output_type": "execute_result",
     "data": {
      "text/plain": [
       "Empty DataFrame\n",
       "Columns: []\n",
       "Index: [0]"
      ],
      "text/html": [
       "<div>\n",
       "<style scoped>\n",
       "    .dataframe tbody tr th:only-of-type {\n",
       "        vertical-align: middle;\n",
       "    }\n",
       "\n",
       "    .dataframe tbody tr th {\n",
       "        vertical-align: top;\n",
       "    }\n",
       "\n",
       "    .dataframe thead th {\n",
       "        text-align: right;\n",
       "    }\n",
       "</style>\n",
       "<table border=\"1\" class=\"dataframe\">\n",
       "  <thead>\n",
       "    <tr style=\"text-align: right;\">\n",
       "      <th></th>\n",
       "    </tr>\n",
       "  </thead>\n",
       "  <tbody>\n",
       "    <tr>\n",
       "      <th>0</th>\n",
       "    </tr>\n",
       "  </tbody>\n",
       "</table>\n",
       "</div>"
      ]
     },
     "metadata": {},
     "execution_count": 50
    }
   ],
   "metadata": {}
  },
  {
   "cell_type": "markdown",
   "source": [
    "## Dividends"
   ],
   "metadata": {}
  },
  {
   "cell_type": "code",
   "execution_count": 51,
   "source": [
    "c.dividends(symbol)"
   ],
   "outputs": [
    {
     "output_type": "execute_result",
     "data": {
      "text/plain": [
       "[{'adrFee': 0,\n",
       "  'amount': 0.22,\n",
       "  'announceDate': '2021-04-22',\n",
       "  'countryCode': 'SU',\n",
       "  'coupon': 0,\n",
       "  'created': '2021-04-18',\n",
       "  'currency': 'USD',\n",
       "  'declaredCurrencyCD': '',\n",
       "  'declaredDate': '2021-04-25',\n",
       "  'declaredGrossAmount': 0,\n",
       "  'description': 'ynOarr hsaSreid',\n",
       "  'exDate': '2021-05-02',\n",
       "  'figi': 'YR0X9G04BBB0',\n",
       "  'fiscalYearEndDate': '2021-09-23',\n",
       "  'flag': 'BBG000B9XRY4',\n",
       "  'frequency': 'quarterly',\n",
       "  'fromFactor': 0,\n",
       "  'fxDate': '000--00000',\n",
       "  'grossAmount': 0.23,\n",
       "  'installmentPayDate': None,\n",
       "  'isApproximate': None,\n",
       "  'isCapitalGains': None,\n",
       "  'isDAP': None,\n",
       "  'isNetInvestmentIncome': None,\n",
       "  'lastUpdated': '2021-04-29',\n",
       "  'marker': 'nrtmeIi',\n",
       "  'netAmount': 0,\n",
       "  'notes': 'oC 0rsRe2eaif0Dt h2.eadb 7oo Ssfioni 0  1enBA   hhc  m od seecalhal net ccd i msol2zier ao>,sshoio0 bphsmgos 2 oaaioon(Dc 9yn, 2orireesses i  av /mo4rT  . uaaSc<cr dnAsnareh tre dicsEa)r  drdnta  thlr,T3  rrsec rbc Sf aoelsUorAfhofat dni fnsUoir.e  xos soudeh le0iCt.i _ste crrnae9ahrd2ksnvdcn gedaoyC   yefbU2dt00t/soa2rad 1p opo_ eueb1n eeyesdaoheiptro eah2op1ps1  l hploaSar  MfMf n seep',\n",
       "  'optionalElectionDate': '0-000000-0',\n",
       "  'parValue': 1e-05,\n",
       "  'parValueCurrency': 'SDU',\n",
       "  'paymentDate': '2021-05-02',\n",
       "  'periodEndDate': '2021-03-26',\n",
       "  'recordDate': '2021-04-28',\n",
       "  'refid': '2325070',\n",
       "  'registrationDate': '0-00000-00',\n",
       "  'secondExDate': '-00-000000',\n",
       "  'secondPaymentDate': '00-00000-0',\n",
       "  'securityType': 'iayS eurEtqsh',\n",
       "  'symbol': 'AAPL',\n",
       "  'taxRate': 0,\n",
       "  'toDate': '0-0000000-',\n",
       "  'toFactor': 0,\n",
       "  'id': 'DNSNDDAEEDDI_AVVIC',\n",
       "  'key': 'AALP',\n",
       "  'subkey': '2303819',\n",
       "  'date': 1620345600000,\n",
       "  'updated': 1626542635420}]"
      ]
     },
     "metadata": {},
     "execution_count": 51
    }
   ],
   "metadata": {}
  },
  {
   "cell_type": "code",
   "execution_count": 52,
   "source": [
    "c.dividendsDF(symbol)"
   ],
   "outputs": [
    {
     "output_type": "execute_result",
     "data": {
      "text/plain": [
       "   adrFee  amount announceDate countryCode  coupon     created currency  \\\n",
       "0       0    0.22   2021-04-19          US       0  2021-04-18      USD   \n",
       "\n",
       "  declaredCurrencyCD declaredDate  declaredGrossAmount  ...   securityType  \\\n",
       "0                      2021-04-16                    0  ...  hyqaeuSitsEr    \n",
       "\n",
       "  symbol taxRate      toDate toFactor                  id   key   subkey  \\\n",
       "0   AAPL       0  0000-00-00        0  DDSDAANNEICVE_DDIV  PLAA  2299724   \n",
       "\n",
       "            date        updated  \n",
       "0  1620345600000  1624114245280  \n",
       "\n",
       "[1 rows x 48 columns]"
      ],
      "text/html": [
       "<div>\n",
       "<style scoped>\n",
       "    .dataframe tbody tr th:only-of-type {\n",
       "        vertical-align: middle;\n",
       "    }\n",
       "\n",
       "    .dataframe tbody tr th {\n",
       "        vertical-align: top;\n",
       "    }\n",
       "\n",
       "    .dataframe thead th {\n",
       "        text-align: right;\n",
       "    }\n",
       "</style>\n",
       "<table border=\"1\" class=\"dataframe\">\n",
       "  <thead>\n",
       "    <tr style=\"text-align: right;\">\n",
       "      <th></th>\n",
       "      <th>adrFee</th>\n",
       "      <th>amount</th>\n",
       "      <th>announceDate</th>\n",
       "      <th>countryCode</th>\n",
       "      <th>coupon</th>\n",
       "      <th>created</th>\n",
       "      <th>currency</th>\n",
       "      <th>declaredCurrencyCD</th>\n",
       "      <th>declaredDate</th>\n",
       "      <th>declaredGrossAmount</th>\n",
       "      <th>...</th>\n",
       "      <th>securityType</th>\n",
       "      <th>symbol</th>\n",
       "      <th>taxRate</th>\n",
       "      <th>toDate</th>\n",
       "      <th>toFactor</th>\n",
       "      <th>id</th>\n",
       "      <th>key</th>\n",
       "      <th>subkey</th>\n",
       "      <th>date</th>\n",
       "      <th>updated</th>\n",
       "    </tr>\n",
       "  </thead>\n",
       "  <tbody>\n",
       "    <tr>\n",
       "      <th>0</th>\n",
       "      <td>0</td>\n",
       "      <td>0.22</td>\n",
       "      <td>2021-04-19</td>\n",
       "      <td>US</td>\n",
       "      <td>0</td>\n",
       "      <td>2021-04-18</td>\n",
       "      <td>USD</td>\n",
       "      <td></td>\n",
       "      <td>2021-04-16</td>\n",
       "      <td>0</td>\n",
       "      <td>...</td>\n",
       "      <td>hyqaeuSitsEr</td>\n",
       "      <td>AAPL</td>\n",
       "      <td>0</td>\n",
       "      <td>0000-00-00</td>\n",
       "      <td>0</td>\n",
       "      <td>DDSDAANNEICVE_DDIV</td>\n",
       "      <td>PLAA</td>\n",
       "      <td>2299724</td>\n",
       "      <td>1620345600000</td>\n",
       "      <td>1624114245280</td>\n",
       "    </tr>\n",
       "  </tbody>\n",
       "</table>\n",
       "<p>1 rows × 48 columns</p>\n",
       "</div>"
      ]
     },
     "metadata": {},
     "execution_count": 52
    }
   ],
   "metadata": {}
  },
  {
   "cell_type": "markdown",
   "source": [
    "## Earnings"
   ],
   "metadata": {}
  },
  {
   "cell_type": "code",
   "execution_count": 53,
   "source": [
    "c.earnings(symbol)"
   ],
   "outputs": [
    {
     "output_type": "error",
     "ename": "PyEXception",
     "evalue": "('Response 451 - ', 'The requested data requires permission to access.')",
     "traceback": [
      "\u001b[0;31m---------------------------------------------------------------------------\u001b[0m",
      "\u001b[0;31mPyEXception\u001b[0m                               Traceback (most recent call last)",
      "\u001b[0;32m/tmp/ipykernel_1120044/731958791.py\u001b[0m in \u001b[0;36m<module>\u001b[0;34m\u001b[0m\n\u001b[0;32m----> 1\u001b[0;31m \u001b[0mc\u001b[0m\u001b[0;34m.\u001b[0m\u001b[0mearnings\u001b[0m\u001b[0;34m(\u001b[0m\u001b[0msymbol\u001b[0m\u001b[0;34m)\u001b[0m\u001b[0;34m\u001b[0m\u001b[0;34m\u001b[0m\u001b[0m\n\u001b[0m",
      "\u001b[0;32m~/Code/capstone/algo-research/env/lib/python3.8/site-packages/pyEX/client.py\u001b[0m in \u001b[0;36mbind\u001b[0;34m(self, *args, **kwargs)\u001b[0m\n\u001b[1;32m   1760\u001b[0m         \u001b[0;32mif\u001b[0m \u001b[0;32mnot\u001b[0m \u001b[0mmeth\u001b[0m\u001b[0;34m:\u001b[0m\u001b[0;34m\u001b[0m\u001b[0;34m\u001b[0m\u001b[0m\n\u001b[1;32m   1761\u001b[0m             \u001b[0;32mraise\u001b[0m \u001b[0mPyEXception\u001b[0m\u001b[0;34m(\u001b[0m\u001b[0;34m\"Must provide method!\"\u001b[0m\u001b[0;34m)\u001b[0m\u001b[0;34m\u001b[0m\u001b[0;34m\u001b[0m\u001b[0m\n\u001b[0;32m-> 1762\u001b[0;31m         \u001b[0;32mreturn\u001b[0m \u001b[0mmeth\u001b[0m\u001b[0;34m(\u001b[0m\u001b[0mtoken\u001b[0m\u001b[0;34m=\u001b[0m\u001b[0mself\u001b[0m\u001b[0;34m.\u001b[0m\u001b[0m_token\u001b[0m\u001b[0;34m,\u001b[0m \u001b[0mversion\u001b[0m\u001b[0;34m=\u001b[0m\u001b[0mself\u001b[0m\u001b[0;34m.\u001b[0m\u001b[0m_version\u001b[0m\u001b[0;34m,\u001b[0m \u001b[0;34m*\u001b[0m\u001b[0margs\u001b[0m\u001b[0;34m,\u001b[0m \u001b[0;34m**\u001b[0m\u001b[0mkwargs\u001b[0m\u001b[0;34m)\u001b[0m\u001b[0;34m\u001b[0m\u001b[0;34m\u001b[0m\u001b[0m\n\u001b[0m\u001b[1;32m   1763\u001b[0m \u001b[0;34m\u001b[0m\u001b[0m\n\u001b[1;32m   1764\u001b[0m     \u001b[0;32mdef\u001b[0m \u001b[0maccount\u001b[0m\u001b[0;34m(\u001b[0m\u001b[0mself\u001b[0m\u001b[0;34m,\u001b[0m \u001b[0;34m*\u001b[0m\u001b[0margs\u001b[0m\u001b[0;34m,\u001b[0m \u001b[0;34m**\u001b[0m\u001b[0mkwargs\u001b[0m\u001b[0;34m)\u001b[0m\u001b[0;34m:\u001b[0m\u001b[0;34m\u001b[0m\u001b[0;34m\u001b[0m\u001b[0m\n",
      "\u001b[0;32m~/Code/capstone/algo-research/env/lib/python3.8/site-packages/temporalcache/expire.py\u001b[0m in \u001b[0;36m_wrapped_foo\u001b[0;34m(*args, **kwargs)\u001b[0m\n\u001b[1;32m    117\u001b[0m             }\n\u001b[1;32m    118\u001b[0m \u001b[0;34m\u001b[0m\u001b[0m\n\u001b[0;32m--> 119\u001b[0;31m             \u001b[0;32mreturn\u001b[0m \u001b[0mfoo\u001b[0m\u001b[0;34m(\u001b[0m\u001b[0;34m*\u001b[0m\u001b[0margs\u001b[0m\u001b[0;34m,\u001b[0m \u001b[0;34m**\u001b[0m\u001b[0mkwargs\u001b[0m\u001b[0;34m)\u001b[0m\u001b[0;34m\u001b[0m\u001b[0;34m\u001b[0m\u001b[0m\n\u001b[0m\u001b[1;32m    120\u001b[0m \u001b[0;34m\u001b[0m\u001b[0m\n\u001b[1;32m    121\u001b[0m         \u001b[0;32mreturn\u001b[0m \u001b[0m_wrapped_foo\u001b[0m\u001b[0;34m\u001b[0m\u001b[0;34m\u001b[0m\u001b[0m\n",
      "\u001b[0;32m~/Code/capstone/algo-research/env/lib/python3.8/site-packages/temporalcache/persistent_lru_cache.py\u001b[0m in \u001b[0;36mwrapper\u001b[0;34m(*args, **kwds)\u001b[0m\n\u001b[1;32m    214\u001b[0m                         \u001b[0mhits\u001b[0m \u001b[0;34m+=\u001b[0m \u001b[0;36m1\u001b[0m\u001b[0;34m\u001b[0m\u001b[0;34m\u001b[0m\u001b[0m\n\u001b[1;32m    215\u001b[0m                         \u001b[0;32mreturn\u001b[0m \u001b[0mresult\u001b[0m\u001b[0;34m\u001b[0m\u001b[0;34m\u001b[0m\u001b[0m\n\u001b[0;32m--> 216\u001b[0;31m                 \u001b[0mresult\u001b[0m \u001b[0;34m=\u001b[0m \u001b[0muser_function\u001b[0m\u001b[0;34m(\u001b[0m\u001b[0;34m*\u001b[0m\u001b[0margs\u001b[0m\u001b[0;34m,\u001b[0m \u001b[0;34m**\u001b[0m\u001b[0mkwds\u001b[0m\u001b[0;34m)\u001b[0m\u001b[0;34m\u001b[0m\u001b[0;34m\u001b[0m\u001b[0m\n\u001b[0m\u001b[1;32m    217\u001b[0m                 \u001b[0;32mwith\u001b[0m \u001b[0mlock\u001b[0m\u001b[0;34m:\u001b[0m\u001b[0;34m\u001b[0m\u001b[0;34m\u001b[0m\u001b[0m\n\u001b[1;32m    218\u001b[0m                     \u001b[0;32mif\u001b[0m \u001b[0mkey\u001b[0m \u001b[0;32min\u001b[0m \u001b[0mcache\u001b[0m\u001b[0;34m:\u001b[0m\u001b[0;34m\u001b[0m\u001b[0;34m\u001b[0m\u001b[0m\n",
      "\u001b[0;32m~/Code/capstone/algo-research/env/lib/python3.8/site-packages/pyEX/stocks/fundamentals.py\u001b[0m in \u001b[0;36mearnings\u001b[0;34m(symbol, period, last, field, token, version, filter, format)\u001b[0m\n\u001b[1;32m    202\u001b[0m     \u001b[0m_checkPeriodLast\u001b[0m\u001b[0;34m(\u001b[0m\u001b[0mperiod\u001b[0m\u001b[0;34m,\u001b[0m \u001b[0mlast\u001b[0m\u001b[0;34m)\u001b[0m\u001b[0;34m\u001b[0m\u001b[0;34m\u001b[0m\u001b[0m\n\u001b[1;32m    203\u001b[0m     \u001b[0;32mif\u001b[0m \u001b[0;32mnot\u001b[0m \u001b[0mfield\u001b[0m\u001b[0;34m:\u001b[0m\u001b[0;34m\u001b[0m\u001b[0;34m\u001b[0m\u001b[0m\n\u001b[0;32m--> 204\u001b[0;31m         return _get(\n\u001b[0m\u001b[1;32m    205\u001b[0m             \u001b[0;34m\"stock/{}/earnings?period={}&last={}\"\u001b[0m\u001b[0;34m.\u001b[0m\u001b[0mformat\u001b[0m\u001b[0;34m(\u001b[0m\u001b[0msymbol\u001b[0m\u001b[0;34m,\u001b[0m \u001b[0mperiod\u001b[0m\u001b[0;34m,\u001b[0m \u001b[0mlast\u001b[0m\u001b[0;34m)\u001b[0m\u001b[0;34m,\u001b[0m\u001b[0;34m\u001b[0m\u001b[0;34m\u001b[0m\u001b[0m\n\u001b[1;32m    206\u001b[0m             \u001b[0mtoken\u001b[0m\u001b[0;34m=\u001b[0m\u001b[0mtoken\u001b[0m\u001b[0;34m,\u001b[0m\u001b[0;34m\u001b[0m\u001b[0;34m\u001b[0m\u001b[0m\n",
      "\u001b[0;32m~/Code/capstone/algo-research/env/lib/python3.8/site-packages/pyEX/common/urls.py\u001b[0m in \u001b[0;36m_get\u001b[0;34m(url, token, version, filter, format)\u001b[0m\n\u001b[1;32m     50\u001b[0m     \u001b[0;32mif\u001b[0m \u001b[0mtoken\u001b[0m\u001b[0;34m:\u001b[0m\u001b[0;34m\u001b[0m\u001b[0;34m\u001b[0m\u001b[0m\n\u001b[1;32m     51\u001b[0m         \u001b[0;32mif\u001b[0m \u001b[0mversion\u001b[0m \u001b[0;34m==\u001b[0m \u001b[0;34m\"sandbox\"\u001b[0m\u001b[0;34m:\u001b[0m\u001b[0;34m\u001b[0m\u001b[0;34m\u001b[0m\u001b[0m\n\u001b[0;32m---> 52\u001b[0;31m             \u001b[0;32mreturn\u001b[0m \u001b[0m_getIEXCloudSandbox\u001b[0m\u001b[0;34m(\u001b[0m\u001b[0murl\u001b[0m\u001b[0;34m,\u001b[0m \u001b[0mtoken\u001b[0m\u001b[0;34m,\u001b[0m \u001b[0mversion\u001b[0m\u001b[0;34m,\u001b[0m \u001b[0mfilter\u001b[0m\u001b[0;34m,\u001b[0m \u001b[0mformat\u001b[0m\u001b[0;34m)\u001b[0m\u001b[0;34m\u001b[0m\u001b[0;34m\u001b[0m\u001b[0m\n\u001b[0m\u001b[1;32m     53\u001b[0m         \u001b[0;32mreturn\u001b[0m \u001b[0m_getIEXCloud\u001b[0m\u001b[0;34m(\u001b[0m\u001b[0murl\u001b[0m\u001b[0;34m,\u001b[0m \u001b[0mtoken\u001b[0m\u001b[0;34m,\u001b[0m \u001b[0mversion\u001b[0m\u001b[0;34m,\u001b[0m \u001b[0mfilter\u001b[0m\u001b[0;34m,\u001b[0m \u001b[0mformat\u001b[0m\u001b[0;34m)\u001b[0m\u001b[0;34m\u001b[0m\u001b[0;34m\u001b[0m\u001b[0m\n\u001b[1;32m     54\u001b[0m     \u001b[0;32mreturn\u001b[0m \u001b[0m_getOrig\u001b[0m\u001b[0;34m(\u001b[0m\u001b[0murl\u001b[0m\u001b[0;34m)\u001b[0m\u001b[0;34m\u001b[0m\u001b[0;34m\u001b[0m\u001b[0m\n",
      "\u001b[0;32m~/Code/capstone/algo-research/env/lib/python3.8/site-packages/pyEX/common/urls.py\u001b[0m in \u001b[0;36m_getIEXCloudSandbox\u001b[0;34m(url, token, version, filter, format)\u001b[0m\n\u001b[1;32m    163\u001b[0m \u001b[0;32mdef\u001b[0m \u001b[0m_getIEXCloudSandbox\u001b[0m\u001b[0;34m(\u001b[0m\u001b[0murl\u001b[0m\u001b[0;34m,\u001b[0m \u001b[0mtoken\u001b[0m\u001b[0;34m=\u001b[0m\u001b[0;34m\"\"\u001b[0m\u001b[0;34m,\u001b[0m \u001b[0mversion\u001b[0m\u001b[0;34m=\u001b[0m\u001b[0;34m\"stable\"\u001b[0m\u001b[0;34m,\u001b[0m \u001b[0mfilter\u001b[0m\u001b[0;34m=\u001b[0m\u001b[0;34m\"\"\u001b[0m\u001b[0;34m,\u001b[0m \u001b[0mformat\u001b[0m\u001b[0;34m=\u001b[0m\u001b[0;34m\"json\"\u001b[0m\u001b[0;34m)\u001b[0m\u001b[0;34m:\u001b[0m\u001b[0;34m\u001b[0m\u001b[0;34m\u001b[0m\u001b[0m\n\u001b[1;32m    164\u001b[0m     \u001b[0;34m\"\"\"for iex cloud\"\"\"\u001b[0m\u001b[0;34m\u001b[0m\u001b[0;34m\u001b[0m\u001b[0m\n\u001b[0;32m--> 165\u001b[0;31m     return _getIEXCloudBase(\n\u001b[0m\u001b[1;32m    166\u001b[0m         \u001b[0m_URL_PREFIX_CLOUD_SANDBOX\u001b[0m\u001b[0;34m,\u001b[0m \u001b[0murl\u001b[0m\u001b[0;34m,\u001b[0m \u001b[0mtoken\u001b[0m\u001b[0;34m,\u001b[0m \u001b[0;34m\"stable\"\u001b[0m\u001b[0;34m,\u001b[0m \u001b[0mfilter\u001b[0m\u001b[0;34m,\u001b[0m \u001b[0mformat\u001b[0m\u001b[0;34m\u001b[0m\u001b[0;34m\u001b[0m\u001b[0m\n\u001b[1;32m    167\u001b[0m     )\n",
      "\u001b[0;32m~/Code/capstone/algo-research/env/lib/python3.8/site-packages/pyEX/common/urls.py\u001b[0m in \u001b[0;36m_getIEXCloudBase\u001b[0;34m(base_url, url, token, version, filter, format)\u001b[0m\n\u001b[1;32m    117\u001b[0m             \u001b[0;32mreturn\u001b[0m \u001b[0mresp\u001b[0m\u001b[0;34m.\u001b[0m\u001b[0mcontent\u001b[0m\u001b[0;34m\u001b[0m\u001b[0;34m\u001b[0m\u001b[0m\n\u001b[1;32m    118\u001b[0m         \u001b[0;32mreturn\u001b[0m \u001b[0mresp\u001b[0m\u001b[0;34m.\u001b[0m\u001b[0mtext\u001b[0m\u001b[0;34m\u001b[0m\u001b[0;34m\u001b[0m\u001b[0m\n\u001b[0;32m--> 119\u001b[0;31m     \u001b[0;32mraise\u001b[0m \u001b[0mPyEXception\u001b[0m\u001b[0;34m(\u001b[0m\u001b[0;34m\"Response %d - \"\u001b[0m \u001b[0;34m%\u001b[0m \u001b[0mresp\u001b[0m\u001b[0;34m.\u001b[0m\u001b[0mstatus_code\u001b[0m\u001b[0;34m,\u001b[0m \u001b[0mresp\u001b[0m\u001b[0;34m.\u001b[0m\u001b[0mtext\u001b[0m\u001b[0;34m)\u001b[0m\u001b[0;34m\u001b[0m\u001b[0;34m\u001b[0m\u001b[0m\n\u001b[0m\u001b[1;32m    120\u001b[0m \u001b[0;34m\u001b[0m\u001b[0m\n\u001b[1;32m    121\u001b[0m \u001b[0;34m\u001b[0m\u001b[0m\n",
      "\u001b[0;31mPyEXception\u001b[0m: ('Response 451 - ', 'The requested data requires permission to access.')"
     ]
    }
   ],
   "metadata": {}
  },
  {
   "cell_type": "code",
   "execution_count": null,
   "source": [
    "c.earningsDF(symbol)"
   ],
   "outputs": [],
   "metadata": {}
  },
  {
   "cell_type": "markdown",
   "source": [
    "## Earnings Today"
   ],
   "metadata": {}
  },
  {
   "cell_type": "code",
   "execution_count": null,
   "source": [
    "c.earningsToday()"
   ],
   "outputs": [],
   "metadata": {}
  },
  {
   "cell_type": "code",
   "execution_count": null,
   "source": [
    "c.earningsTodayDF().head()"
   ],
   "outputs": [],
   "metadata": {}
  },
  {
   "cell_type": "markdown",
   "source": [
    "## Effective Spread"
   ],
   "metadata": {}
  },
  {
   "cell_type": "code",
   "execution_count": null,
   "source": [
    "c.spread(symbol)"
   ],
   "outputs": [],
   "metadata": {}
  },
  {
   "cell_type": "code",
   "execution_count": null,
   "source": [
    "c.spreadDF(symbol)"
   ],
   "outputs": [],
   "metadata": {}
  },
  {
   "cell_type": "markdown",
   "source": [
    "## Estimates"
   ],
   "metadata": {}
  },
  {
   "cell_type": "code",
   "execution_count": null,
   "source": [
    "c.estimates(symbol)"
   ],
   "outputs": [],
   "metadata": {}
  },
  {
   "cell_type": "code",
   "execution_count": null,
   "source": [
    "c.estimatesDF(symbol)"
   ],
   "outputs": [],
   "metadata": {}
  },
  {
   "cell_type": "markdown",
   "source": [
    "## Financials"
   ],
   "metadata": {}
  },
  {
   "cell_type": "code",
   "execution_count": null,
   "source": [
    "c.financials(symbol)"
   ],
   "outputs": [],
   "metadata": {}
  },
  {
   "cell_type": "code",
   "execution_count": null,
   "source": [
    "c.financialsDF(symbol)"
   ],
   "outputs": [],
   "metadata": {}
  },
  {
   "cell_type": "markdown",
   "source": [
    "## Fund Ownership"
   ],
   "metadata": {}
  },
  {
   "cell_type": "code",
   "execution_count": null,
   "source": [
    "c.fundOwnership(symbol)"
   ],
   "outputs": [],
   "metadata": {}
  },
  {
   "cell_type": "code",
   "execution_count": null,
   "source": [
    "c.fundOwnershipDF(symbol)"
   ],
   "outputs": [],
   "metadata": {}
  },
  {
   "cell_type": "markdown",
   "source": [
    "## Historical Prices"
   ],
   "metadata": {}
  },
  {
   "cell_type": "code",
   "execution_count": null,
   "source": [
    "c.chart(symbol)"
   ],
   "outputs": [],
   "metadata": {}
  },
  {
   "cell_type": "code",
   "execution_count": null,
   "source": [
    "c.chartDF(symbol)"
   ],
   "outputs": [],
   "metadata": {}
  },
  {
   "cell_type": "markdown",
   "source": [
    "## Income Statement"
   ],
   "metadata": {}
  },
  {
   "cell_type": "code",
   "execution_count": null,
   "source": [
    "c.incomeStatement(symbol)"
   ],
   "outputs": [],
   "metadata": {}
  },
  {
   "cell_type": "code",
   "execution_count": null,
   "source": [
    "c.incomeStatementDF(symbol)"
   ],
   "outputs": [],
   "metadata": {}
  },
  {
   "cell_type": "markdown",
   "source": [
    "## Insider Roster"
   ],
   "metadata": {}
  },
  {
   "cell_type": "code",
   "execution_count": null,
   "source": [
    "c.insiderRoster(symbol)"
   ],
   "outputs": [],
   "metadata": {}
  },
  {
   "cell_type": "code",
   "execution_count": null,
   "source": [
    "c.insiderRosterDF(symbol)"
   ],
   "outputs": [],
   "metadata": {}
  },
  {
   "cell_type": "markdown",
   "source": [
    "## Insider Summary"
   ],
   "metadata": {}
  },
  {
   "cell_type": "code",
   "execution_count": null,
   "source": [
    "c.insiderSummary(symbol)"
   ],
   "outputs": [],
   "metadata": {}
  },
  {
   "cell_type": "code",
   "execution_count": null,
   "source": [
    "c.insiderSummaryDF(symbol)"
   ],
   "outputs": [],
   "metadata": {}
  },
  {
   "cell_type": "markdown",
   "source": [
    "## Insider Transactions"
   ],
   "metadata": {}
  },
  {
   "cell_type": "code",
   "execution_count": null,
   "source": [
    "c.insiderTransactions(symbol)[:5]"
   ],
   "outputs": [],
   "metadata": {}
  },
  {
   "cell_type": "code",
   "execution_count": null,
   "source": [
    "c.insiderTransactionsDF(symbol)"
   ],
   "outputs": [],
   "metadata": {}
  },
  {
   "cell_type": "markdown",
   "source": [
    "## Institutional Ownership"
   ],
   "metadata": {}
  },
  {
   "cell_type": "code",
   "execution_count": null,
   "source": [
    "c.institutionalOwnership(symbol)"
   ],
   "outputs": [],
   "metadata": {}
  },
  {
   "cell_type": "code",
   "execution_count": null,
   "source": [
    "c.institutionalOwnershipDF(symbol)"
   ],
   "outputs": [],
   "metadata": {}
  },
  {
   "cell_type": "markdown",
   "source": [
    "## Intraday Prices"
   ],
   "metadata": {}
  },
  {
   "cell_type": "code",
   "execution_count": null,
   "source": [
    "c.intraday(symbol)[:5]"
   ],
   "outputs": [],
   "metadata": {}
  },
  {
   "cell_type": "code",
   "execution_count": null,
   "source": [
    "c.intradayDF(symbol).head()"
   ],
   "outputs": [],
   "metadata": {}
  },
  {
   "cell_type": "markdown",
   "source": [
    "## IPO Calendar"
   ],
   "metadata": {}
  },
  {
   "cell_type": "code",
   "execution_count": null,
   "source": [
    "c.ipoToday()"
   ],
   "outputs": [],
   "metadata": {}
  },
  {
   "cell_type": "code",
   "execution_count": null,
   "source": [
    "c.ipoTodayDF()"
   ],
   "outputs": [],
   "metadata": {}
  },
  {
   "cell_type": "code",
   "execution_count": null,
   "source": [
    "c.ipoUpcoming()"
   ],
   "outputs": [],
   "metadata": {}
  },
  {
   "cell_type": "code",
   "execution_count": null,
   "source": [
    "c.ipoUpcomingDF()"
   ],
   "outputs": [],
   "metadata": {}
  },
  {
   "cell_type": "markdown",
   "source": [
    "## Key Stats"
   ],
   "metadata": {}
  },
  {
   "cell_type": "code",
   "execution_count": null,
   "source": [
    "c.keyStats(symbol)"
   ],
   "outputs": [],
   "metadata": {}
  },
  {
   "cell_type": "code",
   "execution_count": null,
   "source": [
    "c.keyStatsDF(symbol)"
   ],
   "outputs": [],
   "metadata": {}
  },
  {
   "cell_type": "markdown",
   "source": [
    "## Largest Trades"
   ],
   "metadata": {}
  },
  {
   "cell_type": "code",
   "execution_count": null,
   "source": [
    "c.largestTrades(symbol)"
   ],
   "outputs": [],
   "metadata": {}
  },
  {
   "cell_type": "code",
   "execution_count": null,
   "source": [
    "c.largestTradesDF(symbol)"
   ],
   "outputs": [],
   "metadata": {}
  },
  {
   "cell_type": "markdown",
   "source": [
    "## List"
   ],
   "metadata": {}
  },
  {
   "cell_type": "code",
   "execution_count": null,
   "source": [
    "c.list()[:5]"
   ],
   "outputs": [],
   "metadata": {}
  },
  {
   "cell_type": "code",
   "execution_count": null,
   "source": [
    "c.listDF().head()"
   ],
   "outputs": [],
   "metadata": {}
  },
  {
   "cell_type": "markdown",
   "source": [
    "## Logo"
   ],
   "metadata": {}
  },
  {
   "cell_type": "code",
   "execution_count": null,
   "source": [
    "c.logo(symbol)"
   ],
   "outputs": [],
   "metadata": {}
  },
  {
   "cell_type": "code",
   "execution_count": null,
   "source": [
    "c.logoPNG(symbol) # Not available for sandbox"
   ],
   "outputs": [],
   "metadata": {}
  },
  {
   "cell_type": "code",
   "execution_count": null,
   "source": [
    "c.logoNotebook(symbol) # Not available for sandbox"
   ],
   "outputs": [],
   "metadata": {}
  },
  {
   "cell_type": "markdown",
   "source": [
    "## Market Volume"
   ],
   "metadata": {}
  },
  {
   "cell_type": "code",
   "execution_count": null,
   "source": [
    "c.marketVolume()[:5]"
   ],
   "outputs": [],
   "metadata": {}
  },
  {
   "cell_type": "code",
   "execution_count": null,
   "source": [
    "c.marketVolumeDF()"
   ],
   "outputs": [],
   "metadata": {}
  },
  {
   "cell_type": "markdown",
   "source": [
    "## News"
   ],
   "metadata": {}
  },
  {
   "cell_type": "code",
   "execution_count": null,
   "source": [
    "c.news(symbol)[:5]"
   ],
   "outputs": [],
   "metadata": {}
  },
  {
   "cell_type": "code",
   "execution_count": null,
   "source": [
    "c.newsDF(symbol).head()"
   ],
   "outputs": [],
   "metadata": {}
  },
  {
   "cell_type": "code",
   "execution_count": null,
   "source": [
    "c.marketNews()[:5]"
   ],
   "outputs": [],
   "metadata": {}
  },
  {
   "cell_type": "code",
   "execution_count": null,
   "source": [
    "c.marketNewsDF().head()"
   ],
   "outputs": [],
   "metadata": {}
  },
  {
   "cell_type": "markdown",
   "source": [
    "## OHLC"
   ],
   "metadata": {}
  },
  {
   "cell_type": "code",
   "execution_count": null,
   "source": [
    "c.ohlc(symbol)"
   ],
   "outputs": [],
   "metadata": {}
  },
  {
   "cell_type": "code",
   "execution_count": null,
   "source": [
    "c.ohlcDF(symbol)"
   ],
   "outputs": [],
   "metadata": {}
  },
  {
   "cell_type": "markdown",
   "source": [
    "## Open/Close Price"
   ],
   "metadata": {}
  },
  {
   "cell_type": "code",
   "execution_count": null,
   "source": [
    "c.ohlc(symbol)"
   ],
   "outputs": [],
   "metadata": {}
  },
  {
   "cell_type": "code",
   "execution_count": null,
   "source": [
    "c.ohlcDF(symbol)"
   ],
   "outputs": [],
   "metadata": {}
  },
  {
   "cell_type": "markdown",
   "source": [
    "## Options"
   ],
   "metadata": {}
  },
  {
   "cell_type": "code",
   "execution_count": null,
   "source": [
    "exps = c.optionExpirations(symbol)\n",
    "exps"
   ],
   "outputs": [],
   "metadata": {}
  },
  {
   "cell_type": "code",
   "execution_count": null,
   "source": [
    "c.options(symbol, exps[0])[:5]"
   ],
   "outputs": [],
   "metadata": {}
  },
  {
   "cell_type": "code",
   "execution_count": null,
   "source": [
    "c.optionsDF(symbol, exps[0]).head()"
   ],
   "outputs": [],
   "metadata": {}
  },
  {
   "cell_type": "markdown",
   "source": [
    "## Peers"
   ],
   "metadata": {}
  },
  {
   "cell_type": "code",
   "execution_count": null,
   "source": [
    "c.peers(symbol)"
   ],
   "outputs": [],
   "metadata": {}
  },
  {
   "cell_type": "code",
   "execution_count": null,
   "source": [
    "c.peersDF(symbol)"
   ],
   "outputs": [],
   "metadata": {}
  },
  {
   "cell_type": "markdown",
   "source": [
    "## Previous Day Price"
   ],
   "metadata": {}
  },
  {
   "cell_type": "code",
   "execution_count": null,
   "source": [
    "c.yesterday(symbol)"
   ],
   "outputs": [],
   "metadata": {}
  },
  {
   "cell_type": "code",
   "execution_count": null,
   "source": [
    "c.yesterdayDF(symbol)"
   ],
   "outputs": [],
   "metadata": {}
  },
  {
   "cell_type": "code",
   "execution_count": null,
   "source": [
    "c.marketYesterday()['A']"
   ],
   "outputs": [],
   "metadata": {}
  },
  {
   "cell_type": "code",
   "execution_count": null,
   "source": [
    "c.marketYesterdayDF().head()"
   ],
   "outputs": [],
   "metadata": {}
  },
  {
   "cell_type": "markdown",
   "source": [
    "## Price"
   ],
   "metadata": {}
  },
  {
   "cell_type": "code",
   "execution_count": null,
   "source": [
    "c.price(symbol)"
   ],
   "outputs": [],
   "metadata": {}
  },
  {
   "cell_type": "code",
   "execution_count": null,
   "source": [
    "c.priceDF(symbol)"
   ],
   "outputs": [],
   "metadata": {}
  },
  {
   "cell_type": "markdown",
   "source": [
    "## Price Target"
   ],
   "metadata": {}
  },
  {
   "cell_type": "code",
   "execution_count": null,
   "source": [
    "c.priceTarget(symbol)"
   ],
   "outputs": [],
   "metadata": {}
  },
  {
   "cell_type": "code",
   "execution_count": null,
   "source": [
    "c.priceTargetDF(symbol)"
   ],
   "outputs": [],
   "metadata": {}
  },
  {
   "cell_type": "markdown",
   "source": [
    "## Quote"
   ],
   "metadata": {}
  },
  {
   "cell_type": "code",
   "execution_count": null,
   "source": [
    "c.quote(symbol)"
   ],
   "outputs": [],
   "metadata": {}
  },
  {
   "cell_type": "code",
   "execution_count": null,
   "source": [
    "c.quoteDF(symbol)"
   ],
   "outputs": [],
   "metadata": {}
  },
  {
   "cell_type": "markdown",
   "source": [
    "# Recommendation Trends"
   ],
   "metadata": {}
  },
  {
   "cell_type": "code",
   "execution_count": null,
   "source": [],
   "outputs": [],
   "metadata": {}
  },
  {
   "cell_type": "code",
   "execution_count": null,
   "source": [],
   "outputs": [],
   "metadata": {}
  },
  {
   "cell_type": "markdown",
   "source": [
    "# Sector Performance"
   ],
   "metadata": {}
  },
  {
   "cell_type": "code",
   "execution_count": null,
   "source": [
    "c.sectorPerformance()"
   ],
   "outputs": [],
   "metadata": {}
  },
  {
   "cell_type": "code",
   "execution_count": null,
   "source": [
    "c.sectorPerformanceDF()"
   ],
   "outputs": [],
   "metadata": {}
  },
  {
   "cell_type": "markdown",
   "source": [
    "## Splits"
   ],
   "metadata": {}
  },
  {
   "cell_type": "code",
   "execution_count": null,
   "source": [
    "c.splits(symbol)"
   ],
   "outputs": [],
   "metadata": {}
  },
  {
   "cell_type": "code",
   "execution_count": null,
   "source": [
    "c.splitsDF(symbol)"
   ],
   "outputs": [],
   "metadata": {}
  },
  {
   "cell_type": "markdown",
   "source": [
    "## Upcoming Events"
   ],
   "metadata": {}
  },
  {
   "cell_type": "code",
   "execution_count": null,
   "source": [],
   "outputs": [],
   "metadata": {}
  },
  {
   "cell_type": "code",
   "execution_count": null,
   "source": [],
   "outputs": [],
   "metadata": {}
  },
  {
   "cell_type": "markdown",
   "source": [
    "## Volume By Venue"
   ],
   "metadata": {}
  },
  {
   "cell_type": "code",
   "execution_count": null,
   "source": [
    "c.volumeByVenue(symbol)"
   ],
   "outputs": [],
   "metadata": {}
  },
  {
   "cell_type": "code",
   "execution_count": null,
   "source": [
    "c.volumeByVenueDF(symbol)"
   ],
   "outputs": [],
   "metadata": {}
  },
  {
   "cell_type": "markdown",
   "source": [
    "# Alternative"
   ],
   "metadata": {}
  },
  {
   "cell_type": "markdown",
   "source": [
    "## crypto"
   ],
   "metadata": {}
  },
  {
   "cell_type": "code",
   "execution_count": null,
   "source": [
    "# c.crypto()"
   ],
   "outputs": [],
   "metadata": {}
  },
  {
   "cell_type": "code",
   "execution_count": null,
   "source": [
    "# c.cryptoDF()"
   ],
   "outputs": [],
   "metadata": {}
  },
  {
   "cell_type": "markdown",
   "source": [
    "## sentiment"
   ],
   "metadata": {}
  },
  {
   "cell_type": "code",
   "execution_count": null,
   "source": [
    "c.sentiment(symbol)"
   ],
   "outputs": [],
   "metadata": {}
  },
  {
   "cell_type": "code",
   "execution_count": null,
   "source": [
    "c.sentimentDF(symbol)"
   ],
   "outputs": [],
   "metadata": {}
  },
  {
   "cell_type": "markdown",
   "source": [
    "## CEO Compensation"
   ],
   "metadata": {}
  },
  {
   "cell_type": "code",
   "execution_count": null,
   "source": [
    "c.ceoCompensation(symbol)"
   ],
   "outputs": [],
   "metadata": {}
  },
  {
   "cell_type": "code",
   "execution_count": null,
   "source": [
    "c.ceoCompensationDF(symbol)"
   ],
   "outputs": [],
   "metadata": {}
  },
  {
   "cell_type": "markdown",
   "source": [
    "# Forex"
   ],
   "metadata": {}
  },
  {
   "cell_type": "markdown",
   "source": [
    "## Exchange Rates"
   ],
   "metadata": {}
  },
  {
   "cell_type": "code",
   "execution_count": null,
   "source": [],
   "outputs": [],
   "metadata": {}
  },
  {
   "cell_type": "code",
   "execution_count": null,
   "source": [],
   "outputs": [],
   "metadata": {}
  },
  {
   "cell_type": "markdown",
   "source": [
    "# IEX Data"
   ],
   "metadata": {}
  },
  {
   "cell_type": "markdown",
   "source": [
    "## TOPS"
   ],
   "metadata": {}
  },
  {
   "cell_type": "code",
   "execution_count": null,
   "source": [],
   "outputs": [],
   "metadata": {}
  },
  {
   "cell_type": "code",
   "execution_count": null,
   "source": [],
   "outputs": [],
   "metadata": {}
  },
  {
   "cell_type": "markdown",
   "source": [
    "## Last"
   ],
   "metadata": {}
  },
  {
   "cell_type": "code",
   "execution_count": null,
   "source": [],
   "outputs": [],
   "metadata": {}
  },
  {
   "cell_type": "code",
   "execution_count": null,
   "source": [],
   "outputs": [],
   "metadata": {}
  },
  {
   "cell_type": "markdown",
   "source": [
    "## DEEP"
   ],
   "metadata": {}
  },
  {
   "cell_type": "code",
   "execution_count": null,
   "source": [],
   "outputs": [],
   "metadata": {}
  },
  {
   "cell_type": "code",
   "execution_count": null,
   "source": [],
   "outputs": [],
   "metadata": {}
  },
  {
   "cell_type": "markdown",
   "source": [
    "## DEEP Auction"
   ],
   "metadata": {}
  },
  {
   "cell_type": "code",
   "execution_count": null,
   "source": [],
   "outputs": [],
   "metadata": {}
  },
  {
   "cell_type": "code",
   "execution_count": null,
   "source": [],
   "outputs": [],
   "metadata": {}
  },
  {
   "cell_type": "markdown",
   "source": [
    "## DEEP Book"
   ],
   "metadata": {}
  },
  {
   "cell_type": "code",
   "execution_count": null,
   "source": [],
   "outputs": [],
   "metadata": {}
  },
  {
   "cell_type": "code",
   "execution_count": null,
   "source": [],
   "outputs": [],
   "metadata": {}
  },
  {
   "cell_type": "markdown",
   "source": [
    "## DEEP Operational Halt Status"
   ],
   "metadata": {}
  },
  {
   "cell_type": "code",
   "execution_count": null,
   "source": [],
   "outputs": [],
   "metadata": {}
  },
  {
   "cell_type": "code",
   "execution_count": null,
   "source": [],
   "outputs": [],
   "metadata": {}
  },
  {
   "cell_type": "markdown",
   "source": [
    "## DEEP Official Price"
   ],
   "metadata": {}
  },
  {
   "cell_type": "code",
   "execution_count": null,
   "source": [],
   "outputs": [],
   "metadata": {}
  },
  {
   "cell_type": "code",
   "execution_count": null,
   "source": [],
   "outputs": [],
   "metadata": {}
  },
  {
   "cell_type": "markdown",
   "source": [
    "## DEEP Security Event"
   ],
   "metadata": {}
  },
  {
   "cell_type": "code",
   "execution_count": null,
   "source": [],
   "outputs": [],
   "metadata": {}
  },
  {
   "cell_type": "code",
   "execution_count": null,
   "source": [],
   "outputs": [],
   "metadata": {}
  },
  {
   "cell_type": "markdown",
   "source": [
    "## DEEP Short Sale Price Test Status"
   ],
   "metadata": {}
  },
  {
   "cell_type": "code",
   "execution_count": null,
   "source": [],
   "outputs": [],
   "metadata": {}
  },
  {
   "cell_type": "code",
   "execution_count": null,
   "source": [],
   "outputs": [],
   "metadata": {}
  },
  {
   "cell_type": "markdown",
   "source": [
    "## DEEP System Event"
   ],
   "metadata": {}
  },
  {
   "cell_type": "code",
   "execution_count": null,
   "source": [],
   "outputs": [],
   "metadata": {}
  },
  {
   "cell_type": "code",
   "execution_count": null,
   "source": [],
   "outputs": [],
   "metadata": {}
  },
  {
   "cell_type": "markdown",
   "source": [
    "## DEEP Trades"
   ],
   "metadata": {}
  },
  {
   "cell_type": "code",
   "execution_count": null,
   "source": [],
   "outputs": [],
   "metadata": {}
  },
  {
   "cell_type": "code",
   "execution_count": null,
   "source": [],
   "outputs": [],
   "metadata": {}
  },
  {
   "cell_type": "markdown",
   "source": [
    "## DEEP Trade Break"
   ],
   "metadata": {}
  },
  {
   "cell_type": "code",
   "execution_count": null,
   "source": [],
   "outputs": [],
   "metadata": {}
  },
  {
   "cell_type": "code",
   "execution_count": null,
   "source": [],
   "outputs": [],
   "metadata": {}
  },
  {
   "cell_type": "markdown",
   "source": [
    "## DEEP Trading Status"
   ],
   "metadata": {}
  },
  {
   "cell_type": "code",
   "execution_count": null,
   "source": [],
   "outputs": [],
   "metadata": {}
  },
  {
   "cell_type": "code",
   "execution_count": null,
   "source": [],
   "outputs": [],
   "metadata": {}
  },
  {
   "cell_type": "markdown",
   "source": [
    "## Listed Regulation SHO Threshold Securities List In Dev"
   ],
   "metadata": {}
  },
  {
   "cell_type": "code",
   "execution_count": null,
   "source": [],
   "outputs": [],
   "metadata": {}
  },
  {
   "cell_type": "code",
   "execution_count": null,
   "source": [],
   "outputs": [],
   "metadata": {}
  },
  {
   "cell_type": "markdown",
   "source": [
    "## Listed Short Interest List In Dev"
   ],
   "metadata": {}
  },
  {
   "cell_type": "code",
   "execution_count": null,
   "source": [],
   "outputs": [],
   "metadata": {}
  },
  {
   "cell_type": "code",
   "execution_count": null,
   "source": [],
   "outputs": [],
   "metadata": {}
  },
  {
   "cell_type": "markdown",
   "source": [
    "## Stats Historical Daily In Dev"
   ],
   "metadata": {}
  },
  {
   "cell_type": "code",
   "execution_count": null,
   "source": [],
   "outputs": [],
   "metadata": {}
  },
  {
   "cell_type": "code",
   "execution_count": null,
   "source": [],
   "outputs": [],
   "metadata": {}
  },
  {
   "cell_type": "markdown",
   "source": [
    "## Stats Historical Summary"
   ],
   "metadata": {}
  },
  {
   "cell_type": "code",
   "execution_count": null,
   "source": [],
   "outputs": [],
   "metadata": {}
  },
  {
   "cell_type": "code",
   "execution_count": null,
   "source": [],
   "outputs": [],
   "metadata": {}
  },
  {
   "cell_type": "markdown",
   "source": [
    "## Stats Intraday"
   ],
   "metadata": {}
  },
  {
   "cell_type": "code",
   "execution_count": null,
   "source": [],
   "outputs": [],
   "metadata": {}
  },
  {
   "cell_type": "code",
   "execution_count": null,
   "source": [],
   "outputs": [],
   "metadata": {}
  },
  {
   "cell_type": "markdown",
   "source": [
    "## Stats Recent"
   ],
   "metadata": {}
  },
  {
   "cell_type": "code",
   "execution_count": null,
   "source": [],
   "outputs": [],
   "metadata": {}
  },
  {
   "cell_type": "code",
   "execution_count": null,
   "source": [],
   "outputs": [],
   "metadata": {}
  },
  {
   "cell_type": "markdown",
   "source": [
    "## Stats Records"
   ],
   "metadata": {}
  },
  {
   "cell_type": "code",
   "execution_count": null,
   "source": [],
   "outputs": [],
   "metadata": {}
  },
  {
   "cell_type": "code",
   "execution_count": null,
   "source": [],
   "outputs": [],
   "metadata": {}
  },
  {
   "cell_type": "markdown",
   "source": [
    "# API Metadata"
   ],
   "metadata": {}
  },
  {
   "cell_type": "code",
   "execution_count": null,
   "source": [],
   "outputs": [],
   "metadata": {}
  },
  {
   "cell_type": "code",
   "execution_count": null,
   "source": [],
   "outputs": [],
   "metadata": {}
  },
  {
   "cell_type": "code",
   "execution_count": null,
   "source": [],
   "outputs": [],
   "metadata": {}
  },
  {
   "cell_type": "code",
   "execution_count": null,
   "source": [],
   "outputs": [],
   "metadata": {}
  },
  {
   "cell_type": "code",
   "execution_count": null,
   "source": [],
   "outputs": [],
   "metadata": {}
  },
  {
   "cell_type": "code",
   "execution_count": null,
   "source": [],
   "outputs": [],
   "metadata": {}
  },
  {
   "cell_type": "code",
   "execution_count": null,
   "source": [],
   "outputs": [],
   "metadata": {}
  },
  {
   "cell_type": "code",
   "execution_count": null,
   "source": [],
   "outputs": [],
   "metadata": {}
  },
  {
   "cell_type": "code",
   "execution_count": null,
   "source": [],
   "outputs": [],
   "metadata": {}
  },
  {
   "cell_type": "code",
   "execution_count": null,
   "source": [],
   "outputs": [],
   "metadata": {}
  },
  {
   "cell_type": "code",
   "execution_count": null,
   "source": [],
   "outputs": [],
   "metadata": {}
  }
 ],
 "metadata": {
  "kernelspec": {
   "name": "python3",
   "display_name": "Python 3.8.10 64-bit ('env')"
  },
  "language_info": {
   "codemirror_mode": {
    "name": "ipython",
    "version": 3
   },
   "file_extension": ".py",
   "mimetype": "text/x-python",
   "name": "python",
   "nbconvert_exporter": "python",
   "pygments_lexer": "ipython3",
   "version": "3.8.10"
  },
  "interpreter": {
   "hash": "f40cd7475cd485216e97463d48b9c8f47f6d4bce119e5cf259db793682e44cdd"
  }
 },
 "nbformat": 4,
 "nbformat_minor": 4
}